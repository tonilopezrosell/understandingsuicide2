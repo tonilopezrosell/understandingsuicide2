{
 "cells": [
  {
   "cell_type": "markdown",
   "metadata": {},
   "source": [
    "## REQUERIMENTS BEFORE RUNNING THIS NOTEBOOK"
   ]
  },
  {
   "cell_type": "markdown",
   "metadata": {},
   "source": [
    "### Download the data first, if you don't...\n",
    "You must download the following repository: https://github.com/tonilopezrosell/understandingsuicide\n",
    "There you can find the Data, the notebooks and the README (with the instructions about the definition of the file structure that allows the correct functioning of the code and with the correct order of the execution of the notebooks)."
   ]
  },
  {
   "cell_type": "markdown",
   "metadata": {},
   "source": [
    "### With the data downloaded...\n",
    "You must execute 'Unemployment_Time_Series_Reading_and_Cleansing_Data' and 'Suicide_Time_Series_Reading_and_Cleansing_Data' (you can find both in the repository mentioned above) before running this one."
   ]
  },
  {
   "cell_type": "markdown",
   "metadata": {},
   "source": [
    "### Libraries needed..."
   ]
  },
  {
   "cell_type": "code",
   "execution_count": 1,
   "metadata": {},
   "outputs": [
    {
     "name": "stderr",
     "output_type": "stream",
     "text": [
      "Installing package into 'C:/Users/Toni/Documents/R/win-library/3.5'\n",
      "(as 'lib' is unspecified)\n",
      "Warning message:\n",
      "\"unable to access index for repository http://www.stats.ox.ac.uk/pub/RWin/bin/windows/contrib/3.5:\n",
      "  no fue posible abrir la URL 'http://www.stats.ox.ac.uk/pub/RWin/bin/windows/contrib/3.5/PACKAGES'\""
     ]
    },
    {
     "name": "stdout",
     "output_type": "stream",
     "text": [
      "package 'FitAR' successfully unpacked and MD5 sums checked\n",
      "\n",
      "The downloaded binary packages are in\n",
      "\tC:\\Users\\Toni\\AppData\\Local\\Temp\\Rtmp6rSPFp\\downloaded_packages\n"
     ]
    },
    {
     "name": "stderr",
     "output_type": "stream",
     "text": [
      "Loading required package: lattice\n",
      "Loading required package: leaps\n",
      "Loading required package: ltsa\n",
      "Loading required package: bestglm\n",
      "Installing package into 'C:/Users/Toni/Documents/R/win-library/3.5'\n",
      "(as 'lib' is unspecified)\n",
      "Warning message:\n",
      "\"unable to access index for repository http://www.stats.ox.ac.uk/pub/RWin/bin/windows/contrib/3.5:\n",
      "  no fue posible abrir la URL 'http://www.stats.ox.ac.uk/pub/RWin/bin/windows/contrib/3.5/PACKAGES'\""
     ]
    },
    {
     "name": "stdout",
     "output_type": "stream",
     "text": [
      "package 'tidyverse' successfully unpacked and MD5 sums checked\n",
      "\n",
      "The downloaded binary packages are in\n",
      "\tC:\\Users\\Toni\\AppData\\Local\\Temp\\Rtmp6rSPFp\\downloaded_packages\n"
     ]
    },
    {
     "name": "stderr",
     "output_type": "stream",
     "text": [
      "-- Attaching packages --------------------------------------- tidyverse 1.2.1 --\n",
      "v ggplot2 3.1.0       v purrr   0.3.0  \n",
      "v tibble  2.0.1       v dplyr   0.8.0.1\n",
      "v tidyr   0.8.2       v stringr 1.4.0  \n",
      "v readr   1.3.1       v forcats 0.4.0  \n",
      "Warning message:\n",
      "\"package 'ggplot2' was built under R version 3.5.2\"Warning message:\n",
      "\"package 'tibble' was built under R version 3.5.2\"Warning message:\n",
      "\"package 'tidyr' was built under R version 3.5.2\"Warning message:\n",
      "\"package 'readr' was built under R version 3.5.2\"Warning message:\n",
      "\"package 'purrr' was built under R version 3.5.2\"Warning message:\n",
      "\"package 'dplyr' was built under R version 3.5.2\"Warning message:\n",
      "\"package 'stringr' was built under R version 3.5.2\"Warning message:\n",
      "\"package 'forcats' was built under R version 3.5.2\"-- Conflicts ------------------------------------------ tidyverse_conflicts() --\n",
      "x dplyr::filter() masks stats::filter()\n",
      "x dplyr::lag()    masks stats::lag()\n",
      "Installing package into 'C:/Users/Toni/Documents/R/win-library/3.5'\n",
      "(as 'lib' is unspecified)\n",
      "Warning message:\n",
      "\"unable to access index for repository http://www.stats.ox.ac.uk/pub/RWin/bin/windows/contrib/3.5:\n",
      "  no fue posible abrir la URL 'http://www.stats.ox.ac.uk/pub/RWin/bin/windows/contrib/3.5/PACKAGES'\"Warning message:\n",
      "\"package 'purrr' is in use and will not be installed\"Installing package into 'C:/Users/Toni/Documents/R/win-library/3.5'\n",
      "(as 'lib' is unspecified)\n",
      "Warning message:\n",
      "\"unable to access index for repository http://www.stats.ox.ac.uk/pub/RWin/bin/windows/contrib/3.5:\n",
      "  no fue posible abrir la URL 'http://www.stats.ox.ac.uk/pub/RWin/bin/windows/contrib/3.5/PACKAGES'\""
     ]
    },
    {
     "name": "stdout",
     "output_type": "stream",
     "text": [
      "package 'roll' successfully unpacked and MD5 sums checked\n",
      "\n",
      "The downloaded binary packages are in\n",
      "\tC:\\Users\\Toni\\AppData\\Local\\Temp\\Rtmp6rSPFp\\downloaded_packages\n"
     ]
    },
    {
     "name": "stderr",
     "output_type": "stream",
     "text": [
      "Installing package into 'C:/Users/Toni/Documents/R/win-library/3.5'\n",
      "(as 'lib' is unspecified)\n",
      "Warning message:\n",
      "\"unable to access index for repository http://www.stats.ox.ac.uk/pub/RWin/bin/windows/contrib/3.5:\n",
      "  no fue posible abrir la URL 'http://www.stats.ox.ac.uk/pub/RWin/bin/windows/contrib/3.5/PACKAGES'\""
     ]
    },
    {
     "name": "stdout",
     "output_type": "stream",
     "text": [
      "package 'scales' successfully unpacked and MD5 sums checked\n",
      "\n",
      "The downloaded binary packages are in\n",
      "\tC:\\Users\\Toni\\AppData\\Local\\Temp\\Rtmp6rSPFp\\downloaded_packages\n"
     ]
    },
    {
     "name": "stderr",
     "output_type": "stream",
     "text": [
      "Loading required package: scales\n",
      "\n",
      "Attaching package: 'scales'\n",
      "\n",
      "The following object is masked from 'package:purrr':\n",
      "\n",
      "    discard\n",
      "\n",
      "The following object is masked from 'package:readr':\n",
      "\n",
      "    col_factor\n",
      "\n",
      "Installing package into 'C:/Users/Toni/Documents/R/win-library/3.5'\n",
      "(as 'lib' is unspecified)\n",
      "Warning message:\n",
      "\"unable to access index for repository http://www.stats.ox.ac.uk/pub/RWin/bin/windows/contrib/3.5:\n",
      "  no fue posible abrir la URL 'http://www.stats.ox.ac.uk/pub/RWin/bin/windows/contrib/3.5/PACKAGES'\""
     ]
    },
    {
     "name": "stdout",
     "output_type": "stream",
     "text": [
      "package 'pracma' successfully unpacked and MD5 sums checked\n",
      "\n",
      "The downloaded binary packages are in\n",
      "\tC:\\Users\\Toni\\AppData\\Local\\Temp\\Rtmp6rSPFp\\downloaded_packages\n"
     ]
    },
    {
     "name": "stderr",
     "output_type": "stream",
     "text": [
      "\n",
      "Attaching package: 'pracma'\n",
      "\n",
      "The following object is masked from 'package:purrr':\n",
      "\n",
      "    cross\n",
      "\n",
      "Installing package into 'C:/Users/Toni/Documents/R/win-library/3.5'\n",
      "(as 'lib' is unspecified)\n",
      "Warning message:\n",
      "\"unable to access index for repository http://www.stats.ox.ac.uk/pub/RWin/bin/windows/contrib/3.5:\n",
      "  no fue posible abrir la URL 'http://www.stats.ox.ac.uk/pub/RWin/bin/windows/contrib/3.5/PACKAGES'\""
     ]
    },
    {
     "name": "stdout",
     "output_type": "stream",
     "text": [
      "package 'TTR' successfully unpacked and MD5 sums checked\n",
      "\n",
      "The downloaded binary packages are in\n",
      "\tC:\\Users\\Toni\\AppData\\Local\\Temp\\Rtmp6rSPFp\\downloaded_packages\n"
     ]
    },
    {
     "name": "stderr",
     "output_type": "stream",
     "text": [
      "Installing package into 'C:/Users/Toni/Documents/R/win-library/3.5'\n",
      "(as 'lib' is unspecified)\n",
      "Warning message:\n",
      "\"unable to access index for repository http://www.stats.ox.ac.uk/pub/RWin/bin/windows/contrib/3.5:\n",
      "  no fue posible abrir la URL 'http://www.stats.ox.ac.uk/pub/RWin/bin/windows/contrib/3.5/PACKAGES'\"Warning message:\n",
      "\"package 'stringr' is in use and will not be installed\"Installing package into 'C:/Users/Toni/Documents/R/win-library/3.5'\n",
      "(as 'lib' is unspecified)\n",
      "Warning message:\n",
      "\"unable to access index for repository http://www.stats.ox.ac.uk/pub/RWin/bin/windows/contrib/3.5:\n",
      "  no fue posible abrir la URL 'http://www.stats.ox.ac.uk/pub/RWin/bin/windows/contrib/3.5/PACKAGES'\""
     ]
    },
    {
     "name": "stdout",
     "output_type": "stream",
     "text": [
      "package 'pdftools' successfully unpacked and MD5 sums checked\n",
      "\n",
      "The downloaded binary packages are in\n",
      "\tC:\\Users\\Toni\\AppData\\Local\\Temp\\Rtmp6rSPFp\\downloaded_packages\n"
     ]
    },
    {
     "name": "stderr",
     "output_type": "stream",
     "text": [
      "Installing package into 'C:/Users/Toni/Documents/R/win-library/3.5'\n",
      "(as 'lib' is unspecified)\n",
      "Warning message:\n",
      "\"unable to access index for repository http://www.stats.ox.ac.uk/pub/RWin/bin/windows/contrib/3.5:\n",
      "  no fue posible abrir la URL 'http://www.stats.ox.ac.uk/pub/RWin/bin/windows/contrib/3.5/PACKAGES'\""
     ]
    },
    {
     "name": "stdout",
     "output_type": "stream",
     "text": [
      "package 'dslabs' successfully unpacked and MD5 sums checked\n",
      "\n",
      "The downloaded binary packages are in\n",
      "\tC:\\Users\\Toni\\AppData\\Local\\Temp\\Rtmp6rSPFp\\downloaded_packages\n"
     ]
    },
    {
     "name": "stderr",
     "output_type": "stream",
     "text": [
      "Installing package into 'C:/Users/Toni/Documents/R/win-library/3.5'\n",
      "(as 'lib' is unspecified)\n",
      "Warning message:\n",
      "\"unable to access index for repository http://www.stats.ox.ac.uk/pub/RWin/bin/windows/contrib/3.5:\n",
      "  no fue posible abrir la URL 'http://www.stats.ox.ac.uk/pub/RWin/bin/windows/contrib/3.5/PACKAGES'\""
     ]
    },
    {
     "name": "stdout",
     "output_type": "stream",
     "text": [
      "package 'lubridate' successfully unpacked and MD5 sums checked\n"
     ]
    },
    {
     "name": "stderr",
     "output_type": "stream",
     "text": [
      "Warning message:\n",
      "\"cannot remove prior installation of package 'lubridate'\""
     ]
    },
    {
     "name": "stdout",
     "output_type": "stream",
     "text": [
      "\n",
      "The downloaded binary packages are in\n",
      "\tC:\\Users\\Toni\\AppData\\Local\\Temp\\Rtmp6rSPFp\\downloaded_packages\n"
     ]
    },
    {
     "name": "stderr",
     "output_type": "stream",
     "text": [
      "\n",
      "Attaching package: 'lubridate'\n",
      "\n",
      "The following object is masked from 'package:base':\n",
      "\n",
      "    date\n",
      "\n",
      "Installing package into 'C:/Users/Toni/Documents/R/win-library/3.5'\n",
      "(as 'lib' is unspecified)\n",
      "Warning message:\n",
      "\"unable to access index for repository http://www.stats.ox.ac.uk/pub/RWin/bin/windows/contrib/3.5:\n",
      "  no fue posible abrir la URL 'http://www.stats.ox.ac.uk/pub/RWin/bin/windows/contrib/3.5/PACKAGES'\""
     ]
    },
    {
     "name": "stdout",
     "output_type": "stream",
     "text": [
      "package 'WDI' successfully unpacked and MD5 sums checked\n",
      "\n",
      "The downloaded binary packages are in\n",
      "\tC:\\Users\\Toni\\AppData\\Local\\Temp\\Rtmp6rSPFp\\downloaded_packages\n"
     ]
    },
    {
     "name": "stderr",
     "output_type": "stream",
     "text": [
      "Loading required package: RJSONIO\n",
      "Warning message:\n",
      "\"package 'RJSONIO' was built under R version 3.5.2\"Installing package into 'C:/Users/Toni/Documents/R/win-library/3.5'\n",
      "(as 'lib' is unspecified)\n",
      "Warning message:\n",
      "\"unable to access index for repository http://www.stats.ox.ac.uk/pub/RWin/bin/windows/contrib/3.5:\n",
      "  no fue posible abrir la URL 'http://www.stats.ox.ac.uk/pub/RWin/bin/windows/contrib/3.5/PACKAGES'\"Warning message:\n",
      "\"package 'ggplot2' is in use and will not be installed\"Installing package into 'C:/Users/Toni/Documents/R/win-library/3.5'\n",
      "(as 'lib' is unspecified)\n",
      "Warning message:\n",
      "\"unable to access index for repository http://www.stats.ox.ac.uk/pub/RWin/bin/windows/contrib/3.5:\n",
      "  no fue posible abrir la URL 'http://www.stats.ox.ac.uk/pub/RWin/bin/windows/contrib/3.5/PACKAGES'\""
     ]
    },
    {
     "name": "stdout",
     "output_type": "stream",
     "text": [
      "package 'fpp2' successfully unpacked and MD5 sums checked\n",
      "\n",
      "The downloaded binary packages are in\n",
      "\tC:\\Users\\Toni\\AppData\\Local\\Temp\\Rtmp6rSPFp\\downloaded_packages\n"
     ]
    },
    {
     "name": "stderr",
     "output_type": "stream",
     "text": [
      "Loading required package: forecast\n",
      "\n",
      "Attaching package: 'forecast'\n",
      "\n",
      "The following object is masked from 'package:FitAR':\n",
      "\n",
      "    BoxCox\n",
      "\n",
      "Loading required package: fma\n",
      "Loading required package: expsmooth\n",
      "Installing package into 'C:/Users/Toni/Documents/R/win-library/3.5'\n",
      "(as 'lib' is unspecified)\n",
      "Warning message:\n",
      "\"unable to access index for repository http://www.stats.ox.ac.uk/pub/RWin/bin/windows/contrib/3.5:\n",
      "  no fue posible abrir la URL 'http://www.stats.ox.ac.uk/pub/RWin/bin/windows/contrib/3.5/PACKAGES'\""
     ]
    },
    {
     "name": "stdout",
     "output_type": "stream",
     "text": [
      "package 'tseries' successfully unpacked and MD5 sums checked\n"
     ]
    },
    {
     "name": "stderr",
     "output_type": "stream",
     "text": [
      "Warning message:\n",
      "\"cannot remove prior installation of package 'tseries'\""
     ]
    },
    {
     "name": "stdout",
     "output_type": "stream",
     "text": [
      "\n",
      "The downloaded binary packages are in\n",
      "\tC:\\Users\\Toni\\AppData\\Local\\Temp\\Rtmp6rSPFp\\downloaded_packages\n"
     ]
    },
    {
     "name": "stderr",
     "output_type": "stream",
     "text": [
      "Loading required package: tseries\n",
      "Warning message in library(package, lib.loc = lib.loc, character.only = TRUE, logical.return = TRUE, :\n",
      "\"there is no package called 'tseries'\"Installing package into 'C:/Users/Toni/Documents/R/win-library/3.5'\n",
      "(as 'lib' is unspecified)\n",
      "also installing the dependency 'tseries'\n",
      "\n",
      "Warning message:\n",
      "\"unable to access index for repository http://www.stats.ox.ac.uk/pub/RWin/bin/windows/contrib/3.5:\n",
      "  no fue posible abrir la URL 'http://www.stats.ox.ac.uk/pub/RWin/bin/windows/contrib/3.5/PACKAGES'\"Warning message:\n",
      "\"package 'forecast' is in use and will not be installed\""
     ]
    },
    {
     "name": "stdout",
     "output_type": "stream",
     "text": [
      "package 'tseries' successfully unpacked and MD5 sums checked\n"
     ]
    },
    {
     "name": "stderr",
     "output_type": "stream",
     "text": [
      "Warning message:\n",
      "\"cannot remove prior installation of package 'tseries'\""
     ]
    },
    {
     "name": "stdout",
     "output_type": "stream",
     "text": [
      "\n",
      "The downloaded binary packages are in\n",
      "\tC:\\Users\\Toni\\AppData\\Local\\Temp\\Rtmp6rSPFp\\downloaded_packages\n"
     ]
    },
    {
     "name": "stderr",
     "output_type": "stream",
     "text": [
      "Installing package into 'C:/Users/Toni/Documents/R/win-library/3.5'\n",
      "(as 'lib' is unspecified)\n",
      "Warning message:\n",
      "\"unable to access index for repository http://www.stats.ox.ac.uk/pub/RWin/bin/windows/contrib/3.5:\n",
      "  no fue posible abrir la URL 'http://www.stats.ox.ac.uk/pub/RWin/bin/windows/contrib/3.5/PACKAGES'\"Warning message:\n",
      "\"package 'fma' is in use and will not be installed\"Installing package into 'C:/Users/Toni/Documents/R/win-library/3.5'\n",
      "(as 'lib' is unspecified)\n",
      "Warning message:\n",
      "\"unable to access index for repository http://www.stats.ox.ac.uk/pub/RWin/bin/windows/contrib/3.5:\n",
      "  no fue posible abrir la URL 'http://www.stats.ox.ac.uk/pub/RWin/bin/windows/contrib/3.5/PACKAGES'\"Warning message:\n",
      "\"package 'expsmooth' is in use and will not be installed\"Installing package into 'C:/Users/Toni/Documents/R/win-library/3.5'\n",
      "(as 'lib' is unspecified)\n",
      "Warning message:\n",
      "\"unable to access index for repository http://www.stats.ox.ac.uk/pub/RWin/bin/windows/contrib/3.5:\n",
      "  no fue posible abrir la URL 'http://www.stats.ox.ac.uk/pub/RWin/bin/windows/contrib/3.5/PACKAGES'\""
     ]
    },
    {
     "name": "stdout",
     "output_type": "stream",
     "text": [
      "package 'seasonal' successfully unpacked and MD5 sums checked\n",
      "\n",
      "The downloaded binary packages are in\n",
      "\tC:\\Users\\Toni\\AppData\\Local\\Temp\\Rtmp6rSPFp\\downloaded_packages\n"
     ]
    },
    {
     "name": "stderr",
     "output_type": "stream",
     "text": [
      "\n",
      "Attaching package: 'seasonal'\n",
      "\n",
      "The following object is masked from 'package:tibble':\n",
      "\n",
      "    view\n",
      "\n",
      "Installing package into 'C:/Users/Toni/Documents/R/win-library/3.5'\n",
      "(as 'lib' is unspecified)\n",
      "Warning message:\n",
      "\"package 'stats' is not available (for R version 3.5.1)\"Warning message:\n",
      "\"package 'stats' is a base package, and should not be updated\"Warning message:\n",
      "\"unable to access index for repository http://www.stats.ox.ac.uk/pub/RWin/bin/windows/contrib/3.5:\n",
      "  no fue posible abrir la URL 'http://www.stats.ox.ac.uk/pub/RWin/bin/windows/contrib/3.5/PACKAGES'\"Installing package into 'C:/Users/Toni/Documents/R/win-library/3.5'\n",
      "(as 'lib' is unspecified)\n",
      "Warning message:\n",
      "\"unable to access index for repository http://www.stats.ox.ac.uk/pub/RWin/bin/windows/contrib/3.5:\n",
      "  no fue posible abrir la URL 'http://www.stats.ox.ac.uk/pub/RWin/bin/windows/contrib/3.5/PACKAGES'\""
     ]
    },
    {
     "name": "stdout",
     "output_type": "stream",
     "text": [
      "package 'aTSA' successfully unpacked and MD5 sums checked\n",
      "\n",
      "The downloaded binary packages are in\n",
      "\tC:\\Users\\Toni\\AppData\\Local\\Temp\\Rtmp6rSPFp\\downloaded_packages\n"
     ]
    },
    {
     "name": "stderr",
     "output_type": "stream",
     "text": [
      "\n",
      "Attaching package: 'aTSA'\n",
      "\n",
      "The following object is masked from 'package:forecast':\n",
      "\n",
      "    forecast\n",
      "\n",
      "The following object is masked from 'package:graphics':\n",
      "\n",
      "    identify\n",
      "\n"
     ]
    }
   ],
   "source": [
    "install.packages(\"FitAR\")\n",
    "library(FitAR)\n",
    "install.packages('tidyverse')\n",
    "library(tidyverse)\n",
    "install.packages('purrr')\n",
    "library(purrr)\n",
    "install.packages('roll')\n",
    "library(roll)\n",
    "install.packages('scales')\n",
    "require(scales)\n",
    "install.packages('pracma')\n",
    "library(pracma)\n",
    "install.packages('TTR')\n",
    "library(TTR)\n",
    "install.packages('stringr')\n",
    "library(stringr)\n",
    "install.packages('pdftools')\n",
    "library(pdftools)\n",
    "install.packages('dslabs')\n",
    "library(dslabs)\n",
    "install.packages('lubridate')\n",
    "library(lubridate)\n",
    "install.packages('WDI')\n",
    "library(WDI)\n",
    "install.packages('ggplot2')\n",
    "library(ggplot2)\n",
    "install.packages('fpp2')\n",
    "library(fpp2)\n",
    "#in case install.packages doesn't work for 'tseries', try: conda install -c r r-tseries=0.10_35 in anaconda prompt.\n",
    "install.packages('tseries')\n",
    "require(tseries)\n",
    "install.packages('forecast')\n",
    "library(forecast)\n",
    "install.packages('fma')\n",
    "library(fma)\n",
    "install.packages('expsmooth')\n",
    "library(expsmooth)\n",
    "install.packages('seasonal')\n",
    "library(seasonal)\n",
    "install.packages('stats')\n",
    "require(stats)\n",
    "install.packages('aTSA')\n",
    "library(aTSA)"
   ]
  },
  {
   "cell_type": "markdown",
   "metadata": {},
   "source": [
    "### The correct path..."
   ]
  },
  {
   "cell_type": "markdown",
   "metadata": {},
   "source": [
    "Establish as a working directory the site where you have saved the folder 'Data' and assign the path of that working directory to the variable 'working_directory'."
   ]
  },
  {
   "cell_type": "code",
   "execution_count": 2,
   "metadata": {},
   "outputs": [],
   "source": [
    "#In my case\n",
    "working_directory = 'C:\\\\Users\\\\Toni\\\\Desktop\\\\understandingsuicide-master\\\\understandingsuicide-master'"
   ]
  },
  {
   "cell_type": "markdown",
   "metadata": {},
   "source": [
    "### In this notebook...\n",
    "\n",
    "We will analyze the time series of suicide and unemployment in Spain from 1998 to 2017, we will make some forecasts and we will study the relationship that may exist between both series:\n",
    "\n",
    "\n",
    "**Analysis of Suicide Time Series**\n",
    "1. Reading the data\n",
    "2. Creating and exploring the Time Series\n",
    "3. Time Series Components Analysis\n",
    "4. Forecasting with ARIMA\n",
    "\n",
    "**Analysis of Unemployment Time Series**\n",
    "1. Reading the data\n",
    "2. Creating and exploring the Time Series\n",
    "3. Time Series Components Analysis\n",
    "4. Forecasting with ARIMA\n",
    "\n",
    "**Relation between Unemployment and Suicide in Spain**\n",
    "1. Prewhitening method and Cross Correlation"
   ]
  },
  {
   "cell_type": "markdown",
   "metadata": {},
   "source": [
    "# Analysis of Suicide Time Series"
   ]
  },
  {
   "cell_type": "markdown",
   "metadata": {},
   "source": [
    "## 1. Reading the Data"
   ]
  },
  {
   "cell_type": "code",
   "execution_count": 3,
   "metadata": {},
   "outputs": [
    {
     "data": {
      "text/html": [
       "<table>\n",
       "<thead><tr><th scope=col>Date</th><th scope=col>N_of_suicides</th></tr></thead>\n",
       "<tbody>\n",
       "\t<tr><td>1998-01-31</td><td>218       </td></tr>\n",
       "\t<tr><td>1998-02-28</td><td>238       </td></tr>\n",
       "\t<tr><td>1998-03-31</td><td>281       </td></tr>\n",
       "\t<tr><td>1998-04-30</td><td>195       </td></tr>\n",
       "\t<tr><td>1998-05-31</td><td>267       </td></tr>\n",
       "\t<tr><td>1998-06-30</td><td>222       </td></tr>\n",
       "\t<tr><td>1998-07-31</td><td>226       </td></tr>\n",
       "\t<tr><td>1998-08-31</td><td>207       </td></tr>\n",
       "\t<tr><td>1998-09-30</td><td>193       </td></tr>\n",
       "\t<tr><td>1998-10-31</td><td>176       </td></tr>\n",
       "\t<tr><td>1998-11-30</td><td>168       </td></tr>\n",
       "\t<tr><td>1998-12-31</td><td>207       </td></tr>\n",
       "\t<tr><td>1999-01-31</td><td>267       </td></tr>\n",
       "\t<tr><td>1999-02-28</td><td>240       </td></tr>\n",
       "\t<tr><td>1999-03-31</td><td>286       </td></tr>\n",
       "\t<tr><td>1999-04-30</td><td>300       </td></tr>\n",
       "\t<tr><td>1999-05-31</td><td>306       </td></tr>\n",
       "\t<tr><td>1999-06-30</td><td>265       </td></tr>\n",
       "\t<tr><td>1999-07-31</td><td>317       </td></tr>\n",
       "\t<tr><td>1999-08-31</td><td>283       </td></tr>\n",
       "\t<tr><td>1999-09-30</td><td>263       </td></tr>\n",
       "\t<tr><td>1999-10-31</td><td>257       </td></tr>\n",
       "\t<tr><td>1999-11-30</td><td>203       </td></tr>\n",
       "\t<tr><td>1999-12-31</td><td>231       </td></tr>\n",
       "\t<tr><td>2000-01-31</td><td>296       </td></tr>\n",
       "\t<tr><td>2000-02-29</td><td>243       </td></tr>\n",
       "\t<tr><td>2000-03-31</td><td>284       </td></tr>\n",
       "\t<tr><td>2000-04-30</td><td>272       </td></tr>\n",
       "\t<tr><td>2000-05-31</td><td>323       </td></tr>\n",
       "\t<tr><td>2000-06-30</td><td>291       </td></tr>\n",
       "\t<tr><td>...</td><td>...</td></tr>\n",
       "\t<tr><td>2015-07-31</td><td>359       </td></tr>\n",
       "\t<tr><td>2015-08-31</td><td>312       </td></tr>\n",
       "\t<tr><td>2015-09-30</td><td>295       </td></tr>\n",
       "\t<tr><td>2015-10-31</td><td>274       </td></tr>\n",
       "\t<tr><td>2015-11-30</td><td>235       </td></tr>\n",
       "\t<tr><td>2015-12-31</td><td>288       </td></tr>\n",
       "\t<tr><td>2016-01-31</td><td>301       </td></tr>\n",
       "\t<tr><td>2016-02-29</td><td>283       </td></tr>\n",
       "\t<tr><td>2016-03-31</td><td>289       </td></tr>\n",
       "\t<tr><td>2016-04-30</td><td>292       </td></tr>\n",
       "\t<tr><td>2016-05-31</td><td>320       </td></tr>\n",
       "\t<tr><td>2016-06-30</td><td>328       </td></tr>\n",
       "\t<tr><td>2016-07-31</td><td>311       </td></tr>\n",
       "\t<tr><td>2016-08-31</td><td>321       </td></tr>\n",
       "\t<tr><td>2016-09-30</td><td>311       </td></tr>\n",
       "\t<tr><td>2016-10-31</td><td>269       </td></tr>\n",
       "\t<tr><td>2016-11-30</td><td>251       </td></tr>\n",
       "\t<tr><td>2016-12-31</td><td>293       </td></tr>\n",
       "\t<tr><td>2017-01-31</td><td>279       </td></tr>\n",
       "\t<tr><td>2017-02-28</td><td>297       </td></tr>\n",
       "\t<tr><td>2017-03-31</td><td>310       </td></tr>\n",
       "\t<tr><td>2017-04-30</td><td>300       </td></tr>\n",
       "\t<tr><td>2017-05-31</td><td>319       </td></tr>\n",
       "\t<tr><td>2017-06-30</td><td>328       </td></tr>\n",
       "\t<tr><td>2017-07-31</td><td>348       </td></tr>\n",
       "\t<tr><td>2017-08-31</td><td>337       </td></tr>\n",
       "\t<tr><td>2017-09-30</td><td>307       </td></tr>\n",
       "\t<tr><td>2017-10-31</td><td>346       </td></tr>\n",
       "\t<tr><td>2017-11-30</td><td>267       </td></tr>\n",
       "\t<tr><td>2017-12-31</td><td>241       </td></tr>\n",
       "</tbody>\n",
       "</table>\n"
      ],
      "text/latex": [
       "\\begin{tabular}{r|ll}\n",
       " Date & N\\_of\\_suicides\\\\\n",
       "\\hline\n",
       "\t 1998-01-31 & 218       \\\\\n",
       "\t 1998-02-28 & 238       \\\\\n",
       "\t 1998-03-31 & 281       \\\\\n",
       "\t 1998-04-30 & 195       \\\\\n",
       "\t 1998-05-31 & 267       \\\\\n",
       "\t 1998-06-30 & 222       \\\\\n",
       "\t 1998-07-31 & 226       \\\\\n",
       "\t 1998-08-31 & 207       \\\\\n",
       "\t 1998-09-30 & 193       \\\\\n",
       "\t 1998-10-31 & 176       \\\\\n",
       "\t 1998-11-30 & 168       \\\\\n",
       "\t 1998-12-31 & 207       \\\\\n",
       "\t 1999-01-31 & 267       \\\\\n",
       "\t 1999-02-28 & 240       \\\\\n",
       "\t 1999-03-31 & 286       \\\\\n",
       "\t 1999-04-30 & 300       \\\\\n",
       "\t 1999-05-31 & 306       \\\\\n",
       "\t 1999-06-30 & 265       \\\\\n",
       "\t 1999-07-31 & 317       \\\\\n",
       "\t 1999-08-31 & 283       \\\\\n",
       "\t 1999-09-30 & 263       \\\\\n",
       "\t 1999-10-31 & 257       \\\\\n",
       "\t 1999-11-30 & 203       \\\\\n",
       "\t 1999-12-31 & 231       \\\\\n",
       "\t 2000-01-31 & 296       \\\\\n",
       "\t 2000-02-29 & 243       \\\\\n",
       "\t 2000-03-31 & 284       \\\\\n",
       "\t 2000-04-30 & 272       \\\\\n",
       "\t 2000-05-31 & 323       \\\\\n",
       "\t 2000-06-30 & 291       \\\\\n",
       "\t ... & ...\\\\\n",
       "\t 2015-07-31 & 359       \\\\\n",
       "\t 2015-08-31 & 312       \\\\\n",
       "\t 2015-09-30 & 295       \\\\\n",
       "\t 2015-10-31 & 274       \\\\\n",
       "\t 2015-11-30 & 235       \\\\\n",
       "\t 2015-12-31 & 288       \\\\\n",
       "\t 2016-01-31 & 301       \\\\\n",
       "\t 2016-02-29 & 283       \\\\\n",
       "\t 2016-03-31 & 289       \\\\\n",
       "\t 2016-04-30 & 292       \\\\\n",
       "\t 2016-05-31 & 320       \\\\\n",
       "\t 2016-06-30 & 328       \\\\\n",
       "\t 2016-07-31 & 311       \\\\\n",
       "\t 2016-08-31 & 321       \\\\\n",
       "\t 2016-09-30 & 311       \\\\\n",
       "\t 2016-10-31 & 269       \\\\\n",
       "\t 2016-11-30 & 251       \\\\\n",
       "\t 2016-12-31 & 293       \\\\\n",
       "\t 2017-01-31 & 279       \\\\\n",
       "\t 2017-02-28 & 297       \\\\\n",
       "\t 2017-03-31 & 310       \\\\\n",
       "\t 2017-04-30 & 300       \\\\\n",
       "\t 2017-05-31 & 319       \\\\\n",
       "\t 2017-06-30 & 328       \\\\\n",
       "\t 2017-07-31 & 348       \\\\\n",
       "\t 2017-08-31 & 337       \\\\\n",
       "\t 2017-09-30 & 307       \\\\\n",
       "\t 2017-10-31 & 346       \\\\\n",
       "\t 2017-11-30 & 267       \\\\\n",
       "\t 2017-12-31 & 241       \\\\\n",
       "\\end{tabular}\n"
      ],
      "text/markdown": [
       "\n",
       "Date | N_of_suicides | \n",
       "|---|---|---|---|---|---|---|---|---|---|---|---|---|---|---|---|---|---|---|---|---|---|---|---|---|---|---|---|---|---|---|---|---|---|---|---|---|---|---|---|---|---|---|---|---|---|---|---|---|---|---|---|---|---|---|---|---|---|---|---|---|\n",
       "| 1998-01-31 | 218        | \n",
       "| 1998-02-28 | 238        | \n",
       "| 1998-03-31 | 281        | \n",
       "| 1998-04-30 | 195        | \n",
       "| 1998-05-31 | 267        | \n",
       "| 1998-06-30 | 222        | \n",
       "| 1998-07-31 | 226        | \n",
       "| 1998-08-31 | 207        | \n",
       "| 1998-09-30 | 193        | \n",
       "| 1998-10-31 | 176        | \n",
       "| 1998-11-30 | 168        | \n",
       "| 1998-12-31 | 207        | \n",
       "| 1999-01-31 | 267        | \n",
       "| 1999-02-28 | 240        | \n",
       "| 1999-03-31 | 286        | \n",
       "| 1999-04-30 | 300        | \n",
       "| 1999-05-31 | 306        | \n",
       "| 1999-06-30 | 265        | \n",
       "| 1999-07-31 | 317        | \n",
       "| 1999-08-31 | 283        | \n",
       "| 1999-09-30 | 263        | \n",
       "| 1999-10-31 | 257        | \n",
       "| 1999-11-30 | 203        | \n",
       "| 1999-12-31 | 231        | \n",
       "| 2000-01-31 | 296        | \n",
       "| 2000-02-29 | 243        | \n",
       "| 2000-03-31 | 284        | \n",
       "| 2000-04-30 | 272        | \n",
       "| 2000-05-31 | 323        | \n",
       "| 2000-06-30 | 291        | \n",
       "| ... | ... | \n",
       "| 2015-07-31 | 359        | \n",
       "| 2015-08-31 | 312        | \n",
       "| 2015-09-30 | 295        | \n",
       "| 2015-10-31 | 274        | \n",
       "| 2015-11-30 | 235        | \n",
       "| 2015-12-31 | 288        | \n",
       "| 2016-01-31 | 301        | \n",
       "| 2016-02-29 | 283        | \n",
       "| 2016-03-31 | 289        | \n",
       "| 2016-04-30 | 292        | \n",
       "| 2016-05-31 | 320        | \n",
       "| 2016-06-30 | 328        | \n",
       "| 2016-07-31 | 311        | \n",
       "| 2016-08-31 | 321        | \n",
       "| 2016-09-30 | 311        | \n",
       "| 2016-10-31 | 269        | \n",
       "| 2016-11-30 | 251        | \n",
       "| 2016-12-31 | 293        | \n",
       "| 2017-01-31 | 279        | \n",
       "| 2017-02-28 | 297        | \n",
       "| 2017-03-31 | 310        | \n",
       "| 2017-04-30 | 300        | \n",
       "| 2017-05-31 | 319        | \n",
       "| 2017-06-30 | 328        | \n",
       "| 2017-07-31 | 348        | \n",
       "| 2017-08-31 | 337        | \n",
       "| 2017-09-30 | 307        | \n",
       "| 2017-10-31 | 346        | \n",
       "| 2017-11-30 | 267        | \n",
       "| 2017-12-31 | 241        | \n",
       "\n",
       "\n"
      ],
      "text/plain": [
       "    Date       N_of_suicides\n",
       "1   1998-01-31 218          \n",
       "2   1998-02-28 238          \n",
       "3   1998-03-31 281          \n",
       "4   1998-04-30 195          \n",
       "5   1998-05-31 267          \n",
       "6   1998-06-30 222          \n",
       "7   1998-07-31 226          \n",
       "8   1998-08-31 207          \n",
       "9   1998-09-30 193          \n",
       "10  1998-10-31 176          \n",
       "11  1998-11-30 168          \n",
       "12  1998-12-31 207          \n",
       "13  1999-01-31 267          \n",
       "14  1999-02-28 240          \n",
       "15  1999-03-31 286          \n",
       "16  1999-04-30 300          \n",
       "17  1999-05-31 306          \n",
       "18  1999-06-30 265          \n",
       "19  1999-07-31 317          \n",
       "20  1999-08-31 283          \n",
       "21  1999-09-30 263          \n",
       "22  1999-10-31 257          \n",
       "23  1999-11-30 203          \n",
       "24  1999-12-31 231          \n",
       "25  2000-01-31 296          \n",
       "26  2000-02-29 243          \n",
       "27  2000-03-31 284          \n",
       "28  2000-04-30 272          \n",
       "29  2000-05-31 323          \n",
       "30  2000-06-30 291          \n",
       "... ...        ...          \n",
       "211 2015-07-31 359          \n",
       "212 2015-08-31 312          \n",
       "213 2015-09-30 295          \n",
       "214 2015-10-31 274          \n",
       "215 2015-11-30 235          \n",
       "216 2015-12-31 288          \n",
       "217 2016-01-31 301          \n",
       "218 2016-02-29 283          \n",
       "219 2016-03-31 289          \n",
       "220 2016-04-30 292          \n",
       "221 2016-05-31 320          \n",
       "222 2016-06-30 328          \n",
       "223 2016-07-31 311          \n",
       "224 2016-08-31 321          \n",
       "225 2016-09-30 311          \n",
       "226 2016-10-31 269          \n",
       "227 2016-11-30 251          \n",
       "228 2016-12-31 293          \n",
       "229 2017-01-31 279          \n",
       "230 2017-02-28 297          \n",
       "231 2017-03-31 310          \n",
       "232 2017-04-30 300          \n",
       "233 2017-05-31 319          \n",
       "234 2017-06-30 328          \n",
       "235 2017-07-31 348          \n",
       "236 2017-08-31 337          \n",
       "237 2017-09-30 307          \n",
       "238 2017-10-31 346          \n",
       "239 2017-11-30 267          \n",
       "240 2017-12-31 241          "
      ]
     },
     "metadata": {},
     "output_type": "display_data"
    }
   ],
   "source": [
    "wkdir_and_path <- cbind(working_directory,'Data\\\\Monthly_suicide_Spain_1998-2017.csv')\n",
    "suicide_filepath <- str_c(wkdir_and_path, collapse = \"\\\\\")\n",
    "suicide_1998_2017 <- read.csv(suicide_filepath)\n",
    "suicide_1998_2017"
   ]
  },
  {
   "cell_type": "markdown",
   "metadata": {},
   "source": [
    "Seems that our date index is not very useful in R code. We need a 'ts' object to use many of the best R resources for time series. The function 'ts' automatically turns our list of values into a time series if you give it start date and frequency."
   ]
  },
  {
   "cell_type": "markdown",
   "metadata": {},
   "source": [
    "## 2. Creating and exploring the Time Series"
   ]
  },
  {
   "cell_type": "code",
   "execution_count": 4,
   "metadata": {},
   "outputs": [
    {
     "data": {
      "text/html": [
       "'ts'"
      ],
      "text/latex": [
       "'ts'"
      ],
      "text/markdown": [
       "'ts'"
      ],
      "text/plain": [
       "[1] \"ts\""
      ]
     },
     "metadata": {},
     "output_type": "display_data"
    }
   ],
   "source": [
    "suicide_1998_2017 <- ts (suicide_1998_2017$N_of_suicides, frequency = 12, start = c(1998,1))\n",
    "class(suicide_1998_2017)"
   ]
  },
  {
   "cell_type": "code",
   "execution_count": 5,
   "metadata": {},
   "outputs": [
    {
     "data": {
      "text/html": [
       "<ol class=list-inline>\n",
       "\t<li>1998</li>\n",
       "\t<li>1</li>\n",
       "</ol>\n"
      ],
      "text/latex": [
       "\\begin{enumerate*}\n",
       "\\item 1998\n",
       "\\item 1\n",
       "\\end{enumerate*}\n"
      ],
      "text/markdown": [
       "1. 1998\n",
       "2. 1\n",
       "\n",
       "\n"
      ],
      "text/plain": [
       "[1] 1998    1"
      ]
     },
     "metadata": {},
     "output_type": "display_data"
    }
   ],
   "source": [
    "#Here we have the start of our time series\n",
    "start(suicide_1998_2017)"
   ]
  },
  {
   "cell_type": "code",
   "execution_count": 6,
   "metadata": {},
   "outputs": [
    {
     "data": {
      "text/html": [
       "<ol class=list-inline>\n",
       "\t<li>2017</li>\n",
       "\t<li>12</li>\n",
       "</ol>\n"
      ],
      "text/latex": [
       "\\begin{enumerate*}\n",
       "\\item 2017\n",
       "\\item 12\n",
       "\\end{enumerate*}\n"
      ],
      "text/markdown": [
       "1. 2017\n",
       "2. 12\n",
       "\n",
       "\n"
      ],
      "text/plain": [
       "[1] 2017   12"
      ]
     },
     "metadata": {},
     "output_type": "display_data"
    }
   ],
   "source": [
    "#And the end\n",
    "end(suicide_1998_2017)"
   ]
  },
  {
   "cell_type": "code",
   "execution_count": 7,
   "metadata": {},
   "outputs": [
    {
     "data": {
      "text/html": [
       "12"
      ],
      "text/latex": [
       "12"
      ],
      "text/markdown": [
       "12"
      ],
      "text/plain": [
       "[1] 12"
      ]
     },
     "metadata": {},
     "output_type": "display_data"
    }
   ],
   "source": [
    "#The cycle of this time series is 12months in a year\n",
    "frequency(suicide_1998_2017)"
   ]
  },
  {
   "cell_type": "code",
   "execution_count": 8,
   "metadata": {},
   "outputs": [
    {
     "data": {
      "text/plain": [
       "     Jan Feb Mar Apr May Jun Jul Aug Sep Oct Nov Dec\n",
       "1998   1   2   3   4   5   6   7   8   9  10  11  12\n",
       "1999   1   2   3   4   5   6   7   8   9  10  11  12\n",
       "2000   1   2   3   4   5   6   7   8   9  10  11  12\n",
       "2001   1   2   3   4   5   6   7   8   9  10  11  12\n",
       "2002   1   2   3   4   5   6   7   8   9  10  11  12\n",
       "2003   1   2   3   4   5   6   7   8   9  10  11  12\n",
       "2004   1   2   3   4   5   6   7   8   9  10  11  12\n",
       "2005   1   2   3   4   5   6   7   8   9  10  11  12\n",
       "2006   1   2   3   4   5   6   7   8   9  10  11  12\n",
       "2007   1   2   3   4   5   6   7   8   9  10  11  12\n",
       "2008   1   2   3   4   5   6   7   8   9  10  11  12\n",
       "2009   1   2   3   4   5   6   7   8   9  10  11  12\n",
       "2010   1   2   3   4   5   6   7   8   9  10  11  12\n",
       "2011   1   2   3   4   5   6   7   8   9  10  11  12\n",
       "2012   1   2   3   4   5   6   7   8   9  10  11  12\n",
       "2013   1   2   3   4   5   6   7   8   9  10  11  12\n",
       "2014   1   2   3   4   5   6   7   8   9  10  11  12\n",
       "2015   1   2   3   4   5   6   7   8   9  10  11  12\n",
       "2016   1   2   3   4   5   6   7   8   9  10  11  12\n",
       "2017   1   2   3   4   5   6   7   8   9  10  11  12"
      ]
     },
     "metadata": {},
     "output_type": "display_data"
    }
   ],
   "source": [
    "cycle(suicide_1998_2017)"
   ]
  },
  {
   "cell_type": "code",
   "execution_count": 9,
   "metadata": {},
   "outputs": [
    {
     "data": {
      "text/plain": [
       "   Min. 1st Qu.  Median    Mean 3rd Qu.    Max. \n",
       "  168.0   263.0   285.0   283.6   307.0   371.0 "
      ]
     },
     "metadata": {},
     "output_type": "display_data"
    }
   ],
   "source": [
    "#Some descriptive statistics\n",
    "summary(suicide_1998_2017)"
   ]
  },
  {
   "cell_type": "markdown",
   "metadata": {},
   "source": [
    "The first basic plot that we are going to use is a line graph with the values of the series in the ordinate and the temporal instants on the abscissa axis. Constructing this graph can be very useful to observe some characteristics of our time series."
   ]
  },
  {
   "cell_type": "code",
   "execution_count": 10,
   "metadata": {},
   "outputs": [
    {
     "data": {
      "image/png": "[encoded data removed]",
      "text/plain": [
       "plot without title"
      ]
     },
     "metadata": {},
     "output_type": "display_data"
    }
   ],
   "source": [
    "options(repr.plot.width= 7, repr.plot.height= 5)\n",
    "\n",
    "#The number of suicides in Spain\n",
    "plot(suicide_1998_2017, xlab = 'Years', ylab = 'Suicides')\n",
    "\n",
    "#this will fit in a line\n",
    "abline(reg=lm(suicide_1998_2017~time(suicide_1998_2017)))"
   ]
  },
  {
   "cell_type": "markdown",
   "metadata": {},
   "source": [
    "Based on what we see in the representation, it seems that the mean, the variance and the covariance are not constant over time. This makes us think that we are facing a **non-stationary series**, although this is something that we will analyze in more detail later."
   ]
  },
  {
   "cell_type": "code",
   "execution_count": 11,
   "metadata": {},
   "outputs": [
    {
     "data": {
      "image/png": "[encoded data removed]",
      "text/plain": [
       "Plot with title \"Year on year trend\""
      ]
     },
     "metadata": {},
     "output_type": "display_data"
    }
   ],
   "source": [
    "#In this plot we are going to aggregate the cycles and display a year on year trend\n",
    "options(repr.plot.width=7, repr.plot.height=5)\n",
    "plot(aggregate(suicide_1998_2017,FUN=mean), xlab = \"Years\", ylab = \"Aggregated Suicide by mean\", main = 'Year on year trend', col = 'blue')"
   ]
  },
  {
   "cell_type": "markdown",
   "metadata": {},
   "source": [
    "The year on year trend clearly shows that the **number of suicides have been increasing.**"
   ]
  },
  {
   "cell_type": "code",
   "execution_count": 12,
   "metadata": {},
   "outputs": [
    {
     "data": {
      "image/png": "[encoded data removed]",
      "text/plain": [
       "Plot with title \"Box Plot across Months\""
      ]
     },
     "metadata": {},
     "output_type": "display_data"
    }
   ],
   "source": [
    "#Box plot across months will give us a sense on seasonal effect\n",
    "options(repr.plot.width=7, repr.plot.height=5)\n",
    "boxplot(suicide_1998_2017~cycle(suicide_1998_2017), xlab = 'Months', ylab = 'Suicides', main = 'Box Plot across Months',col = 'purple')"
   ]
  },
  {
   "cell_type": "markdown",
   "metadata": {},
   "source": [
    "The mean value of suicides in **May, June and July is higher than rest of the months**."
   ]
  },
  {
   "cell_type": "code",
   "execution_count": 13,
   "metadata": {},
   "outputs": [
    {
     "data": {
      "image/png": "[encoded data removed]",
      "text/plain": [
       "Plot with title \"Normal Q-Q Plot\""
      ]
     },
     "metadata": {},
     "output_type": "display_data"
    }
   ],
   "source": [
    "date = make_date(year = 1998, month = 1)\n",
    "Date_range = seq(from = date, by = 'month', length.out = length(suicide_1998_2017))\n",
    "options(repr.plot.width= 4, repr.plot.height= 6)\n",
    "\n",
    "par(mfrow=c(3,1)) \n",
    "\n",
    "#Scatter plot\n",
    "plot(suicide_1998_2017, x = Date_range, xlab = 'Years', ylab = 'Number of suicides', pch=20, cex=0.7, col = 'green')\n",
    "\n",
    "#histogram\n",
    "hist (suicide_1998_2017, xlab = 'Number of suicides', main = 'Histogram', col = 'brown')\n",
    "\n",
    "#Q-Q plot\n",
    "qqnorm(suicide_1998_2017)\n",
    "qqline(suicide_1998_2017)"
   ]
  },
  {
   "cell_type": "code",
   "execution_count": 14,
   "metadata": {},
   "outputs": [
    {
     "name": "stderr",
     "output_type": "stream",
     "text": [
      "Warning message in ks.test(suicide_1998_2017, \"pnorm\", 257.725, 55.3225):\n",
      "\"ties should not be present for the Kolmogorov-Smirnov test\""
     ]
    },
    {
     "data": {
      "text/plain": [
       "\n",
       "\tOne-sample Kolmogorov-Smirnov test\n",
       "\n",
       "data:  suicide_1998_2017\n",
       "D = 0.29477, p-value < 2.2e-16\n",
       "alternative hypothesis: two-sided\n"
      ]
     },
     "metadata": {},
     "output_type": "display_data"
    }
   ],
   "source": [
    "ks.test(suicide_1998_2017, \"pnorm\", 257.725, 55.3225)"
   ]
  },
  {
   "cell_type": "markdown",
   "metadata": {},
   "source": [
    "The scatter plot and the histogram show us that it seems that in our distribution there are not very anomalous values but seems that there is a pretty big amount of dispersion.\n",
    "\n",
    "The graphs and the Kolmogorov-Smirnov test show us that our series is close to a normal distribution."
   ]
  },
  {
   "cell_type": "markdown",
   "metadata": {},
   "source": [
    "## 3. Time Series Components Analysis"
   ]
  },
  {
   "cell_type": "markdown",
   "metadata": {},
   "source": [
    "Time series decomposition involves thinking of a series as a combination of level, trend, seasonality, and noise components.\n",
    "\n",
    "Decomposition provides a useful abstract model for thinking about time series generally and for better understanding problems during time series analysis and forecasting.\n",
    "\n",
    "Also the decomposition methods can help us in forecasting."
   ]
  },
  {
   "cell_type": "markdown",
   "metadata": {},
   "source": [
    "*Let's start to analyze each of its components with a little more detail, but first we are going to split our time series in a train and a test sets.*"
   ]
  },
  {
   "cell_type": "code",
   "execution_count": 15,
   "metadata": {},
   "outputs": [],
   "source": [
    "suicide_series_test  <- tail(suicide_1998_2017,48)\n",
    "suicide_series_train  <- head(suicide_1998_2017, 192)"
   ]
  },
  {
   "cell_type": "markdown",
   "metadata": {},
   "source": [
    "We are going to save test and train as csv in case we need it later"
   ]
  },
  {
   "cell_type": "code",
   "execution_count": 16,
   "metadata": {},
   "outputs": [],
   "source": [
    "wkdir_and_path_suicide_train <- cbind(working_directory,'Data\\\\Monthly_suicide_Spain_train.csv')\n",
    "suicide_train_filepath <- str_c(wkdir_and_path_suicide_train, collapse = \"\\\\\")\n",
    "\n",
    "wkdir_and_path_suicide_test <- cbind(working_directory,'Data\\\\Monthly_suicide_Spain_test.csv')\n",
    "suicide_test_filepath <- str_c(wkdir_and_path_suicide_test, collapse = \"\\\\\")"
   ]
  },
  {
   "cell_type": "code",
   "execution_count": 17,
   "metadata": {},
   "outputs": [],
   "source": [
    "write.csv(suicide_series_test, suicide_test_filepath)\n",
    "write.csv(suicide_series_train, suicide_train_filepath)"
   ]
  },
  {
   "cell_type": "markdown",
   "metadata": {},
   "source": [
    "### 3.1. Decomposition methods"
   ]
  },
  {
   "cell_type": "markdown",
   "metadata": {},
   "source": [
    "#### 3.1.1. Moving Mean\n",
    "\n",
    "We present the methodology of moving averages because it's the first step in the classical decomposition and allows us to observe **the trend** of our time series represented in a smoothed way. It can be a good method to extract information in time series where there are no fluctuations due to trend or seasonality."
   ]
  },
  {
   "cell_type": "markdown",
   "metadata": {},
   "source": [
    "It is possible to apply a moving mean to a moving mean. One reason for doing this is to make an even-order moving average symmetric. It's recommended to use a 2x12 Moving averages to estimate the trend-cycle of monthly data:"
   ]
  },
  {
   "cell_type": "code",
   "execution_count": 18,
   "metadata": {
    "scrolled": true
   },
   "outputs": [
    {
     "name": "stderr",
     "output_type": "stream",
     "text": [
      "Warning message:\n",
      "\"Removed 1 rows containing missing values (geom_path).\"Warning message:\n",
      "\"Removed 12 rows containing missing values (geom_path).\""
     ]
    },
    {
     "data": {},
     "metadata": {},
     "output_type": "display_data"
    },
    {
     "data": {
      "image/png": "[encoded data removed]",
      "text/plain": [
       "plot without title"
      ]
     },
     "metadata": {},
     "output_type": "display_data"
    }
   ],
   "source": [
    "options(repr.plot.width=8, repr.plot.height=4)\n",
    "\n",
    "#Applying Moving Mean\n",
    "autoplot(suicide_series_train) +\n",
    "    autolayer(ma(suicide_series_train, order=2, centre=FALSE), series='2 Moving Mean')+\n",
    "    autolayer(ma(suicide_series_train,12, centre = TRUE), series='2x12 Moving Mean') +\n",
    "    xlab('Date') + ylab('Number of suicides') +\n",
    "    ggtitle('Monthly Suicides in Spain') +\n",
    "    guides(colour=guide_legend(title='series'))"
   ]
  },
  {
   "cell_type": "markdown",
   "metadata": {},
   "source": [
    "The moving mean helps us to reduce the noise or short-term volatility in the movements of the data and in this way allows us to better evaluate the quality and direction of a trend."
   ]
  },
  {
   "cell_type": "markdown",
   "metadata": {},
   "source": [
    "We can see that the estimated trend component shows an **increase from approximately 225 in 1998 to approximately 300 in 2005, followed by a more or less constant increase from then until 2017.**"
   ]
  },
  {
   "cell_type": "markdown",
   "metadata": {},
   "source": [
    "Seasonal adjustments are a statistical procedure to eliminate seasonal effects or what is the same, eliminate the influence of seasonal patterns in the data. These seasonal effects induce changes or variations due to the seasonality, causing a distortion of their true movement. \n",
    "\n",
    "There are many methods to struggle with seasonality. But first we have to be sure that there is seasonality in our time series."
   ]
  },
  {
   "cell_type": "markdown",
   "metadata": {},
   "source": [
    "#### 3.1.2. Classic Decomposition\n",
    "\n",
    "We are going to use decompose function to see the components of our time series in a classic decomposition method, just to have a first look:"
   ]
  },
  {
   "cell_type": "code",
   "execution_count": 19,
   "metadata": {},
   "outputs": [
    {
     "data": {
      "image/png": "[encoded data removed]",
      "text/plain": [
       "plot without title"
      ]
     },
     "metadata": {},
     "output_type": "display_data"
    }
   ],
   "source": [
    "options(repr.plot.width= 8, repr.plot.height= 4)\n",
    "\n",
    "suicide_series_components  <- decompose(suicide_series_train)\n",
    "plot(suicide_series_components)"
   ]
  },
  {
   "cell_type": "markdown",
   "metadata": {},
   "source": [
    "The plot above shows the original time series (top), the estimated trend component (second from top), the estimated seasonal component (third from top), and the estimated irregular component (bottom). "
   ]
  },
  {
   "cell_type": "markdown",
   "metadata": {},
   "source": [
    "If we take a look at the suicide time series it seems that we have to deal with a trend and a seasonal component. Let's confirm this by plotting the autocorrelation function of our time series:"
   ]
  },
  {
   "cell_type": "code",
   "execution_count": 20,
   "metadata": {},
   "outputs": [
    {
     "data": {
      "image/png": "[encoded data removed]",
      "text/plain": [
       "Plot with title \"Suicide Series autocorrelation\""
      ]
     },
     "metadata": {},
     "output_type": "display_data"
    }
   ],
   "source": [
    "options(repr.plot.width= 8, repr.plot.height= 4)\n",
    "\n",
    "acf(suicide_series_train, main = 'Suicide Series autocorrelation')"
   ]
  },
  {
   "cell_type": "markdown",
   "metadata": {},
   "source": [
    "As we see **we have a seasonal component**."
   ]
  },
  {
   "cell_type": "markdown",
   "metadata": {},
   "source": [
    "Classical decomposition methods assume that the seasonal component repeats from year to year and we think that it might not be our case. A more sophisticated implementation is stl decomposition."
   ]
  },
  {
   "cell_type": "markdown",
   "metadata": {},
   "source": [
    "#### 3.1.3. STL decomposition\n",
    "\n",
    "Maybe the most robust, versatile and popular method according to many sources. \n",
    "To determine the trend component this method uses a type of smoothing called loess that\n",
    "makes a linear regression in a small dot window to decompose a time series into seasonal, trend and irregular components.\n",
    "\n",
    "We are going to use mstl function which provides a convenient automated stl."
   ]
  },
  {
   "cell_type": "code",
   "execution_count": 21,
   "metadata": {},
   "outputs": [],
   "source": [
    "STL_suicide_components <- mstl(suicide_series_train)"
   ]
  },
  {
   "cell_type": "code",
   "execution_count": 22,
   "metadata": {},
   "outputs": [
    {
     "data": {},
     "metadata": {},
     "output_type": "display_data"
    },
    {
     "data": {
      "image/png": "[encoded data removed]",
      "text/plain": [
       "plot without title"
      ]
     },
     "metadata": {},
     "output_type": "display_data"
    }
   ],
   "source": [
    "options(repr.plot.width=8, repr.plot.height=4)\n",
    "autoplot(suicide_series_train, series=\"Data\") +\n",
    "    autolayer(trendcycle(STL_suicide_components), series=\"Trend\") +\n",
    "    autolayer(seasadj(STL_suicide_components), series=\"Seasonally Adjusted\") +\n",
    "    xlab(\"Year\") + ylab(\"Number of suicides\") +\n",
    "    ggtitle(\"Suicide in Spain over the years\") +\n",
    "    scale_colour_manual(values=c(\"gray\",\"blue\",\"red\"),\n",
    "             breaks=c(\"Data\",\"Seasonally Adjusted\",\"Trend\"))"
   ]
  },
  {
   "cell_type": "code",
   "execution_count": 23,
   "metadata": {},
   "outputs": [
    {
     "data": {},
     "metadata": {},
     "output_type": "display_data"
    },
    {
     "data": {
      "image/png": "[encoded data removed]",
      "text/plain": [
       "plot without title"
      ]
     },
     "metadata": {},
     "output_type": "display_data"
    }
   ],
   "source": [
    "options(repr.plot.width=8, repr.plot.height=4)\n",
    "STL_suicide_components %>% seasonal() %>% ggsubseriesplot() + ylab(\"Seasonal\")"
   ]
  },
  {
   "cell_type": "code",
   "execution_count": 24,
   "metadata": {},
   "outputs": [
    {
     "data": {
      "image/png": "[encoded data removed]",
      "text/plain": [
       "plot without title"
      ]
     },
     "metadata": {},
     "output_type": "display_data"
    }
   ],
   "source": [
    "options(repr.plot.width= 12, repr.plot.height=8)\n",
    "plot(STL_suicide_components)"
   ]
  },
  {
   "cell_type": "code",
   "execution_count": 25,
   "metadata": {},
   "outputs": [
    {
     "data": {
      "text/plain": [
       "          Jan      Feb      Mar      Apr      May      Jun      Jul      Aug\n",
       "1998 218.1166 218.5814 219.0462 219.5109 220.9239 222.3369 223.7499 225.4544\n",
       "1999 241.8077 247.3807 252.9538 258.5268 261.7715 265.0163 268.2611 268.8709\n",
       "2000 271.2187 272.6381 274.0574 275.4767 276.8953 278.3140 279.7326 279.0897\n",
       "2001 272.6723 271.4446 270.2169 268.9892 268.6809 268.3726 268.0643 269.2823\n",
       "2002 275.3510 276.0372 276.7235 277.4097 278.0909 278.7722 279.4534 280.1712\n",
       "2003 286.9165 288.3817 289.8469 291.3121 290.9807 290.6493 290.3178 289.8390\n",
       "2004 288.5990 288.6533 288.7076 288.7620 289.8802 290.9983 292.1165 293.0624\n",
       "2005 293.1148 291.2858 289.4567 287.6277 285.8207 284.0137 282.2066 280.7380\n",
       "2006 276.2174 275.9990 275.7805 275.5621 274.4501 273.3382 272.2263 271.4278\n",
       "2007 268.6608 268.7614 268.8619 268.9625 270.0058 271.0492 272.0925 273.2367\n",
       "2008 276.7599 278.0939 279.4280 280.7620 282.7156 284.6692 286.6228 286.7735\n",
       "2009 288.0517 288.5221 288.9925 289.4629 288.4405 287.4182 286.3958 285.6375\n",
       "2010 279.2036 275.9814 272.7592 269.5370 267.4066 265.2763 263.1460 262.6527\n",
       "2011 259.5178 259.8855 260.2532 260.6209 262.3173 264.0136 265.7099 267.8785\n",
       "2012 281.7774 284.6708 287.5642 290.4576 292.8814 295.3053 297.7291 300.6110\n",
       "2013 314.0851 315.3309 316.5766 317.8224 318.3460 318.8696 319.3931 319.6053\n",
       "          Sep      Oct      Nov      Dec\n",
       "1998 227.1588 228.8632 233.1781 237.4929\n",
       "1999 269.4808 270.0906 270.4666 270.8427\n",
       "2000 278.4469 277.8040 276.0934 274.3829\n",
       "2001 270.5003 271.7183 272.9292 274.1401\n",
       "2002 280.8889 281.6067 283.3766 285.1466\n",
       "2003 289.3602 288.8814 288.7873 288.6931\n",
       "2004 294.0083 294.9542 294.3411 293.7279\n",
       "2005 279.2694 277.8008 277.2730 276.7452\n",
       "2006 270.6293 269.8308 269.4408 269.0508\n",
       "2007 274.3809 275.5252 275.9367 276.3483\n",
       "2008 286.9243 287.0751 287.4006 287.7262\n",
       "2009 284.8792 284.1209 282.4818 280.8427\n",
       "2010 262.1594 261.6661 260.9500 260.2339\n",
       "2011 270.0471 272.2157 275.4030 278.5902\n",
       "2012 303.4929 306.3748 308.9449 311.5150\n",
       "2013 319.8175 320.0297 319.9440 319.8582"
      ]
     },
     "metadata": {},
     "output_type": "display_data"
    }
   ],
   "source": [
    "trendcycle(STL_suicide_components)"
   ]
  },
  {
   "cell_type": "markdown",
   "metadata": {},
   "source": [
    "Here we can see a more smothed trend. The seasonal component doesn't varies to much with time. Let's take a look at the values:"
   ]
  },
  {
   "cell_type": "code",
   "execution_count": 26,
   "metadata": {},
   "outputs": [
    {
     "data": {
      "text/plain": [
       "               Jan           Feb           Mar           Apr           May\n",
       "1998   1.779012877 -18.465183009  19.440412829  -3.287034912  29.280443414\n",
       "1999   1.149620832 -19.007629816  18.836907716  -3.357711158  29.122131743\n",
       "2000   0.528508180 -19.536344478  18.252587504  -3.402032875  28.997344231\n",
       "2001  -0.298319262 -20.805791277  17.036375447  -3.351106057  28.609520252\n",
       "2002  -1.211315416 -22.129630933  15.797546390  -3.278722826  28.287226099\n",
       "2003  -4.157086595 -24.704691407  13.176881406  -4.098718238  26.877419983\n",
       "2004  -7.268797253 -27.459548533  10.362562596  -5.131223400  25.236248192\n",
       "2005  -9.432198710 -28.062211360  10.177443736  -5.174762658  26.367299871\n",
       "2006 -11.326111910 -28.436197600  10.180189795  -5.092256325  27.562577812\n",
       "2007  -9.923452602 -28.854259824  12.623538526  -3.299152344  28.114443428\n",
       "2008  -8.263246376 -29.056125056  15.241734326  -1.375336083  28.752886536\n",
       "2009  -6.217005928 -28.643465853  17.041219152  -0.788908621  28.099652725\n",
       "2010  -4.301175776 -28.326973925  18.778779723  -0.227961452  27.457382586\n",
       "2011  -3.592460380 -28.130148997  19.408778784   0.006349524  27.252702008\n",
       "2012  -2.948754618 -27.994237092  19.981961430   0.193479173  27.010475193\n",
       "2013  -2.470579911 -27.844020779  20.421774576   0.369385684  26.844045178\n",
       "               Jun           Jul           Aug           Sep           Oct\n",
       "1998  18.222074527  31.575115181  11.962909908   0.266957800 -13.703003456\n",
       "1999  19.005454892  31.780768101  12.526247746   0.606367617 -13.413252694\n",
       "2000  19.829089672  32.033405696  13.139440003   0.998501600 -13.073398093\n",
       "2001  21.108385122  32.475809482  14.141788911   1.760081643 -12.228394863\n",
       "2002  22.499109288  33.075540873  15.337640695   2.751339833 -11.135180674\n",
       "2003  26.566543719  33.940402125  18.008060827   4.422200387  -9.077636317\n",
       "2004  30.381397980  34.531468711  20.386166750   5.782227189  -7.339573509\n",
       "2005  31.757767110  33.679461581  20.261279456   5.673997577  -7.536860198\n",
       "2006  33.137739312  32.770434332  20.042433280   5.434870320  -7.867654276\n",
       "2007  31.127930081  30.704800386  17.664005995   4.755278656  -8.866511436\n",
       "2008  29.163072844  28.642492937  15.255197963   4.011599000  -9.954284204\n",
       "2009  28.765613413  28.427541544  13.421073756   4.201535367 -11.111637407\n",
       "2010  28.412453494  28.290225503  11.688702748   4.517342780 -12.131881667\n",
       "2011  28.171484824  28.121558055  11.003230632   4.594920855 -12.467803216\n",
       "2012  27.904402384  27.938209304  10.312374287   4.676411774 -12.794546757\n",
       "2013  27.642336180  27.768291382   9.808677045   4.689847026 -13.129051502\n",
       "               Nov           Dec\n",
       "1998 -45.495783916 -30.750946482\n",
       "1999 -45.318378838 -31.134451443\n",
       "2000 -45.093490248 -31.479921218\n",
       "2001 -44.539328622 -32.102427890\n",
       "2002 -43.718423224 -32.462971303\n",
       "2003 -42.389770396 -34.055244251\n",
       "2004 -41.389246912 -35.962949494\n",
       "2005 -38.973537783 -38.331521889\n",
       "2006 -36.693945786 -40.805324633\n",
       "2007 -36.629160290 -39.488288909\n",
       "2008 -36.678118016 -38.304326559\n",
       "2009 -37.874968574 -37.328795269\n",
       "2010 -38.923472292 -36.206912565\n",
       "2011 -39.163291541 -35.791606363\n",
       "2012 -39.388667621 -35.360247709\n",
       "2013 -39.635878581 -34.950018288"
      ]
     },
     "metadata": {},
     "output_type": "display_data"
    }
   ],
   "source": [
    "seasonal(STL_suicide_components) #get the values of the seasonal component"
   ]
  },
  {
   "cell_type": "markdown",
   "metadata": {},
   "source": [
    "The largest seasonal factor was for July until 2005, after 2010 it changes and June turns into the largest seasonal factor, but close to May and July. The lowest is always for November."
   ]
  },
  {
   "cell_type": "markdown",
   "metadata": {},
   "source": [
    "However, Loess decomposition is intended to smooth the series by applying averages to the data so that it collapses into components and that is interesting for the analysis of the data. But this methodology is not intended to do a formal test for the presence of seasonality.\n",
    "\n",
    "The seasonal component might not be relevant to explain the dynamics of the series. In order to see that, we can compare the variance of each component with respect to the variance of the original series."
   ]
  },
  {
   "cell_type": "code",
   "execution_count": 27,
   "metadata": {},
   "outputs": [
    {
     "data": {
      "text/html": [
       "<dl class=dl-horizontal>\n",
       "\t<dt>Data</dt>\n",
       "\t\t<dd>1</dd>\n",
       "\t<dt>Trend</dt>\n",
       "\t\t<dd>0.310776106992613</dd>\n",
       "\t<dt>Seasonal12</dt>\n",
       "\t\t<dd>0.442699678085923</dd>\n",
       "\t<dt>Remainder</dt>\n",
       "\t\t<dd>0.23345871947564</dd>\n",
       "</dl>\n"
      ],
      "text/latex": [
       "\\begin{description*}\n",
       "\\item[Data] 1\n",
       "\\item[Trend] 0.310776106992613\n",
       "\\item[Seasonal12] 0.442699678085923\n",
       "\\item[Remainder] 0.23345871947564\n",
       "\\end{description*}\n"
      ],
      "text/markdown": [
       "Data\n",
       ":   1Trend\n",
       ":   0.310776106992613Seasonal12\n",
       ":   0.442699678085923Remainder\n",
       ":   0.23345871947564\n",
       "\n"
      ],
      "text/plain": [
       "      Data      Trend Seasonal12  Remainder \n",
       " 1.0000000  0.3107761  0.4426997  0.2334587 "
      ]
     },
     "metadata": {},
     "output_type": "display_data"
    }
   ],
   "source": [
    "apply(STL_suicide_components,2, var) / var(suicide_series_train)"
   ]
  },
  {
   "cell_type": "markdown",
   "metadata": {},
   "source": [
    "*We can see that it is the seasonal component what explains most of the variance in the data.*"
   ]
  },
  {
   "cell_type": "code",
   "execution_count": 28,
   "metadata": {},
   "outputs": [
    {
     "data": {
      "text/plain": [
       "          Jan      Feb      Mar      Apr      May      Jun      Jul      Aug\n",
       "1998 216.2210 256.4652 261.5596 198.2870 237.7196 203.7779 194.4249 195.0371\n",
       "1999 265.8504 259.0076 267.1631 303.3577 276.8779 245.9945 285.2192 270.4738\n",
       "2000 295.4715 262.5363 265.7474 275.4020 294.0027 271.1709 277.9666 267.8606\n",
       "2001 266.2983 253.8058 267.9636 256.3511 245.3905 251.8916 262.5242 279.8582\n",
       "2002 294.2113 273.1296 277.2025 285.2787 257.7128 277.5009 278.9245 245.6624\n",
       "2003 269.1571 302.7047 285.8231 274.0987 273.1226 311.4335 298.0596 330.9919\n",
       "2004 273.2688 307.4595 259.6374 265.1312 307.7638 296.6186 310.4685 297.6138\n",
       "2005 294.4322 283.0622 291.8226 312.1748 277.6327 288.2422 272.3205 271.7387\n",
       "2006 275.3261 249.4362 278.8198 290.0923 295.4374 271.8623 266.2296 281.9576\n",
       "2007 266.9235 266.8543 281.3765 260.2992 285.8856 270.8721 284.2952 277.3360\n",
       "2008 279.2632 286.0561 293.7583 284.3753 253.2471 296.8369 272.3575 280.7448\n",
       "2009 281.2170 298.6435 254.9588 258.7889 287.9003 292.2344 301.5725 284.5789\n",
       "2010 274.3012 255.3270 274.2212 289.2280 285.5426 239.5875 251.7098 261.3113\n",
       "2011 259.5925 271.1301 276.5912 267.9937 249.7473 256.8285 234.8784 257.9968\n",
       "2012 287.9488 292.9942 289.0180 290.8065 296.9895 282.0956 310.0618 301.6876\n",
       "2013 346.4706 316.8440 338.5782 323.6306 308.1560 335.3577 329.2317 298.1913\n",
       "          Sep      Oct      Nov      Dec\n",
       "1998 192.7330 189.7030 213.4958 237.7509\n",
       "1999 262.3936 270.4133 248.3184 262.1345\n",
       "2000 306.0015 266.0734 316.0935 293.4799\n",
       "2001 250.2399 310.2284 263.5393 279.1024\n",
       "2002 288.2487 303.1352 288.7184 297.4630\n",
       "2003 301.5778 261.0776 286.3898 279.0552\n",
       "2004 300.2178 284.3396 291.3892 310.9629\n",
       "2005 269.3260 285.5369 268.9735 283.3315\n",
       "2006 278.5651 274.8677 256.6939 227.8053\n",
       "2007 267.2447 257.8665 273.6292 272.4883\n",
       "2008 277.9884 313.9543 309.6781 311.3043\n",
       "2009 298.7985 301.1116 325.8750 245.3288\n",
       "2010 260.4827 252.1319 240.9235 274.2069\n",
       "2011 258.4051 271.4678 281.1633 294.7916\n",
       "2012 292.3236 279.7945 289.3887 326.3602\n",
       "2013 340.3102 314.1291 298.6359 320.9500"
      ]
     },
     "metadata": {},
     "output_type": "display_data"
    }
   ],
   "source": [
    "seasadj(STL_suicide_components)"
   ]
  },
  {
   "cell_type": "markdown",
   "metadata": {},
   "source": [
    "Seasadj function returns seasonally adjusted data constructed by removing the seasonal component. The seasonally adjusted time series now just contains the trend and the irregular component."
   ]
  },
  {
   "cell_type": "markdown",
   "metadata": {},
   "source": [
    "##### *Forecasting with Decomposition*\n",
    "\n",
    "While decomposition is primarily useful for studying time series data, and exploring historical changes over time, it can also be used in forecasting.\n",
    "\n",
    "We will use stlf function which decompose the time series using STL, forecast the seasonally adjusted series with arima, and return the reseasonalised forecasts."
   ]
  },
  {
   "cell_type": "code",
   "execution_count": 29,
   "metadata": {},
   "outputs": [
    {
     "data": {
      "image/png": "[encoded data removed]",
      "text/plain": [
       "Plot with title \"Suicide in Spain Forecasts\""
      ]
     },
     "metadata": {},
     "output_type": "display_data"
    }
   ],
   "source": [
    "options(repr.plot.width= 8, repr.plot.height= 5)\n",
    "\n",
    "forecast_decomposed_suicide_series <- stlf(suicide_series_train, method='arima', h = 48)\n",
    "plot(forecast_decomposed_suicide_series, main = 'Suicide in Spain Forecasts')"
   ]
  },
  {
   "cell_type": "code",
   "execution_count": 206,
   "metadata": {},
   "outputs": [
    {
     "data": {
      "text/html": [
       "<table>\n",
       "<thead><tr><th></th><th scope=col>m</th><th scope=col>Qm</th><th scope=col>pvalue</th></tr></thead>\n",
       "<tbody>\n",
       "\t<tr><th scope=row></th><td> 1          </td><td> 0.13       </td><td>7.150185e-01</td></tr>\n",
       "\t<tr><th scope=row></th><td> 2          </td><td> 0.15       </td><td>9.289906e-01</td></tr>\n",
       "\t<tr><th scope=row></th><td> 3          </td><td> 0.21       </td><td>9.760917e-01</td></tr>\n",
       "\t<tr><th scope=row></th><td> 4          </td><td> 1.53       </td><td>8.206852e-01</td></tr>\n",
       "\t<tr><th scope=row></th><td> 5          </td><td> 4.39       </td><td>4.940763e-01</td></tr>\n",
       "\t<tr><th scope=row></th><td> 6          </td><td> 4.43       </td><td>6.191156e-01</td></tr>\n",
       "\t<tr><th scope=row></th><td> 7          </td><td>16.62       </td><td>2.000235e-02</td></tr>\n",
       "\t<tr><th scope=row></th><td> 8          </td><td>16.96       </td><td>3.054029e-02</td></tr>\n",
       "\t<tr><th scope=row></th><td> 9          </td><td>17.05       </td><td>4.797380e-02</td></tr>\n",
       "\t<tr><th scope=row></th><td>10          </td><td>17.10       </td><td>7.224206e-02</td></tr>\n",
       "\t<tr><th scope=row></th><td>11          </td><td>26.79       </td><td>4.935585e-03</td></tr>\n",
       "\t<tr><th scope=row></th><td>12          </td><td>30.64       </td><td>2.237747e-03</td></tr>\n",
       "\t<tr><th scope=row></th><td>13          </td><td>30.76       </td><td>3.648792e-03</td></tr>\n",
       "\t<tr><th scope=row></th><td>14          </td><td>30.86       </td><td>5.800405e-03</td></tr>\n",
       "\t<tr><th scope=row></th><td>15          </td><td>31.08       </td><td>8.559602e-03</td></tr>\n",
       "\t<tr><th scope=row></th><td>16          </td><td>31.95       </td><td>1.015786e-02</td></tr>\n",
       "\t<tr><th scope=row></th><td>17          </td><td>37.46       </td><td>2.910131e-03</td></tr>\n",
       "\t<tr><th scope=row></th><td>18          </td><td>42.97       </td><td>8.067942e-04</td></tr>\n",
       "\t<tr><th scope=row></th><td>19          </td><td>47.05       </td><td>3.512491e-04</td></tr>\n",
       "\t<tr><th scope=row></th><td>20          </td><td>47.29       </td><td>5.339690e-04</td></tr>\n",
       "\t<tr><th scope=row></th><td>21          </td><td>49.98       </td><td>3.674028e-04</td></tr>\n",
       "\t<tr><th scope=row></th><td>22          </td><td>50.80       </td><td>4.564041e-04</td></tr>\n",
       "\t<tr><th scope=row></th><td>23          </td><td>52.19       </td><td>4.715979e-04</td></tr>\n",
       "\t<tr><th scope=row></th><td>24          </td><td>59.43       </td><td>7.692512e-05</td></tr>\n",
       "\t<tr><th scope=row></th><td>25          </td><td>60.31       </td><td>9.487569e-05</td></tr>\n",
       "\t<tr><th scope=row></th><td>26          </td><td>60.95       </td><td>1.248818e-04</td></tr>\n",
       "\t<tr><th scope=row></th><td>27          </td><td>62.20       </td><td>1.349376e-04</td></tr>\n",
       "\t<tr><th scope=row></th><td>28          </td><td>62.62       </td><td>1.866738e-04</td></tr>\n",
       "\t<tr><th scope=row></th><td>29          </td><td>65.83       </td><td>1.103707e-04</td></tr>\n",
       "\t<tr><th scope=row></th><td>30          </td><td>67.48       </td><td>1.048476e-04</td></tr>\n",
       "</tbody>\n",
       "</table>\n"
      ],
      "text/latex": [
       "\\begin{tabular}{r|lll}\n",
       "  & m & Qm & pvalue\\\\\n",
       "\\hline\n",
       "\t &  1           &  0.13        & 7.150185e-01\\\\\n",
       "\t &  2           &  0.15        & 9.289906e-01\\\\\n",
       "\t &  3           &  0.21        & 9.760917e-01\\\\\n",
       "\t &  4           &  1.53        & 8.206852e-01\\\\\n",
       "\t &  5           &  4.39        & 4.940763e-01\\\\\n",
       "\t &  6           &  4.43        & 6.191156e-01\\\\\n",
       "\t &  7           & 16.62        & 2.000235e-02\\\\\n",
       "\t &  8           & 16.96        & 3.054029e-02\\\\\n",
       "\t &  9           & 17.05        & 4.797380e-02\\\\\n",
       "\t & 10           & 17.10        & 7.224206e-02\\\\\n",
       "\t & 11           & 26.79        & 4.935585e-03\\\\\n",
       "\t & 12           & 30.64        & 2.237747e-03\\\\\n",
       "\t & 13           & 30.76        & 3.648792e-03\\\\\n",
       "\t & 14           & 30.86        & 5.800405e-03\\\\\n",
       "\t & 15           & 31.08        & 8.559602e-03\\\\\n",
       "\t & 16           & 31.95        & 1.015786e-02\\\\\n",
       "\t & 17           & 37.46        & 2.910131e-03\\\\\n",
       "\t & 18           & 42.97        & 8.067942e-04\\\\\n",
       "\t & 19           & 47.05        & 3.512491e-04\\\\\n",
       "\t & 20           & 47.29        & 5.339690e-04\\\\\n",
       "\t & 21           & 49.98        & 3.674028e-04\\\\\n",
       "\t & 22           & 50.80        & 4.564041e-04\\\\\n",
       "\t & 23           & 52.19        & 4.715979e-04\\\\\n",
       "\t & 24           & 59.43        & 7.692512e-05\\\\\n",
       "\t & 25           & 60.31        & 9.487569e-05\\\\\n",
       "\t & 26           & 60.95        & 1.248818e-04\\\\\n",
       "\t & 27           & 62.20        & 1.349376e-04\\\\\n",
       "\t & 28           & 62.62        & 1.866738e-04\\\\\n",
       "\t & 29           & 65.83        & 1.103707e-04\\\\\n",
       "\t & 30           & 67.48        & 1.048476e-04\\\\\n",
       "\\end{tabular}\n"
      ],
      "text/markdown": [
       "\n",
       "| <!--/--> | m | Qm | pvalue | \n",
       "|---|---|---|---|---|---|---|---|---|---|---|---|---|---|---|---|---|---|---|---|---|---|---|---|---|---|---|---|---|---|\n",
       "|  |  1           |  0.13        | 7.150185e-01 | \n",
       "|  |  2           |  0.15        | 9.289906e-01 | \n",
       "|  |  3           |  0.21        | 9.760917e-01 | \n",
       "|  |  4           |  1.53        | 8.206852e-01 | \n",
       "|  |  5           |  4.39        | 4.940763e-01 | \n",
       "|  |  6           |  4.43        | 6.191156e-01 | \n",
       "|  |  7           | 16.62        | 2.000235e-02 | \n",
       "|  |  8           | 16.96        | 3.054029e-02 | \n",
       "|  |  9           | 17.05        | 4.797380e-02 | \n",
       "|  | 10           | 17.10        | 7.224206e-02 | \n",
       "|  | 11           | 26.79        | 4.935585e-03 | \n",
       "|  | 12           | 30.64        | 2.237747e-03 | \n",
       "|  | 13           | 30.76        | 3.648792e-03 | \n",
       "|  | 14           | 30.86        | 5.800405e-03 | \n",
       "|  | 15           | 31.08        | 8.559602e-03 | \n",
       "|  | 16           | 31.95        | 1.015786e-02 | \n",
       "|  | 17           | 37.46        | 2.910131e-03 | \n",
       "|  | 18           | 42.97        | 8.067942e-04 | \n",
       "|  | 19           | 47.05        | 3.512491e-04 | \n",
       "|  | 20           | 47.29        | 5.339690e-04 | \n",
       "|  | 21           | 49.98        | 3.674028e-04 | \n",
       "|  | 22           | 50.80        | 4.564041e-04 | \n",
       "|  | 23           | 52.19        | 4.715979e-04 | \n",
       "|  | 24           | 59.43        | 7.692512e-05 | \n",
       "|  | 25           | 60.31        | 9.487569e-05 | \n",
       "|  | 26           | 60.95        | 1.248818e-04 | \n",
       "|  | 27           | 62.20        | 1.349376e-04 | \n",
       "|  | 28           | 62.62        | 1.866738e-04 | \n",
       "|  | 29           | 65.83        | 1.103707e-04 | \n",
       "|  | 30           | 67.48        | 1.048476e-04 | \n",
       "\n",
       "\n"
      ],
      "text/plain": [
       " m  Qm    pvalue      \n",
       "  1  0.13 7.150185e-01\n",
       "  2  0.15 9.289906e-01\n",
       "  3  0.21 9.760917e-01\n",
       "  4  1.53 8.206852e-01\n",
       "  5  4.39 4.940763e-01\n",
       "  6  4.43 6.191156e-01\n",
       "  7 16.62 2.000235e-02\n",
       "  8 16.96 3.054029e-02\n",
       "  9 17.05 4.797380e-02\n",
       " 10 17.10 7.224206e-02\n",
       " 11 26.79 4.935585e-03\n",
       " 12 30.64 2.237747e-03\n",
       " 13 30.76 3.648792e-03\n",
       " 14 30.86 5.800405e-03\n",
       " 15 31.08 8.559602e-03\n",
       " 16 31.95 1.015786e-02\n",
       " 17 37.46 2.910131e-03\n",
       " 18 42.97 8.067942e-04\n",
       " 19 47.05 3.512491e-04\n",
       " 20 47.29 5.339690e-04\n",
       " 21 49.98 3.674028e-04\n",
       " 22 50.80 4.564041e-04\n",
       " 23 52.19 4.715979e-04\n",
       " 24 59.43 7.692512e-05\n",
       " 25 60.31 9.487569e-05\n",
       " 26 60.95 1.248818e-04\n",
       " 27 62.20 1.349376e-04\n",
       " 28 62.62 1.866738e-04\n",
       " 29 65.83 1.103707e-04\n",
       " 30 67.48 1.048476e-04"
      ]
     },
     "metadata": {},
     "output_type": "display_data"
    }
   ],
   "source": [
    "LjungBoxTest(residuals(forecast_decomposed_suicide_series))"
   ]
  },
  {
   "cell_type": "markdown",
   "metadata": {},
   "source": [
    "- Evaluating the forecasts"
   ]
  },
  {
   "cell_type": "code",
   "execution_count": 30,
   "metadata": {},
   "outputs": [
    {
     "data": {
      "text/html": [
       "<table>\n",
       "<thead><tr><th></th><th scope=col>ME</th><th scope=col>RMSE</th><th scope=col>MAE</th><th scope=col>MPE</th><th scope=col>MAPE</th><th scope=col>MASE</th><th scope=col>ACF1</th><th scope=col>Theil's U</th></tr></thead>\n",
       "<tbody>\n",
       "\t<tr><th scope=row>Training set</th><td> 1.221196  </td><td>19.61091   </td><td>15.44162   </td><td> 0.05325394</td><td>5.741906   </td><td>0.6060818  </td><td>0.02614606 </td><td>       NA  </td></tr>\n",
       "\t<tr><th scope=row>Test set</th><td>-8.124858  </td><td>23.48619   </td><td>20.37614   </td><td>-3.17517422</td><td>6.787247   </td><td>0.7997612  </td><td>0.05622934 </td><td>0.7051087  </td></tr>\n",
       "</tbody>\n",
       "</table>\n"
      ],
      "text/latex": [
       "\\begin{tabular}{r|llllllll}\n",
       "  & ME & RMSE & MAE & MPE & MAPE & MASE & ACF1 & Theil's U\\\\\n",
       "\\hline\n",
       "\tTraining set &  1.221196   & 19.61091    & 15.44162    &  0.05325394 & 5.741906    & 0.6060818   & 0.02614606  &        NA  \\\\\n",
       "\tTest set & -8.124858   & 23.48619    & 20.37614    & -3.17517422 & 6.787247    & 0.7997612   & 0.05622934  & 0.7051087  \\\\\n",
       "\\end{tabular}\n"
      ],
      "text/markdown": [
       "\n",
       "| <!--/--> | ME | RMSE | MAE | MPE | MAPE | MASE | ACF1 | Theil's U | \n",
       "|---|---|\n",
       "| Training set |  1.221196   | 19.61091    | 15.44162    |  0.05325394 | 5.741906    | 0.6060818   | 0.02614606  |        NA   | \n",
       "| Test set | -8.124858   | 23.48619    | 20.37614    | -3.17517422 | 6.787247    | 0.7997612   | 0.05622934  | 0.7051087   | \n",
       "\n",
       "\n"
      ],
      "text/plain": [
       "             ME        RMSE     MAE      MPE         MAPE     MASE     \n",
       "Training set  1.221196 19.61091 15.44162  0.05325394 5.741906 0.6060818\n",
       "Test set     -8.124858 23.48619 20.37614 -3.17517422 6.787247 0.7997612\n",
       "             ACF1       Theil's U\n",
       "Training set 0.02614606        NA\n",
       "Test set     0.05622934 0.7051087"
      ]
     },
     "metadata": {},
     "output_type": "display_data"
    },
    {
     "data": {
      "image/png": "[encoded data removed]",
      "text/plain": [
       "Plot with title \"Suicide in Spain Forecasts\""
      ]
     },
     "metadata": {},
     "output_type": "display_data"
    }
   ],
   "source": [
    "options(repr.plot.width= 8, repr.plot.height= 5)\n",
    "\n",
    "#Accuracy and plot\n",
    "accuracy(forecast_decomposed_suicide_series, suicide_series_test)\n",
    "plot(forecast_decomposed_suicide_series,main = 'Suicide in Spain Forecasts')\n",
    "lines(suicide_1998_2017)"
   ]
  },
  {
   "cell_type": "markdown",
   "metadata": {},
   "source": [
    "##### Forecasting with Holt-Winters Exponential Smoothing"
   ]
  },
  {
   "cell_type": "markdown",
   "metadata": {},
   "source": [
    "If you have a time series that can be described using an additive model with increasing or decreasing trend and\n",
    "seasonality, you can use Holt-Winters exponential smoothing to make short-term forecasts."
   ]
  },
  {
   "cell_type": "code",
   "execution_count": 31,
   "metadata": {
    "scrolled": true
   },
   "outputs": [
    {
     "data": {
      "text/plain": [
       "Holt-Winters exponential smoothing with trend and additive seasonal component.\n",
       "\n",
       "Call:\n",
       "HoltWinters(x = suicide_series_train)\n",
       "\n",
       "Smoothing parameters:\n",
       " alpha: 0.2917631\n",
       " beta : 0.03378822\n",
       " gamma: 0.4538885\n",
       "\n",
       "Coefficients:\n",
       "            [,1]\n",
       "a   324.85700408\n",
       "b     0.67679811\n",
       "s1    0.09041252\n",
       "s2  -38.32469401\n",
       "s3   13.50295170\n",
       "s4  -14.20372866\n",
       "s5    6.83577053\n",
       "s6   12.76233301\n",
       "s7   13.98503337\n",
       "s8  -11.11293284\n",
       "s9   -2.28056973\n",
       "s10 -29.31952360\n",
       "s11 -54.97098234\n",
       "s12 -34.21309815"
      ]
     },
     "metadata": {},
     "output_type": "display_data"
    }
   ],
   "source": [
    "suicide_series_hw_forecasts  <- HoltWinters(suicide_series_train)\n",
    "suicide_series_hw_forecasts"
   ]
  },
  {
   "cell_type": "markdown",
   "metadata": {},
   "source": [
    "The estimated values of alpha, beta and gamma are 0.29, 0.03, and 0.45, respectively. The value of alpha is relatively low, indicating that the estimate of the level at the current time point is based upon both recent observations and some observations in the more distant past. The value of beta is 0.03, indicating that the estimate of the slope b of the trend component is not very updated over the time series, and instead is set equal to its initial value.\n",
    "This makes good intuitive sense, as the level changes quite a bit over the time series, but the slope b of the trend\n",
    "component remains the same. The value of gamma (0.45) is low, indicating that the seasonal component change, but not too much, over time.\n"
   ]
  },
  {
   "cell_type": "markdown",
   "metadata": {},
   "source": [
    "The observed values are plotted with the black line and the fitted values with the red one."
   ]
  },
  {
   "cell_type": "code",
   "execution_count": 33,
   "metadata": {
    "scrolled": true
   },
   "outputs": [
    {
     "data": {
      "image/png": "[encoded data removed]",
      "text/plain": [
       "Plot with title \"Forecasts from HoltWinters\""
      ]
     },
     "metadata": {},
     "output_type": "display_data"
    }
   ],
   "source": [
    "options(repr.plot.width= 8, repr.plot.height= 5)\n",
    "\n",
    "suicide_series_hw_future_forecasts <- forecast::forecast(suicide_series_hw_forecasts, h = 48)\n",
    "plot(suicide_series_hw_future_forecasts)"
   ]
  },
  {
   "cell_type": "markdown",
   "metadata": {},
   "source": [
    "*The forecasts are shown as a blue line, and the blue and grey shaded areas show 80% and 95% prediction\n",
    "intervals, respectively.*"
   ]
  },
  {
   "cell_type": "markdown",
   "metadata": {},
   "source": [
    "We can investigate whether the predictive model can be improved upon by checking whether the in-sample forecast\n",
    "errors show non-zero autocorrelations at lags 1-12, by making a correlogram and carrying out the Ljung-Box test.\n",
    "\n",
    "What is desired in time series is to build a model such that after extracting the trend and seasonality it can be certain that the waste is very similar to a white Gaussian noise. This assures us that we obtained all possible information from the data and that we can no longer know much more about the series in the errors. This also allows us to trust that the model is good and that its predictions therefore must be good."
   ]
  },
  {
   "cell_type": "code",
   "execution_count": 34,
   "metadata": {},
   "outputs": [
    {
     "data": {
      "text/plain": [
       "\n",
       "\tBox-Ljung test\n",
       "\n",
       "data:  suicide_series_hw_future_forecasts_residuals\n",
       "X-squared = 62.58, df = 12, p-value = 7.611e-09\n"
      ]
     },
     "metadata": {},
     "output_type": "display_data"
    },
    {
     "data": {
      "image/png": "[encoded data removed]",
      "text/plain": [
       "Plot with title \"Normal Q-Q Plot\""
      ]
     },
     "metadata": {},
     "output_type": "display_data"
    }
   ],
   "source": [
    "options(repr.plot.width=7, repr.plot.height=7)\n",
    "\n",
    "#Ljung-Box test\n",
    "suicide_series_hw_future_forecasts_residuals  <- residuals(suicide_series_hw_future_forecasts)\n",
    "Box.test(suicide_series_hw_future_forecasts_residuals, lag=12, type = 'Ljung-Box')\n",
    "\n",
    "#Graphic analysis\n",
    "par (mfrow = c(2,2))\n",
    "plot (suicide_series_hw_future_forecasts_residuals, ylab = 'Residuals')\n",
    "abline (h=0, lty=2, col=\"2\")\n",
    "##Correlogram\n",
    "acf (suicide_series_hw_future_forecasts_residuals, 12, na.action = na.pass, main = 'Residuals Series', ylab = 'ACF' )\n",
    "##Histogram\n",
    "hist(suicide_series_hw_future_forecasts_residuals, prob = T, col=\"6\", main = 'Histogram of residuals', xlab = 'Residuals')\n",
    "lines(density (na.omit(suicide_series_hw_future_forecasts_residuals)), col=\"4\")\n",
    "##Q-Q plot\n",
    "qqnorm (suicide_series_hw_future_forecasts_residuals)\n",
    "qqline (suicide_series_hw_future_forecasts_residuals,col=\"2\")"
   ]
  },
  {
   "cell_type": "markdown",
   "metadata": {},
   "source": [
    "The Ljung-Box test shows that the null hypothesis is rejected, that is, that the residuals don't behave like a white noise (zero mean, constant variance/homocedasticity and not correlated).\n",
    "\n",
    "Checking the graphical analysis and the hypothesis test, **it is concluded that the model is very not good.** Therefore, it can be considered that we aren't obtained all possible information from the data and that we can know much more about the series."
   ]
  },
  {
   "cell_type": "markdown",
   "metadata": {},
   "source": [
    "- Evaluating the forecasts"
   ]
  },
  {
   "cell_type": "code",
   "execution_count": 35,
   "metadata": {
    "scrolled": true
   },
   "outputs": [
    {
     "data": {
      "text/html": [
       "<table>\n",
       "<thead><tr><th></th><th scope=col>ME</th><th scope=col>RMSE</th><th scope=col>MAE</th><th scope=col>MPE</th><th scope=col>MAPE</th><th scope=col>MASE</th><th scope=col>ACF1</th><th scope=col>Theil's U</th></tr></thead>\n",
       "<tbody>\n",
       "\t<tr><th scope=row>Training set</th><td> -2.371969</td><td>25.06283  </td><td>19.43362  </td><td>-1.278772 </td><td> 7.124599 </td><td>0.7627673 </td><td>0.2237071 </td><td>      NA  </td></tr>\n",
       "\t<tr><th scope=row>Test set</th><td>-22.501139</td><td>35.57448  </td><td>30.54712  </td><td>-8.056353 </td><td>10.386658 </td><td>1.1989713 </td><td>0.2636436 </td><td>1.090524  </td></tr>\n",
       "</tbody>\n",
       "</table>\n"
      ],
      "text/latex": [
       "\\begin{tabular}{r|llllllll}\n",
       "  & ME & RMSE & MAE & MPE & MAPE & MASE & ACF1 & Theil's U\\\\\n",
       "\\hline\n",
       "\tTraining set &  -2.371969 & 25.06283   & 19.43362   & -1.278772  &  7.124599  & 0.7627673  & 0.2237071  &       NA  \\\\\n",
       "\tTest set & -22.501139 & 35.57448   & 30.54712   & -8.056353  & 10.386658  & 1.1989713  & 0.2636436  & 1.090524  \\\\\n",
       "\\end{tabular}\n"
      ],
      "text/markdown": [
       "\n",
       "| <!--/--> | ME | RMSE | MAE | MPE | MAPE | MASE | ACF1 | Theil's U | \n",
       "|---|---|\n",
       "| Training set |  -2.371969 | 25.06283   | 19.43362   | -1.278772  |  7.124599  | 0.7627673  | 0.2237071  |       NA   | \n",
       "| Test set | -22.501139 | 35.57448   | 30.54712   | -8.056353  | 10.386658  | 1.1989713  | 0.2636436  | 1.090524   | \n",
       "\n",
       "\n"
      ],
      "text/plain": [
       "             ME         RMSE     MAE      MPE       MAPE      MASE     \n",
       "Training set  -2.371969 25.06283 19.43362 -1.278772  7.124599 0.7627673\n",
       "Test set     -22.501139 35.57448 30.54712 -8.056353 10.386658 1.1989713\n",
       "             ACF1      Theil's U\n",
       "Training set 0.2237071       NA \n",
       "Test set     0.2636436 1.090524 "
      ]
     },
     "metadata": {},
     "output_type": "display_data"
    },
    {
     "data": {
      "image/png": "[encoded data removed]",
      "text/plain": [
       "Plot with title \"Forecasts from HoltWinters\""
      ]
     },
     "metadata": {},
     "output_type": "display_data"
    }
   ],
   "source": [
    "options(repr.plot.width= 8, repr.plot.height= 5)\n",
    "\n",
    "#Accuracy and plot\n",
    "accuracy(suicide_series_hw_future_forecasts, suicide_series_test)\n",
    "plot(suicide_series_hw_future_forecasts)\n",
    "#lines(suicide_1998_2017)\n",
    "lines(suicide_series_test)"
   ]
  },
  {
   "cell_type": "markdown",
   "metadata": {},
   "source": [
    "If we want to apply other models like Arima we have to have in mind that most of the time series models work on the assumption that the time series is stationary.  Also, the theories related to stationary series are more mature and easier to implement as compared to non-stationary series."
   ]
  },
  {
   "cell_type": "markdown",
   "metadata": {},
   "source": [
    "### 3.2. Stationarity Testing"
   ]
  },
  {
   "cell_type": "markdown",
   "metadata": {},
   "source": [
    "We can assume the series to be stationary if it has these following statistical properties over time:\n",
    "\n",
    "- Constant mean\n",
    "- Constant variance\n",
    "- An autocovariance that does not depend on time.\n",
    "\n",
    "To test these conditions we will use the following methods:\n",
    "- In the first one we'll see how their 'moving' statistics behave.\n",
    "- In the second one we are going to observe the summary statistics.\n",
    "- And in the last one we're going to use statistical tests."
   ]
  },
  {
   "cell_type": "markdown",
   "metadata": {},
   "source": [
    "#### 3.2.1. Moving statistics"
   ]
  },
  {
   "cell_type": "markdown",
   "metadata": {},
   "source": [
    "We can plot the moving average and see if it varies with time, this is a smoothing method. By moving average We mean that at any instant ‘t’, we’ll take the average of the last year (in our case). We are going to plot it against the original time series and take a look at it."
   ]
  },
  {
   "cell_type": "code",
   "execution_count": 36,
   "metadata": {},
   "outputs": [
    {
     "data": {},
     "metadata": {},
     "output_type": "display_data"
    },
    {
     "data": {
      "image/png": "[encoded data removed]",
      "text/plain": [
       "plot without title"
      ]
     },
     "metadata": {},
     "output_type": "display_data"
    }
   ],
   "source": [
    "options(repr.plot.width= 8, repr.plot.height= 5)\n",
    "\n",
    "moving_mean_vs_OG <- function (OriginalTimeSeries, ylabel){\n",
    "    MovingMean  <- SMA (OriginalTimeSeries, 12)\n",
    "    Moving_mean_vs_OG  <- cbind(OriginalTimeSeries, MovingMean)\n",
    "    options(repr.plot.width=8, repr.plot.height=3)\n",
    "    autoplot(Moving_mean_vs_OG, ylab = ylabel)}\n",
    "\n",
    "moving_mean_vs_OG(suicide_series_train, 'Number of Suicides')\n",
    "\n"
   ]
  },
  {
   "cell_type": "markdown",
   "metadata": {},
   "source": [
    "The mean is close to be constant over time. It seems that the series is close to **stationary** but we are going to keep checking."
   ]
  },
  {
   "cell_type": "markdown",
   "metadata": {},
   "source": [
    "#### 3.2.2. Summary Statistics"
   ]
  },
  {
   "cell_type": "markdown",
   "metadata": {},
   "source": [
    "We are going to split suicide time series into two partitions and compare the mean and variance of each group. If they differ and the difference is statistically significant, the time series is likely non-stationary."
   ]
  },
  {
   "cell_type": "code",
   "execution_count": 37,
   "metadata": {},
   "outputs": [
    {
     "name": "stdout",
     "output_type": "stream",
     "text": [
      "[1] \"Mean of the first partition = 272.427083333333\"\n",
      "[1] \"Mean of the second partition = 282.340206185567\"\n",
      "[1] \"Variance of the first partition = 1339.40515350877\"\n",
      "[1] \"Variance of the second partition = 1170.24763745704\"\n"
     ]
    }
   ],
   "source": [
    "Stationarity_descriptive_test <- function (timeseries){\n",
    "    split  <-  length(timeseries) / 2\n",
    "    X1 <-  timeseries[0:split]\n",
    "    X2  <- timeseries[split: length(timeseries)]\n",
    "    print (paste('Mean of the first partition =', mean(X1)))\n",
    "    print (paste('Mean of the second partition =', mean(X2)))\n",
    "    print (paste('Variance of the first partition =', var(X1)))\n",
    "    print (paste('Variance of the second partition =', var(X2)))}\n",
    "\n",
    "Stationarity_descriptive_test (suicide_series_train)"
   ]
  },
  {
   "cell_type": "markdown",
   "metadata": {},
   "source": [
    "Running the code above, we can see the mean and variance don't look very different over time. Again, it seems that we have a **stationary** time series."
   ]
  },
  {
   "cell_type": "markdown",
   "metadata": {},
   "source": [
    "#### 3.2.3. Statistical Tests"
   ]
  },
  {
   "cell_type": "markdown",
   "metadata": {},
   "source": [
    "The ADF test has an alternate hypothesis of linear or difference stationary, while the KPSS test identifies trend-stationarity in a series.\n",
    "\n",
    "ADF:\n",
    "- Null Hypothesis (H0): If failed to be rejected, it suggests the time series has a unit root, meaning it is non-stationary. It has some time dependent structure. Alternate Hypothesis (H1): The null hypothesis is rejected; it suggests the time series does not have a unit root, meaning it is stationary. It does not have time-dependent structure.\n",
    "\n",
    "KPSS"
   ]
  },
  {
   "cell_type": "code",
   "execution_count": 38,
   "metadata": {},
   "outputs": [
    {
     "name": "stdout",
     "output_type": "stream",
     "text": [
      "Augmented Dickey-Fuller Test \n",
      "alternative: stationary \n",
      " \n",
      "Type 1: no drift no trend \n",
      "     lag    ADF p.value\n",
      "[1,]   0 -0.679   0.436\n",
      "[2,]   1 -0.360   0.540\n",
      "[3,]   2 -0.484   0.505\n",
      "[4,]   3 -0.396   0.530\n",
      "[5,]   4 -0.392   0.531\n",
      "Type 2: with drift no trend \n",
      "     lag   ADF p.value\n",
      "[1,]   0 -7.31    0.01\n",
      "[2,]   1 -4.87    0.01\n",
      "[3,]   2 -5.11    0.01\n",
      "[4,]   3 -6.24    0.01\n",
      "[5,]   4 -6.16    0.01\n",
      "Type 3: with drift and trend \n",
      "     lag   ADF p.value\n",
      "[1,]   0 -7.68    0.01\n",
      "[2,]   1 -5.08    0.01\n",
      "[3,]   2 -5.49    0.01\n",
      "[4,]   3 -6.64    0.01\n",
      "[5,]   4 -6.70    0.01\n",
      "---- \n",
      "Note: in fact, p.value = 0.01 means p.value <= 0.01 \n",
      "$type1\n",
      "     lag        ADF   p.value\n",
      "[1,]   0 -0.6786285 0.4359793\n",
      "[2,]   1 -0.3600657 0.5401552\n",
      "[3,]   2 -0.4835524 0.5047198\n",
      "[4,]   3 -0.3957248 0.5299226\n",
      "[5,]   4 -0.3915347 0.5311250\n",
      "\n",
      "$type2\n",
      "     lag       ADF p.value\n",
      "[1,]   0 -7.313043    0.01\n",
      "[2,]   1 -4.865494    0.01\n",
      "[3,]   2 -5.112658    0.01\n",
      "[4,]   3 -6.243805    0.01\n",
      "[5,]   4 -6.161538    0.01\n",
      "\n",
      "$type3\n",
      "     lag       ADF p.value\n",
      "[1,]   0 -7.678060    0.01\n",
      "[2,]   1 -5.084861    0.01\n",
      "[3,]   2 -5.487600    0.01\n",
      "[4,]   3 -6.642197    0.01\n",
      "[5,]   4 -6.703688    0.01\n",
      "\n",
      "KPSS Unit Root Test \n",
      "alternative: nonstationary \n",
      " \n",
      "Type 1: no drift no trend \n",
      " lag  stat p.value\n",
      "   3 0.499     0.1\n",
      "----- \n",
      " Type 2: with drift no trend \n",
      " lag  stat p.value\n",
      "   3 0.361  0.0942\n",
      "----- \n",
      " Type 1: with drift and trend \n",
      " lag   stat p.value\n",
      "   3 0.0917     0.1\n",
      "----------- \n",
      "Note: p.value = 0.01 means p.value <= 0.01 \n",
      "    : p.value = 0.10 means p.value >= 0.10 \n",
      "       lag       kpss   p.value\n",
      "type 1   3 0.49929287 0.1000000\n",
      "type 2   3 0.36056714 0.0941521\n",
      "type 3   3 0.09165548 0.1000000\n"
     ]
    }
   ],
   "source": [
    "Stationarity_statistical_tests <- function(timeseries){\n",
    "    print(adf.test (timeseries))\n",
    "    print(kpss.test (timeseries))}\n",
    "    \n",
    "Stationarity_statistical_tests(suicide_series_train)"
   ]
  },
  {
   "cell_type": "markdown",
   "metadata": {},
   "source": [
    "In the Dickey Fuller test the p-value is lower than 0.05 in type 2 and 3 and is greater in type 1 so we are not sure about the stationarity.\n",
    "\n",
    "However, in the Kpss test the p-value is greater than 0.05 in the three types so the null hypothesis of stationarity can't be rejected that easily."
   ]
  },
  {
   "cell_type": "markdown",
   "metadata": {},
   "source": [
    "Also we can use 'ndiffs' function to see the number of differences required for our time series to pass the stationarity statistical tests. We are going to check this out for the 'kpss', 'adf' and 'pp' tests."
   ]
  },
  {
   "cell_type": "code",
   "execution_count": 39,
   "metadata": {
    "scrolled": true
   },
   "outputs": [
    {
     "data": {
      "text/html": [
       "1"
      ],
      "text/latex": [
       "1"
      ],
      "text/markdown": [
       "1"
      ],
      "text/plain": [
       "[1] 1"
      ]
     },
     "metadata": {},
     "output_type": "display_data"
    }
   ],
   "source": [
    "ndiffs(suicide_series_train, test= 'kpss')"
   ]
  },
  {
   "cell_type": "code",
   "execution_count": 40,
   "metadata": {},
   "outputs": [
    {
     "data": {
      "text/html": [
       "0"
      ],
      "text/latex": [
       "0"
      ],
      "text/markdown": [
       "0"
      ],
      "text/plain": [
       "[1] 0"
      ]
     },
     "metadata": {},
     "output_type": "display_data"
    }
   ],
   "source": [
    "ndiffs(suicide_series_train, test= 'adf')"
   ]
  },
  {
   "cell_type": "code",
   "execution_count": 41,
   "metadata": {},
   "outputs": [
    {
     "data": {
      "text/html": [
       "0"
      ],
      "text/latex": [
       "0"
      ],
      "text/markdown": [
       "0"
      ],
      "text/plain": [
       "[1] 0"
      ]
     },
     "metadata": {},
     "output_type": "display_data"
    }
   ],
   "source": [
    "ndiffs(suicide_series_train, test='pp')"
   ]
  },
  {
   "cell_type": "markdown",
   "metadata": {},
   "source": [
    "We aren't very sure about the stationarity of our series although differencing of first order may be a good procedure to  make sure that we are dealing with a stationary one."
   ]
  },
  {
   "cell_type": "markdown",
   "metadata": {},
   "source": [
    "## 4. Forecasting with ARIMA"
   ]
  },
  {
   "cell_type": "markdown",
   "metadata": {},
   "source": [
    "ARIMA stands for AutoRegressive Integrated Moving Average. Automatic Regression (AR) is the term that refers to the delays of the differentiated series, Moving Average (MA) refers to the delays of the errors and the integration (I) is the number of differences used to make the series of times is stationary.\n",
    "\n",
    "As we said before, there are some necessary conditions for the ARIMA Model:\n",
    "\n",
    "- The data must be stationary, this means that the properties of the series do not depend on the moment in which they are captured. A series of white noise and series with cyclic behavior can also be considered as stationary series.\n",
    "\n",
    "- The data must be univariate, ARIMA works in a single variable. Automatic regression has to do with the regression of past values.\n"
   ]
  },
  {
   "cell_type": "markdown",
   "metadata": {},
   "source": [
    "The first thing we are going to do is eliminate the non-stationary part of our series. To facilitate the analysis here, we will also eliminate the seasonal part of the data. The seasonal part can be removed from the analysis and added later, or it can be treated in the ARIMA model itself."
   ]
  },
  {
   "cell_type": "markdown",
   "metadata": {},
   "source": [
    "### 4.1.  Conversion to Stationary"
   ]
  },
  {
   "cell_type": "markdown",
   "metadata": {},
   "source": [
    "This consists of modeling or estimating the trend and seasonality in the series and eliminating them from the series to obtain a stationary series. Then statistical forecasting techniques can be implemented in this series."
   ]
  },
  {
   "cell_type": "markdown",
   "metadata": {},
   "source": [
    "#### 4.1.1.  Smoothing\n",
    "\n",
    "First of all, we are going to reduce trend a little by applying Box Cox transformation."
   ]
  },
  {
   "cell_type": "code",
   "execution_count": 42,
   "metadata": {},
   "outputs": [
    {
     "data": {
      "image/png": "[encoded data removed]",
      "text/plain": [
       "Plot with title \"Suicide Series Box Cox\""
      ]
     },
     "metadata": {},
     "output_type": "display_data"
    },
    {
     "data": {
      "image/png": "[encoded data removed]",
      "text/plain": [
       "Plot with title \"Suicide Series\""
      ]
     },
     "metadata": {},
     "output_type": "display_data"
    }
   ],
   "source": [
    "options(repr.plot.width=8, repr.plot.height=3)\n",
    "\n",
    "suicide_series_BoxCox <- forecast::BoxCox(suicide_series_train, lambda = 0)\n",
    "plot(suicide_series_BoxCox, ylab = 'Suicide', main = 'Suicide Series Box Cox')\n",
    "plot(suicide_series_train, ylab = 'Suicide', main = 'Suicide Series')"
   ]
  },
  {
   "cell_type": "markdown",
   "metadata": {},
   "source": [
    "#### 4.1.2. Differencing\n",
    "Transformations such as logarithms or Box Cox can help to stabilise the variance of a time series. Differencing can help stabilise the mean of a time series by removing changes in the level of a time series, and therefore eliminating (or reducing) trend and seasonality."
   ]
  },
  {
   "cell_type": "code",
   "execution_count": 43,
   "metadata": {},
   "outputs": [
    {
     "data": {
      "image/png": "[encoded data removed]",
      "text/plain": [
       "Plot with title \"Suicide Series after Differencing\""
      ]
     },
     "metadata": {},
     "output_type": "display_data"
    },
    {
     "data": {
      "image/png": "[encoded data removed]",
      "text/plain": [
       "Plot with title \"Suicide Series Box Cox transformated after Differencing\""
      ]
     },
     "metadata": {},
     "output_type": "display_data"
    }
   ],
   "source": [
    "options(repr.plot.width=8, repr.plot.height=3)\n",
    "\n",
    "suicide_series_diff <- diff(suicide_series_train)\n",
    "suicide_series_diff_BoxCox <- diff(suicide_series_BoxCox)\n",
    "\n",
    "plot(suicide_series_diff, ylab = 'Values', main = 'Suicide Series after Differencing')\n",
    "plot(suicide_series_diff_BoxCox, ylab = 'Values', main = 'Suicide Series Box Cox transformated after Differencing')"
   ]
  },
  {
   "cell_type": "markdown",
   "metadata": {},
   "source": [
    "Box Cox transformated series looks better to us, we are going to choose it to keep working with."
   ]
  },
  {
   "cell_type": "markdown",
   "metadata": {},
   "source": [
    "Now we are going to test the resulting series **after the transformation.**\n",
    "We are going to use the sationarity tests that we did before."
   ]
  },
  {
   "cell_type": "code",
   "execution_count": 44,
   "metadata": {},
   "outputs": [
    {
     "data": {},
     "metadata": {},
     "output_type": "display_data"
    },
    {
     "data": {
      "image/png": "[encoded data removed]",
      "text/plain": [
       "plot without title"
      ]
     },
     "metadata": {},
     "output_type": "display_data"
    }
   ],
   "source": [
    "options(repr.plot.width=8, repr.plot.height=3)\n",
    "\n",
    "#Visual test with moving mean\n",
    "moving_mean_vs_OG(suicide_series_diff_BoxCox, 'Suicides')"
   ]
  },
  {
   "cell_type": "markdown",
   "metadata": {},
   "source": [
    "The mean keeps constant over time. Seems that now we have a stationary series."
   ]
  },
  {
   "cell_type": "code",
   "execution_count": 45,
   "metadata": {},
   "outputs": [
    {
     "name": "stdout",
     "output_type": "stream",
     "text": [
      "[1] \"Mean of the first partition = 0.00122908576584883\"\n",
      "[1] \"Mean of the second partition = 0.00123696617475356\"\n",
      "[1] \"Variance of the first partition = 0.0167309396109782\"\n",
      "[1] \"Variance of the second partition = 0.0143837443879929\"\n"
     ]
    }
   ],
   "source": [
    "#Numerical test contrasting mean and variance at different time points\n",
    "Stationarity_descriptive_test(suicide_series_diff_BoxCox)"
   ]
  },
  {
   "cell_type": "markdown",
   "metadata": {},
   "source": [
    "Both mean and variance don't change almost anything over time."
   ]
  },
  {
   "cell_type": "code",
   "execution_count": 46,
   "metadata": {},
   "outputs": [
    {
     "name": "stdout",
     "output_type": "stream",
     "text": [
      "Augmented Dickey-Fuller Test \n",
      "alternative: stationary \n",
      " \n",
      "Type 1: no drift no trend \n",
      "     lag    ADF p.value\n",
      "[1,]   0 -21.78    0.01\n",
      "[2,]   1 -11.59    0.01\n",
      "[3,]   2  -8.22    0.01\n",
      "[4,]   3  -7.63    0.01\n",
      "[5,]   4  -8.21    0.01\n",
      "Type 2: with drift no trend \n",
      "     lag    ADF p.value\n",
      "[1,]   0 -21.73    0.01\n",
      "[2,]   1 -11.56    0.01\n",
      "[3,]   2  -8.20    0.01\n",
      "[4,]   3  -7.61    0.01\n",
      "[5,]   4  -8.19    0.01\n",
      "Type 3: with drift and trend \n",
      "     lag    ADF p.value\n",
      "[1,]   0 -21.67    0.01\n",
      "[2,]   1 -11.52    0.01\n",
      "[3,]   2  -8.18    0.01\n",
      "[4,]   3  -7.59    0.01\n",
      "[5,]   4  -8.17    0.01\n",
      "---- \n",
      "Note: in fact, p.value = 0.01 means p.value <= 0.01 \n",
      "$type1\n",
      "     lag        ADF p.value\n",
      "[1,]   0 -21.781243    0.01\n",
      "[2,]   1 -11.589756    0.01\n",
      "[3,]   2  -8.215223    0.01\n",
      "[4,]   3  -7.628237    0.01\n",
      "[5,]   4  -8.209013    0.01\n",
      "\n",
      "$type2\n",
      "     lag        ADF p.value\n",
      "[1,]   0 -21.725765    0.01\n",
      "[2,]   1 -11.557773    0.01\n",
      "[3,]   2  -8.196549    0.01\n",
      "[4,]   3  -7.608165    0.01\n",
      "[5,]   4  -8.191180    0.01\n",
      "\n",
      "$type3\n",
      "     lag        ADF p.value\n",
      "[1,]   0 -21.672521    0.01\n",
      "[2,]   1 -11.524188    0.01\n",
      "[3,]   2  -8.179726    0.01\n",
      "[4,]   3  -7.589740    0.01\n",
      "[5,]   4  -8.171052    0.01\n",
      "\n",
      "KPSS Unit Root Test \n",
      "alternative: nonstationary \n",
      " \n",
      "Type 1: no drift no trend \n",
      " lag  stat p.value\n",
      "   3 0.037     0.1\n",
      "----- \n",
      " Type 2: with drift no trend \n",
      " lag   stat p.value\n",
      "   3 0.0167     0.1\n",
      "----- \n",
      " Type 1: with drift and trend \n",
      " lag   stat p.value\n",
      "   3 0.0113     0.1\n",
      "----------- \n",
      "Note: p.value = 0.01 means p.value <= 0.01 \n",
      "    : p.value = 0.10 means p.value >= 0.10 \n",
      "       lag       kpss p.value\n",
      "type 1   3 0.03695319     0.1\n",
      "type 2   3 0.01666457     0.1\n",
      "type 3   3 0.01126860     0.1\n"
     ]
    }
   ],
   "source": [
    "#KPSS and ADF hypothesis tests for stationarity\n",
    "Stationarity_statistical_tests(suicide_series_diff_BoxCox)"
   ]
  },
  {
   "cell_type": "markdown",
   "metadata": {},
   "source": [
    "Our new time series passed the tests with 1 difference. We have a **stationary time series**\n",
    "\n",
    "##### *We can assume that our time series needs a differentiation of order 1 to become completely stationary and that the original one is weakly stationary*"
   ]
  },
  {
   "cell_type": "code",
   "execution_count": 50,
   "metadata": {},
   "outputs": [
    {
     "data": {
      "image/png": "[encoded data removed]",
      "text/plain": [
       "plot without title"
      ]
     },
     "metadata": {},
     "output_type": "display_data"
    }
   ],
   "source": [
    "options(repr.plot.width=8, repr.plot.height=5)\n",
    "\n",
    "STL_suicide_diff_BoxCox_components <- mstl(suicide_series_diff_BoxCox)\n",
    "plot(STL_suicide_diff_BoxCox_components)"
   ]
  },
  {
   "cell_type": "code",
   "execution_count": 51,
   "metadata": {
    "scrolled": true
   },
   "outputs": [
    {
     "data": {
      "text/plain": [
       "               Jan           Feb           Mar           Apr           May\n",
       "1998               -7.541800e-02  1.443403e-01 -8.951331e-02  1.205942e-01\n",
       "1999  1.246608e-01 -7.532054e-02  1.439919e-01 -8.712446e-02  1.197752e-01\n",
       "2000  1.238125e-01 -7.520267e-02  1.436635e-01 -8.471601e-02  1.189713e-01\n",
       "2001  1.228880e-01 -7.744742e-02  1.435960e-01 -7.906716e-02  1.161216e-01\n",
       "2002  1.207240e-01 -7.953342e-02  1.436659e-01 -7.330231e-02  1.133320e-01\n",
       "2003  1.180164e-01 -7.964347e-02  1.424052e-01 -6.492696e-02  1.086299e-01\n",
       "2004  1.117467e-01 -7.921858e-02  1.416791e-01 -5.601755e-02  1.044352e-01\n",
       "2005  1.058620e-01 -7.328576e-02  1.433639e-01 -5.504230e-02  1.086113e-01\n",
       "2006  1.145410e-01 -6.809950e-02  1.443433e-01 -5.473132e-02  1.122545e-01\n",
       "2007  1.240059e-01 -7.418301e-02  1.546334e-01 -5.626163e-02  1.081243e-01\n",
       "2008  1.264198e-01 -8.094378e-02  1.642651e-01 -5.843161e-02  1.034218e-01\n",
       "2009  1.288525e-01 -8.568673e-02  1.675250e-01 -6.183683e-02  9.884354e-02\n",
       "2010  1.301142e-01 -9.029989e-02  1.708898e-01 -6.516186e-02  9.430585e-02\n",
       "2011  1.310639e-01 -9.205113e-02  1.716484e-01 -6.652551e-02  9.249077e-02\n",
       "2012  1.314412e-01 -9.355358e-02  1.726558e-01 -6.764044e-02  9.090192e-02\n",
       "2013  1.318053e-01 -9.453972e-02  1.732642e-01 -6.843734e-02  8.960836e-02\n",
       "               Jun           Jul           Aug           Sep           Oct\n",
       "1998 -4.300193e-02  4.619177e-02 -7.076701e-02 -4.351601e-02 -5.493601e-02\n",
       "1999 -3.951780e-02  4.418371e-02 -6.925559e-02 -4.393781e-02 -5.480876e-02\n",
       "2000 -3.602290e-02  4.217535e-02 -6.775554e-02 -4.438569e-02 -5.472232e-02\n",
       "2001 -2.966559e-02  3.925805e-02 -6.518988e-02 -4.449083e-02 -5.362237e-02\n",
       "2002 -2.330396e-02  3.626014e-02 -6.278975e-02 -4.485766e-02 -5.288030e-02\n",
       "2003 -3.671842e-03  2.482201e-02 -5.562924e-02 -4.675954e-02 -5.021267e-02\n",
       "2004  1.644100e-02  1.384061e-02 -4.803599e-02 -4.824318e-02 -4.714134e-02\n",
       "2005  1.738711e-02  6.428834e-03 -4.489862e-02 -4.848816e-02 -4.801831e-02\n",
       "2006  1.793192e-02 -1.191744e-03 -4.177756e-02 -4.854042e-02 -4.849350e-02\n",
       "2007  9.518969e-03 -1.680438e-03 -4.197326e-02 -4.357976e-02 -4.958022e-02\n",
       "2008  6.011767e-04 -2.585985e-03 -4.249782e-02 -3.885976e-02 -5.081937e-02\n",
       "2009  9.764277e-04 -2.137635e-03 -4.731400e-02 -3.254017e-02 -5.487954e-02\n",
       "2010  1.352672e-03 -1.740760e-03 -5.223413e-02 -2.638077e-02 -5.915614e-02\n",
       "2011  8.584737e-04 -1.736047e-03 -5.392080e-02 -2.409810e-02 -6.052062e-02\n",
       "2012  5.679818e-04 -1.561886e-03 -5.547229e-02 -2.171711e-02 -6.182363e-02\n",
       "2013  8.803791e-05 -1.383401e-03 -5.649349e-02 -2.012341e-02 -6.296384e-02\n",
       "               Nov           Dec\n",
       "1998 -1.287729e-01  6.783387e-02\n",
       "1999 -1.289685e-01  6.483867e-02\n",
       "2000 -1.292185e-01  6.177561e-02\n",
       "2001 -1.298056e-01  5.554992e-02\n",
       "2002 -1.308269e-01  4.881373e-02\n",
       "2003 -1.321221e-01  3.344409e-02\n",
       "2004 -1.330204e-01  1.846456e-02\n",
       "2005 -1.234668e-01 -1.378810e-03\n",
       "2006 -1.133523e-01 -2.050215e-02\n",
       "2007 -1.097957e-01 -1.494135e-02\n",
       "2008 -1.063238e-01 -9.397551e-03\n",
       "2009 -1.059193e-01 -8.402311e-04\n",
       "2010 -1.057725e-01  7.418054e-03\n",
       "2011 -1.053599e-01  1.008906e-02\n",
       "2012 -1.049151e-01  1.276315e-02\n",
       "2013 -1.045534e-01  1.545602e-02"
      ]
     },
     "metadata": {},
     "output_type": "display_data"
    }
   ],
   "source": [
    "seasonal(STL_suicide_diff_BoxCox_components)"
   ]
  },
  {
   "cell_type": "markdown",
   "metadata": {},
   "source": [
    "### 4.2. Best ARIMA model"
   ]
  },
  {
   "cell_type": "markdown",
   "metadata": {},
   "source": [
    "We already have the data that meet the conditions Arima asks us for. With this data we would pass on to calculate the appropriate parameters (p, d, q and P, D, Q) to choose the model that best fits with the values of acf and pcf function applied to our transformated and differenced time series.\n",
    "\n",
    "However, we have chosen to use the 'auto.arima' function that facilitates our work choosing the best parameters.\n",
    "\n",
    "The 'auto.arima' function returns the best ARIMA model according to either AIC, AICc or BIC value. The function conducts a search over possible model within the order constraints provided."
   ]
  },
  {
   "cell_type": "markdown",
   "metadata": {},
   "source": [
    "#### 4.2.1. Estimating"
   ]
  },
  {
   "cell_type": "markdown",
   "metadata": {},
   "source": [
    "Throughout the analysis we have arrived at a series of conclusions:\n",
    "\n",
    "- We know that our original time series is probably non stationary or weakly stationary so we don't really know if it's going to need a differencing of first order or not at the 'd' parameter.\n",
    "- We know that our original time series has a seasonal component.\n",
    "- Also, we assume that we need a differencing of first order in the seasonal component because is very strong and more than one difference is not recommended (D=1)  so we will be more efficient and we will introduce the parameter D in the function."
   ]
  },
  {
   "cell_type": "code",
   "execution_count": 80,
   "metadata": {},
   "outputs": [
    {
     "name": "stdout",
     "output_type": "stream",
     "text": [
      "\n",
      " ARIMA(0,0,0)(0,1,0)[12]                    : -243.0162\n",
      " ARIMA(0,0,0)(0,1,0)[12] with drift         : -249.8955\n",
      " ARIMA(0,0,0)(0,1,1)[12]                    : -259.4964\n",
      " ARIMA(0,0,0)(0,1,1)[12] with drift         : Inf\n",
      " ARIMA(0,0,0)(0,1,2)[12]                    : -265.2891\n",
      " ARIMA(0,0,0)(0,1,2)[12] with drift         : Inf\n",
      " ARIMA(0,0,0)(1,1,0)[12]                    : -247.2946\n",
      " ARIMA(0,0,0)(1,1,0)[12] with drift         : -255.8843\n",
      " ARIMA(0,0,0)(1,1,1)[12]                    : -261.1093\n",
      " ARIMA(0,0,0)(1,1,1)[12] with drift         : Inf\n",
      " ARIMA(0,0,0)(1,1,2)[12]                    : -267.2924\n",
      " ARIMA(0,0,0)(1,1,2)[12] with drift         : Inf\n",
      " ARIMA(0,0,0)(2,1,0)[12]                    : -266.815\n",
      " ARIMA(0,0,0)(2,1,0)[12] with drift         : -277.3449\n",
      " ARIMA(0,0,0)(2,1,1)[12]                    : -267.3383\n",
      " ARIMA(0,0,0)(2,1,1)[12] with drift         : Inf\n",
      " ARIMA(0,0,0)(2,1,2)[12]                    : -265.3697\n",
      " ARIMA(0,0,0)(2,1,2)[12] with drift         : Inf\n",
      " ARIMA(0,0,1)(0,1,0)[12]                    : -260.1708\n",
      " ARIMA(0,0,1)(0,1,0)[12] with drift         : -264.3891\n",
      " ARIMA(0,0,1)(0,1,1)[12]                    : -302.7855\n",
      " ARIMA(0,0,1)(0,1,1)[12] with drift         : Inf\n",
      " ARIMA(0,0,1)(0,1,2)[12]                    : -300.8918\n",
      " ARIMA(0,0,1)(0,1,2)[12] with drift         : Inf\n",
      " ARIMA(0,0,1)(1,1,0)[12]                    : -277.7718\n",
      " ARIMA(0,0,1)(1,1,0)[12] with drift         : -283.3775\n",
      " ARIMA(0,0,1)(1,1,1)[12]                    : -300.8212\n",
      " ARIMA(0,0,1)(1,1,1)[12] with drift         : Inf\n",
      " ARIMA(0,0,1)(1,1,2)[12]                    : Inf\n",
      " ARIMA(0,0,1)(1,1,2)[12] with drift         : Inf\n",
      " ARIMA(0,0,1)(2,1,0)[12]                    : -299.1508\n",
      " ARIMA(0,0,1)(2,1,0)[12] with drift         : -306.109\n",
      " ARIMA(0,0,1)(2,1,1)[12]                    : -301.3349\n",
      " ARIMA(0,0,1)(2,1,1)[12] with drift         : Inf\n",
      " ARIMA(0,0,1)(2,1,2)[12]                    : -301.8283\n",
      " ARIMA(0,0,1)(2,1,2)[12] with drift         : Inf\n",
      " ARIMA(0,0,2)(0,1,0)[12]                    : -269.7959\n",
      " ARIMA(0,0,2)(0,1,0)[12] with drift         : -272.6611\n",
      " ARIMA(0,0,2)(0,1,1)[12]                    : -320.6924\n",
      " ARIMA(0,0,2)(0,1,1)[12] with drift         : Inf\n",
      " ARIMA(0,0,2)(0,1,2)[12]                    : -318.5932\n",
      " ARIMA(0,0,2)(0,1,2)[12] with drift         : Inf\n",
      " ARIMA(0,0,2)(1,1,0)[12]                    : -290.6457\n",
      " ARIMA(0,0,2)(1,1,0)[12] with drift         : -294.745\n",
      " ARIMA(0,0,2)(1,1,1)[12]                    : -318.5874\n",
      " ARIMA(0,0,2)(1,1,1)[12] with drift         : Inf\n",
      " ARIMA(0,0,2)(1,1,2)[12]                    : Inf\n",
      " ARIMA(0,0,2)(1,1,2)[12] with drift         : Inf\n",
      " ARIMA(0,0,2)(2,1,0)[12]                    : -312.7672\n",
      " ARIMA(0,0,2)(2,1,0)[12] with drift         : -317.8667\n",
      " ARIMA(0,0,2)(2,1,1)[12]                    : -318.9557\n",
      " ARIMA(0,0,2)(2,1,1)[12] with drift         : Inf\n",
      " ARIMA(0,0,3)(0,1,0)[12]                    : -275.7274\n",
      " ARIMA(0,0,3)(0,1,0)[12] with drift         : -277.4865\n",
      " ARIMA(0,0,3)(0,1,1)[12]                    : Inf\n",
      " ARIMA(0,0,3)(0,1,1)[12] with drift         : Inf\n",
      " ARIMA(0,0,3)(0,1,2)[12]                    : Inf\n",
      " ARIMA(0,0,3)(0,1,2)[12] with drift         : Inf\n",
      " ARIMA(0,0,3)(1,1,0)[12]                    : -302.7613\n",
      " ARIMA(0,0,3)(1,1,0)[12] with drift         : -305.1808\n",
      " ARIMA(0,0,3)(1,1,1)[12]                    : Inf\n",
      " ARIMA(0,0,3)(1,1,1)[12] with drift         : Inf\n",
      " ARIMA(0,0,3)(2,1,0)[12]                    : -322.4809\n",
      " ARIMA(0,0,3)(2,1,0)[12] with drift         : -325.9066\n",
      " ARIMA(0,0,4)(0,1,0)[12]                    : -276.9235\n",
      " ARIMA(0,0,4)(0,1,0)[12] with drift         : -278.0047\n",
      " ARIMA(0,0,4)(0,1,1)[12]                    : Inf\n",
      " ARIMA(0,0,4)(0,1,1)[12] with drift         : Inf\n",
      " ARIMA(0,0,4)(1,1,0)[12]                    : -303.4939\n",
      " ARIMA(0,0,4)(1,1,0)[12] with drift         : -305.543\n",
      " ARIMA(0,0,5)(0,1,0)[12]                    : -277.3104\n",
      " ARIMA(0,0,5)(0,1,0)[12] with drift         : -277.8874\n",
      " ARIMA(1,0,0)(0,1,0)[12]                    : -270.9217\n",
      " ARIMA(1,0,0)(0,1,0)[12] with drift         : -273.0394\n",
      " ARIMA(1,0,0)(0,1,1)[12]                    : Inf\n",
      " ARIMA(1,0,0)(0,1,1)[12] with drift         : Inf\n",
      " ARIMA(1,0,0)(0,1,2)[12]                    : Inf\n",
      " ARIMA(1,0,0)(0,1,2)[12] with drift         : Inf\n",
      " ARIMA(1,0,0)(1,1,0)[12]                    : -302.5667\n",
      " ARIMA(1,0,0)(1,1,0)[12] with drift         : -304.3159\n",
      " ARIMA(1,0,0)(1,1,1)[12]                    : Inf\n",
      " ARIMA(1,0,0)(1,1,1)[12] with drift         : Inf\n",
      " ARIMA(1,0,0)(1,1,2)[12]                    : -337.1663\n",
      " ARIMA(1,0,0)(1,1,2)[12] with drift         : Inf\n",
      " ARIMA(1,0,0)(2,1,0)[12]                    : -328.7843\n",
      " ARIMA(1,0,0)(2,1,0)[12] with drift         : -330.7531\n",
      " ARIMA(1,0,0)(2,1,1)[12]                    : -337.8623\n",
      " ARIMA(1,0,0)(2,1,1)[12] with drift         : Inf\n",
      " ARIMA(1,0,0)(2,1,2)[12]                    : Inf\n",
      " ARIMA(1,0,0)(2,1,2)[12] with drift         : Inf\n",
      " ARIMA(1,0,1)(0,1,0)[12]                    : -287.5658\n",
      " ARIMA(1,0,1)(0,1,0)[12] with drift         : -287.0623\n",
      " ARIMA(1,0,1)(0,1,1)[12]                    : Inf\n",
      " ARIMA(1,0,1)(0,1,1)[12] with drift         : Inf\n",
      " ARIMA(1,0,1)(0,1,2)[12]                    : Inf\n",
      " ARIMA(1,0,1)(0,1,2)[12] with drift         : Inf\n",
      " ARIMA(1,0,1)(1,1,0)[12]                    : -318.697\n",
      " ARIMA(1,0,1)(1,1,0)[12] with drift         : -318.2917\n",
      " ARIMA(1,0,1)(1,1,1)[12]                    : Inf\n",
      " ARIMA(1,0,1)(1,1,1)[12] with drift         : Inf\n",
      " ARIMA(1,0,1)(1,1,2)[12]                    : Inf\n",
      " ARIMA(1,0,1)(1,1,2)[12] with drift         : Inf\n",
      " ARIMA(1,0,1)(2,1,0)[12]                    : -343.8617\n",
      " ARIMA(1,0,1)(2,1,0)[12] with drift         : -343.6549\n",
      " ARIMA(1,0,1)(2,1,1)[12]                    : Inf\n",
      " ARIMA(1,0,1)(2,1,1)[12] with drift         : Inf\n",
      " ARIMA(1,0,2)(0,1,0)[12]                    : -285.6154\n",
      " ARIMA(1,0,2)(0,1,0)[12] with drift         : -285.1337\n",
      " ARIMA(1,0,2)(0,1,1)[12]                    : Inf\n",
      " ARIMA(1,0,2)(0,1,1)[12] with drift         : Inf\n",
      " ARIMA(1,0,2)(0,1,2)[12]                    : Inf\n",
      " ARIMA(1,0,2)(0,1,2)[12] with drift         : Inf\n",
      " ARIMA(1,0,2)(1,1,0)[12]                    : -316.6084\n",
      " ARIMA(1,0,2)(1,1,0)[12] with drift         : -316.2067\n",
      " ARIMA(1,0,2)(1,1,1)[12]                    : Inf\n",
      " ARIMA(1,0,2)(1,1,1)[12] with drift         : Inf\n",
      " ARIMA(1,0,2)(2,1,0)[12]                    : -341.8252\n",
      " ARIMA(1,0,2)(2,1,0)[12] with drift         : -341.5504\n",
      " ARIMA(1,0,3)(0,1,0)[12]                    : -283.657\n",
      " ARIMA(1,0,3)(0,1,0)[12] with drift         : -283.1101\n",
      " ARIMA(1,0,3)(0,1,1)[12]                    : Inf\n",
      " ARIMA(1,0,3)(0,1,1)[12] with drift         : Inf\n",
      " ARIMA(1,0,3)(1,1,0)[12]                    : -314.4691\n",
      " ARIMA(1,0,3)(1,1,0)[12] with drift         : -314.0457\n",
      " ARIMA(1,0,4)(0,1,0)[12]                    : -281.9064\n",
      " ARIMA(1,0,4)(0,1,0)[12] with drift         : -281.3239\n",
      " ARIMA(2,0,0)(0,1,0)[12]                    : -282.3134\n",
      " ARIMA(2,0,0)(0,1,0)[12] with drift         : -282.7858\n",
      " ARIMA(2,0,0)(0,1,1)[12]                    : Inf\n",
      " ARIMA(2,0,0)(0,1,1)[12] with drift         : Inf\n",
      " ARIMA(2,0,0)(0,1,2)[12]                    : Inf\n",
      " ARIMA(2,0,0)(0,1,2)[12] with drift         : Inf\n",
      " ARIMA(2,0,0)(1,1,0)[12]                    : -314.4636\n",
      " ARIMA(2,0,0)(1,1,0)[12] with drift         : -314.7541\n",
      " ARIMA(2,0,0)(1,1,1)[12]                    : Inf\n",
      " ARIMA(2,0,0)(1,1,1)[12] with drift         : Inf\n",
      " ARIMA(2,0,0)(1,1,2)[12]                    : Inf\n",
      " ARIMA(2,0,0)(1,1,2)[12] with drift         : Inf\n",
      " ARIMA(2,0,0)(2,1,0)[12]                    : -338.5279\n",
      " ARIMA(2,0,0)(2,1,0)[12] with drift         : -339.1392\n",
      " ARIMA(2,0,0)(2,1,1)[12]                    : Inf\n",
      " ARIMA(2,0,0)(2,1,1)[12] with drift         : Inf\n",
      " ARIMA(2,0,1)(0,1,0)[12]                    : -285.6312\n",
      " ARIMA(2,0,1)(0,1,0)[12] with drift         : -285.1504\n",
      " ARIMA(2,0,1)(0,1,1)[12]                    : Inf\n",
      " ARIMA(2,0,1)(0,1,1)[12] with drift         : Inf\n",
      " ARIMA(2,0,1)(0,1,2)[12]                    : Inf\n",
      " ARIMA(2,0,1)(0,1,2)[12] with drift         : Inf\n",
      " ARIMA(2,0,1)(1,1,0)[12]                    : -316.6084\n",
      " ARIMA(2,0,1)(1,1,0)[12] with drift         : -316.2042\n",
      " ARIMA(2,0,1)(1,1,1)[12]                    : Inf\n",
      " ARIMA(2,0,1)(1,1,1)[12] with drift         : Inf\n",
      " ARIMA(2,0,1)(2,1,0)[12]                    : -341.8128\n",
      " ARIMA(2,0,1)(2,1,0)[12] with drift         : -341.5106\n",
      " ARIMA(2,0,2)(0,1,0)[12]                    : -283.5271\n",
      " ARIMA(2,0,2)(0,1,0)[12] with drift         : -283.0172\n",
      " ARIMA(2,0,2)(0,1,1)[12]                    : Inf\n",
      " ARIMA(2,0,2)(0,1,1)[12] with drift         : Inf\n",
      " ARIMA(2,0,2)(1,1,0)[12]                    : -314.4538\n",
      " ARIMA(2,0,2)(1,1,0)[12] with drift         : -314.0409\n",
      " ARIMA(2,0,3)(0,1,0)[12]                    : -281.67\n",
      " ARIMA(2,0,3)(0,1,0)[12] with drift         : -280.8393\n",
      " ARIMA(3,0,0)(0,1,0)[12]                    : -284.738\n",
      " ARIMA(3,0,0)(0,1,0)[12] with drift         : -284.6022\n",
      " ARIMA(3,0,0)(0,1,1)[12]                    : Inf\n",
      " ARIMA(3,0,0)(0,1,1)[12] with drift         : Inf\n",
      " ARIMA(3,0,0)(0,1,2)[12]                    : Inf\n",
      " ARIMA(3,0,0)(0,1,2)[12] with drift         : Inf\n",
      " ARIMA(3,0,0)(1,1,0)[12]                    : -316.5803\n",
      " ARIMA(3,0,0)(1,1,0)[12] with drift         : -316.3462\n",
      " ARIMA(3,0,0)(1,1,1)[12]                    : Inf\n",
      " ARIMA(3,0,0)(1,1,1)[12] with drift         : Inf\n",
      " ARIMA(3,0,0)(2,1,0)[12]                    : -340.9796\n",
      " ARIMA(3,0,0)(2,1,0)[12] with drift         : -341.0025\n",
      " ARIMA(3,0,1)(0,1,0)[12]                    : -283.6216\n",
      " ARIMA(3,0,1)(0,1,0)[12] with drift         : -283.0716\n",
      " ARIMA(3,0,1)(0,1,1)[12]                    : Inf\n",
      " ARIMA(3,0,1)(0,1,1)[12] with drift         : Inf\n",
      " ARIMA(3,0,1)(1,1,0)[12]                    : -314.5138\n",
      " ARIMA(3,0,1)(1,1,0)[12] with drift         : -314.2018\n",
      " ARIMA(3,0,2)(0,1,0)[12]                    : -281.4069\n",
      " ARIMA(3,0,2)(0,1,0)[12] with drift         : -280.8639\n",
      " ARIMA(4,0,0)(0,1,0)[12]                    : -282.8343\n",
      " ARIMA(4,0,0)(0,1,0)[12] with drift         : -282.5979\n",
      " ARIMA(4,0,0)(0,1,1)[12]                    : Inf\n",
      " ARIMA(4,0,0)(0,1,1)[12] with drift         : Inf\n",
      " ARIMA(4,0,0)(1,1,0)[12]                    : -314.4824\n",
      " ARIMA(4,0,0)(1,1,0)[12] with drift         : -314.1965\n",
      " ARIMA(4,0,1)(0,1,0)[12]                    : -281.8401\n",
      " ARIMA(4,0,1)(0,1,0)[12] with drift         : -281.2718\n",
      " ARIMA(5,0,0)(0,1,0)[12]                    : -280.8574\n",
      " ARIMA(5,0,0)(0,1,0)[12] with drift         : -280.531\n",
      "\n",
      "\n",
      "\n",
      " Best model: ARIMA(1,0,1)(2,1,0)[12]                    \n",
      "\n"
     ]
    }
   ],
   "source": [
    "suicide_series_best_arima <- auto.arima(suicide_series_train, trace = TRUE, lambda = 0, D = 1, stepwise = FALSE, approximation = FALSE)"
   ]
  },
  {
   "cell_type": "markdown",
   "metadata": {},
   "source": [
    "The arima model that best fits is this: ARIMA(1,0,1)(2,1,0)[12].\n",
    "\n",
    "Seems that our series needs a differentation of first order to struggle with the seasonal component.\n",
    "\n",
    "To check if it is valid we will observe how its residuals behave as we did in the Holt-Winters model."
   ]
  },
  {
   "cell_type": "code",
   "execution_count": 87,
   "metadata": {},
   "outputs": [
    {
     "data": {
      "image/png": "[encoded data removed]",
      "text/plain": [
       "Plot with title \"Arima Residuals\""
      ]
     },
     "metadata": {},
     "output_type": "display_data"
    },
    {
     "data": {
      "image/png": "[encoded data removed]",
      "text/plain": [
       "Plot with title \"Ljung-Box Q Test\""
      ]
     },
     "metadata": {},
     "output_type": "display_data"
    }
   ],
   "source": [
    "options(repr.plot.width=8, repr.plot.height=3)\n",
    "\n",
    "suicide_series_best_arima_residuals  <-  residuals(suicide_series_best_arima)\n",
    "#Autocorrelation\n",
    "acf(suicide_series_best_arima_residuals, main = 'Arima Residuals')\n",
    "box_test_suicide_series_best_arima <- LjungBoxTest (suicide_series_best_arima_residuals)\n",
    "plot(box_test_suicide_series_best_arima[,3],main= \"Ljung-Box Q Test\", ylab= \"P-values\", xlab= \"Lag\")"
   ]
  },
  {
   "cell_type": "code",
   "execution_count": 88,
   "metadata": {},
   "outputs": [
    {
     "data": {
      "text/html": [
       "<table>\n",
       "<thead><tr><th></th><th scope=col>m</th><th scope=col>Qm</th><th scope=col>pvalue</th></tr></thead>\n",
       "<tbody>\n",
       "\t<tr><th scope=row></th><td> 1        </td><td> 0.00     </td><td>0.97001754</td></tr>\n",
       "\t<tr><th scope=row></th><td> 2        </td><td> 0.09     </td><td>0.95492277</td></tr>\n",
       "\t<tr><th scope=row></th><td> 3        </td><td> 0.09     </td><td>0.99248545</td></tr>\n",
       "\t<tr><th scope=row></th><td> 4        </td><td> 0.21     </td><td>0.99485194</td></tr>\n",
       "\t<tr><th scope=row></th><td> 5        </td><td> 0.48     </td><td>0.99280214</td></tr>\n",
       "\t<tr><th scope=row></th><td> 6        </td><td> 0.56     </td><td>0.99698525</td></tr>\n",
       "\t<tr><th scope=row></th><td> 7        </td><td> 7.03     </td><td>0.42550275</td></tr>\n",
       "\t<tr><th scope=row></th><td> 8        </td><td> 7.84     </td><td>0.44973946</td></tr>\n",
       "\t<tr><th scope=row></th><td> 9        </td><td> 9.72     </td><td>0.37325058</td></tr>\n",
       "\t<tr><th scope=row></th><td>10        </td><td>10.31     </td><td>0.41402461</td></tr>\n",
       "\t<tr><th scope=row></th><td>11        </td><td>21.10     </td><td>0.03232985</td></tr>\n",
       "\t<tr><th scope=row></th><td>12        </td><td>21.11     </td><td>0.04884774</td></tr>\n",
       "\t<tr><th scope=row></th><td>13        </td><td>21.43     </td><td>0.06488756</td></tr>\n",
       "\t<tr><th scope=row></th><td>14        </td><td>21.56     </td><td>0.08820939</td></tr>\n",
       "\t<tr><th scope=row></th><td>15        </td><td>21.95     </td><td>0.10909596</td></tr>\n",
       "\t<tr><th scope=row></th><td>16        </td><td>22.00     </td><td>0.14310089</td></tr>\n",
       "\t<tr><th scope=row></th><td>17        </td><td>23.01     </td><td>0.14876487</td></tr>\n",
       "\t<tr><th scope=row></th><td>18        </td><td>27.08     </td><td>0.07755970</td></tr>\n",
       "\t<tr><th scope=row></th><td>19        </td><td>27.45     </td><td>0.09462593</td></tr>\n",
       "\t<tr><th scope=row></th><td>20        </td><td>27.90     </td><td>0.11184718</td></tr>\n",
       "\t<tr><th scope=row></th><td>21        </td><td>29.92     </td><td>0.09358959</td></tr>\n",
       "\t<tr><th scope=row></th><td>22        </td><td>31.45     </td><td>0.08722761</td></tr>\n",
       "\t<tr><th scope=row></th><td>23        </td><td>31.61     </td><td>0.10845631</td></tr>\n",
       "\t<tr><th scope=row></th><td>24        </td><td>32.48     </td><td>0.11550423</td></tr>\n",
       "\t<tr><th scope=row></th><td>25        </td><td>33.15     </td><td>0.12735197</td></tr>\n",
       "\t<tr><th scope=row></th><td>26        </td><td>33.18     </td><td>0.15703415</td></tr>\n",
       "\t<tr><th scope=row></th><td>27        </td><td>34.39     </td><td>0.15486363</td></tr>\n",
       "\t<tr><th scope=row></th><td>28        </td><td>34.71     </td><td>0.17852901</td></tr>\n",
       "\t<tr><th scope=row></th><td>29        </td><td>37.34     </td><td>0.13766742</td></tr>\n",
       "\t<tr><th scope=row></th><td>30        </td><td>37.47     </td><td>0.16381592</td></tr>\n",
       "</tbody>\n",
       "</table>\n"
      ],
      "text/latex": [
       "\\begin{tabular}{r|lll}\n",
       "  & m & Qm & pvalue\\\\\n",
       "\\hline\n",
       "\t &  1         &  0.00      & 0.97001754\\\\\n",
       "\t &  2         &  0.09      & 0.95492277\\\\\n",
       "\t &  3         &  0.09      & 0.99248545\\\\\n",
       "\t &  4         &  0.21      & 0.99485194\\\\\n",
       "\t &  5         &  0.48      & 0.99280214\\\\\n",
       "\t &  6         &  0.56      & 0.99698525\\\\\n",
       "\t &  7         &  7.03      & 0.42550275\\\\\n",
       "\t &  8         &  7.84      & 0.44973946\\\\\n",
       "\t &  9         &  9.72      & 0.37325058\\\\\n",
       "\t & 10         & 10.31      & 0.41402461\\\\\n",
       "\t & 11         & 21.10      & 0.03232985\\\\\n",
       "\t & 12         & 21.11      & 0.04884774\\\\\n",
       "\t & 13         & 21.43      & 0.06488756\\\\\n",
       "\t & 14         & 21.56      & 0.08820939\\\\\n",
       "\t & 15         & 21.95      & 0.10909596\\\\\n",
       "\t & 16         & 22.00      & 0.14310089\\\\\n",
       "\t & 17         & 23.01      & 0.14876487\\\\\n",
       "\t & 18         & 27.08      & 0.07755970\\\\\n",
       "\t & 19         & 27.45      & 0.09462593\\\\\n",
       "\t & 20         & 27.90      & 0.11184718\\\\\n",
       "\t & 21         & 29.92      & 0.09358959\\\\\n",
       "\t & 22         & 31.45      & 0.08722761\\\\\n",
       "\t & 23         & 31.61      & 0.10845631\\\\\n",
       "\t & 24         & 32.48      & 0.11550423\\\\\n",
       "\t & 25         & 33.15      & 0.12735197\\\\\n",
       "\t & 26         & 33.18      & 0.15703415\\\\\n",
       "\t & 27         & 34.39      & 0.15486363\\\\\n",
       "\t & 28         & 34.71      & 0.17852901\\\\\n",
       "\t & 29         & 37.34      & 0.13766742\\\\\n",
       "\t & 30         & 37.47      & 0.16381592\\\\\n",
       "\\end{tabular}\n"
      ],
      "text/markdown": [
       "\n",
       "| <!--/--> | m | Qm | pvalue | \n",
       "|---|---|---|---|---|---|---|---|---|---|---|---|---|---|---|---|---|---|---|---|---|---|---|---|---|---|---|---|---|---|\n",
       "|  |  1         |  0.00      | 0.97001754 | \n",
       "|  |  2         |  0.09      | 0.95492277 | \n",
       "|  |  3         |  0.09      | 0.99248545 | \n",
       "|  |  4         |  0.21      | 0.99485194 | \n",
       "|  |  5         |  0.48      | 0.99280214 | \n",
       "|  |  6         |  0.56      | 0.99698525 | \n",
       "|  |  7         |  7.03      | 0.42550275 | \n",
       "|  |  8         |  7.84      | 0.44973946 | \n",
       "|  |  9         |  9.72      | 0.37325058 | \n",
       "|  | 10         | 10.31      | 0.41402461 | \n",
       "|  | 11         | 21.10      | 0.03232985 | \n",
       "|  | 12         | 21.11      | 0.04884774 | \n",
       "|  | 13         | 21.43      | 0.06488756 | \n",
       "|  | 14         | 21.56      | 0.08820939 | \n",
       "|  | 15         | 21.95      | 0.10909596 | \n",
       "|  | 16         | 22.00      | 0.14310089 | \n",
       "|  | 17         | 23.01      | 0.14876487 | \n",
       "|  | 18         | 27.08      | 0.07755970 | \n",
       "|  | 19         | 27.45      | 0.09462593 | \n",
       "|  | 20         | 27.90      | 0.11184718 | \n",
       "|  | 21         | 29.92      | 0.09358959 | \n",
       "|  | 22         | 31.45      | 0.08722761 | \n",
       "|  | 23         | 31.61      | 0.10845631 | \n",
       "|  | 24         | 32.48      | 0.11550423 | \n",
       "|  | 25         | 33.15      | 0.12735197 | \n",
       "|  | 26         | 33.18      | 0.15703415 | \n",
       "|  | 27         | 34.39      | 0.15486363 | \n",
       "|  | 28         | 34.71      | 0.17852901 | \n",
       "|  | 29         | 37.34      | 0.13766742 | \n",
       "|  | 30         | 37.47      | 0.16381592 | \n",
       "\n",
       "\n"
      ],
      "text/plain": [
       " m  Qm    pvalue    \n",
       "  1  0.00 0.97001754\n",
       "  2  0.09 0.95492277\n",
       "  3  0.09 0.99248545\n",
       "  4  0.21 0.99485194\n",
       "  5  0.48 0.99280214\n",
       "  6  0.56 0.99698525\n",
       "  7  7.03 0.42550275\n",
       "  8  7.84 0.44973946\n",
       "  9  9.72 0.37325058\n",
       " 10 10.31 0.41402461\n",
       " 11 21.10 0.03232985\n",
       " 12 21.11 0.04884774\n",
       " 13 21.43 0.06488756\n",
       " 14 21.56 0.08820939\n",
       " 15 21.95 0.10909596\n",
       " 16 22.00 0.14310089\n",
       " 17 23.01 0.14876487\n",
       " 18 27.08 0.07755970\n",
       " 19 27.45 0.09462593\n",
       " 20 27.90 0.11184718\n",
       " 21 29.92 0.09358959\n",
       " 22 31.45 0.08722761\n",
       " 23 31.61 0.10845631\n",
       " 24 32.48 0.11550423\n",
       " 25 33.15 0.12735197\n",
       " 26 33.18 0.15703415\n",
       " 27 34.39 0.15486363\n",
       " 28 34.71 0.17852901\n",
       " 29 37.34 0.13766742\n",
       " 30 37.47 0.16381592"
      ]
     },
     "metadata": {},
     "output_type": "display_data"
    }
   ],
   "source": [
    "box_test_suicide_series_best_arima"
   ]
  },
  {
   "cell_type": "markdown",
   "metadata": {},
   "source": [
    "*The ACF of the residuals shows one significant autocorrelation.*\n",
    "*Also, almost the values of p for the Ljung-Box Q test are above 0.05, which indicates that the data is lightly dependent.*"
   ]
  },
  {
   "cell_type": "code",
   "execution_count": 90,
   "metadata": {},
   "outputs": [
    {
     "data": {
      "image/png": "[encoded data removed]",
      "text/plain": [
       "Plot with title \"Normal Q-Q Plot\""
      ]
     },
     "metadata": {},
     "output_type": "display_data"
    },
    {
     "data": {
      "image/png": "[encoded data removed]",
      "text/plain": [
       "Plot with title \"Histogram of residuals\""
      ]
     },
     "metadata": {},
     "output_type": "display_data"
    }
   ],
   "source": [
    "options(repr.plot.width=8, repr.plot.height=3)\n",
    "\n",
    "#Normal Q-Q plot\n",
    "qqnorm(suicide_series_best_arima_residuals)\n",
    "qqline(suicide_series_best_arima_residuals)\n",
    "\n",
    "#Histogram\n",
    "hist(suicide_series_best_arima_residuals, prob = T, col=\"6\", main = 'Histogram of residuals', xlab = 'Residuals')\n",
    "lines(density (na.omit(suicide_series_best_arima_residuals)), col=\"4\")"
   ]
  },
  {
   "cell_type": "markdown",
   "metadata": {},
   "source": [
    "*Seems that the residuals are close normal.*"
   ]
  },
  {
   "cell_type": "markdown",
   "metadata": {},
   "source": [
    "The graphs support that there are some patterns in the residuals, but not to much. We can go ahead and calculate the forecast, \n",
    "since it seems that this is the best fit."
   ]
  },
  {
   "cell_type": "markdown",
   "metadata": {},
   "source": [
    "#### 4.2.2.  Forecasting"
   ]
  },
  {
   "cell_type": "markdown",
   "metadata": {},
   "source": [
    "The following is the plot of the next four years forecasts (blue line). The shadowed blue is the 80% of confidence and the shadowed grey is the 95%."
   ]
  },
  {
   "cell_type": "code",
   "execution_count": 203,
   "metadata": {},
   "outputs": [
    {
     "data": {
      "image/png": "[encoded data removed]",
      "text/plain": [
       "Plot with title \"Suicide Forecasts from ARIMA\""
      ]
     },
     "metadata": {},
     "output_type": "display_data"
    }
   ],
   "source": [
    "options(repr.plot.width=8, repr.plot.height=4)\n",
    "\n",
    "suicide_series_best_arima_forecast <- forecast::forecast(suicide_series_best_arima, h = 48)\n",
    "plot(suicide_series_best_arima_forecast, main= 'Suicide Forecasts from ARIMA')"
   ]
  },
  {
   "cell_type": "markdown",
   "metadata": {},
   "source": [
    "- Evaluating the forecasts"
   ]
  },
  {
   "cell_type": "code",
   "execution_count": 204,
   "metadata": {},
   "outputs": [
    {
     "data": {
      "text/html": [
       "<table>\n",
       "<thead><tr><th></th><th scope=col>ME</th><th scope=col>RMSE</th><th scope=col>MAE</th><th scope=col>MPE</th><th scope=col>MAPE</th><th scope=col>MASE</th><th scope=col>ACF1</th><th scope=col>Theil's U</th></tr></thead>\n",
       "<tbody>\n",
       "\t<tr><th scope=row>Training set</th><td> 2.981057 </td><td>23.28174  </td><td>17.55561  </td><td> 0.6501696</td><td>6.321020  </td><td>0.6890557 </td><td>0.01586806</td><td>       NA </td></tr>\n",
       "\t<tr><th scope=row>Test set</th><td>-4.830993 </td><td>26.63702  </td><td>21.99378  </td><td>-2.1131626</td><td>7.207654  </td><td>0.8632534 </td><td>0.19305990</td><td>0.7938248 </td></tr>\n",
       "</tbody>\n",
       "</table>\n"
      ],
      "text/latex": [
       "\\begin{tabular}{r|llllllll}\n",
       "  & ME & RMSE & MAE & MPE & MAPE & MASE & ACF1 & Theil's U\\\\\n",
       "\\hline\n",
       "\tTraining set &  2.981057  & 23.28174   & 17.55561   &  0.6501696 & 6.321020   & 0.6890557  & 0.01586806 &        NA \\\\\n",
       "\tTest set & -4.830993  & 26.63702   & 21.99378   & -2.1131626 & 7.207654   & 0.8632534  & 0.19305990 & 0.7938248 \\\\\n",
       "\\end{tabular}\n"
      ],
      "text/markdown": [
       "\n",
       "| <!--/--> | ME | RMSE | MAE | MPE | MAPE | MASE | ACF1 | Theil's U | \n",
       "|---|---|\n",
       "| Training set |  2.981057  | 23.28174   | 17.55561   |  0.6501696 | 6.321020   | 0.6890557  | 0.01586806 |        NA  | \n",
       "| Test set | -4.830993  | 26.63702   | 21.99378   | -2.1131626 | 7.207654   | 0.8632534  | 0.19305990 | 0.7938248  | \n",
       "\n",
       "\n"
      ],
      "text/plain": [
       "             ME        RMSE     MAE      MPE        MAPE     MASE     \n",
       "Training set  2.981057 23.28174 17.55561  0.6501696 6.321020 0.6890557\n",
       "Test set     -4.830993 26.63702 21.99378 -2.1131626 7.207654 0.8632534\n",
       "             ACF1       Theil's U\n",
       "Training set 0.01586806        NA\n",
       "Test set     0.19305990 0.7938248"
      ]
     },
     "metadata": {},
     "output_type": "display_data"
    },
    {
     "data": {
      "image/png": "[encoded data removed]",
      "text/plain": [
       "Plot with title \"Forecasts from ARIMA(1,0,1)(2,1,0)[12]\""
      ]
     },
     "metadata": {},
     "output_type": "display_data"
    }
   ],
   "source": [
    "options(repr.plot.width=8, repr.plot.height=4)\n",
    "\n",
    "#Accuracy and plot\n",
    "accuracy(suicide_series_best_arima_forecast, suicide_series_test)\n",
    "plot(suicide_series_best_arima_forecast)\n",
    "lines(suicide_1998_2017)"
   ]
  },
  {
   "cell_type": "markdown",
   "metadata": {},
   "source": [
    "#### *Comparison of predictive models carried out throughout the project on suicide in Spain.*"
   ]
  },
  {
   "cell_type": "code",
   "execution_count": 205,
   "metadata": {},
   "outputs": [
    {
     "data": {
      "text/html": [
       "<table>\n",
       "<thead><tr><th></th><th scope=col>ME</th><th scope=col>RMSE</th><th scope=col>MAE</th><th scope=col>MPE</th><th scope=col>MAPE</th><th scope=col>MASE</th><th scope=col>ACF1</th><th scope=col>Theil's U</th></tr></thead>\n",
       "<tbody>\n",
       "\t<tr><th scope=row>Training set</th><td> 1.221196  </td><td>19.61091   </td><td>15.44162   </td><td> 0.05325394</td><td>5.741906   </td><td>0.6060818  </td><td>0.02614606 </td><td>       NA  </td></tr>\n",
       "\t<tr><th scope=row>Test set</th><td>-8.124858  </td><td>23.48619   </td><td>20.37614   </td><td>-3.17517422</td><td>6.787247   </td><td>0.7997612  </td><td>0.05622934 </td><td>0.7051087  </td></tr>\n",
       "</tbody>\n",
       "</table>\n"
      ],
      "text/latex": [
       "\\begin{tabular}{r|llllllll}\n",
       "  & ME & RMSE & MAE & MPE & MAPE & MASE & ACF1 & Theil's U\\\\\n",
       "\\hline\n",
       "\tTraining set &  1.221196   & 19.61091    & 15.44162    &  0.05325394 & 5.741906    & 0.6060818   & 0.02614606  &        NA  \\\\\n",
       "\tTest set & -8.124858   & 23.48619    & 20.37614    & -3.17517422 & 6.787247    & 0.7997612   & 0.05622934  & 0.7051087  \\\\\n",
       "\\end{tabular}\n"
      ],
      "text/markdown": [
       "\n",
       "| <!--/--> | ME | RMSE | MAE | MPE | MAPE | MASE | ACF1 | Theil's U | \n",
       "|---|---|\n",
       "| Training set |  1.221196   | 19.61091    | 15.44162    |  0.05325394 | 5.741906    | 0.6060818   | 0.02614606  |        NA   | \n",
       "| Test set | -8.124858   | 23.48619    | 20.37614    | -3.17517422 | 6.787247    | 0.7997612   | 0.05622934  | 0.7051087   | \n",
       "\n",
       "\n"
      ],
      "text/plain": [
       "             ME        RMSE     MAE      MPE         MAPE     MASE     \n",
       "Training set  1.221196 19.61091 15.44162  0.05325394 5.741906 0.6060818\n",
       "Test set     -8.124858 23.48619 20.37614 -3.17517422 6.787247 0.7997612\n",
       "             ACF1       Theil's U\n",
       "Training set 0.02614606        NA\n",
       "Test set     0.05622934 0.7051087"
      ]
     },
     "metadata": {},
     "output_type": "display_data"
    },
    {
     "data": {
      "text/html": [
       "<table>\n",
       "<thead><tr><th></th><th scope=col>ME</th><th scope=col>RMSE</th><th scope=col>MAE</th><th scope=col>MPE</th><th scope=col>MAPE</th><th scope=col>MASE</th><th scope=col>ACF1</th><th scope=col>Theil's U</th></tr></thead>\n",
       "<tbody>\n",
       "\t<tr><th scope=row>Training set</th><td> -2.371969</td><td>25.06283  </td><td>19.43362  </td><td>-1.278772 </td><td> 7.124599 </td><td>0.7627673 </td><td>0.2237071 </td><td>      NA  </td></tr>\n",
       "\t<tr><th scope=row>Test set</th><td>-22.501139</td><td>35.57448  </td><td>30.54712  </td><td>-8.056353 </td><td>10.386658 </td><td>1.1989713 </td><td>0.2636436 </td><td>1.090524  </td></tr>\n",
       "</tbody>\n",
       "</table>\n"
      ],
      "text/latex": [
       "\\begin{tabular}{r|llllllll}\n",
       "  & ME & RMSE & MAE & MPE & MAPE & MASE & ACF1 & Theil's U\\\\\n",
       "\\hline\n",
       "\tTraining set &  -2.371969 & 25.06283   & 19.43362   & -1.278772  &  7.124599  & 0.7627673  & 0.2237071  &       NA  \\\\\n",
       "\tTest set & -22.501139 & 35.57448   & 30.54712   & -8.056353  & 10.386658  & 1.1989713  & 0.2636436  & 1.090524  \\\\\n",
       "\\end{tabular}\n"
      ],
      "text/markdown": [
       "\n",
       "| <!--/--> | ME | RMSE | MAE | MPE | MAPE | MASE | ACF1 | Theil's U | \n",
       "|---|---|\n",
       "| Training set |  -2.371969 | 25.06283   | 19.43362   | -1.278772  |  7.124599  | 0.7627673  | 0.2237071  |       NA   | \n",
       "| Test set | -22.501139 | 35.57448   | 30.54712   | -8.056353  | 10.386658  | 1.1989713  | 0.2636436  | 1.090524   | \n",
       "\n",
       "\n"
      ],
      "text/plain": [
       "             ME         RMSE     MAE      MPE       MAPE      MASE     \n",
       "Training set  -2.371969 25.06283 19.43362 -1.278772  7.124599 0.7627673\n",
       "Test set     -22.501139 35.57448 30.54712 -8.056353 10.386658 1.1989713\n",
       "             ACF1      Theil's U\n",
       "Training set 0.2237071       NA \n",
       "Test set     0.2636436 1.090524 "
      ]
     },
     "metadata": {},
     "output_type": "display_data"
    },
    {
     "data": {
      "text/html": [
       "<table>\n",
       "<thead><tr><th></th><th scope=col>ME</th><th scope=col>RMSE</th><th scope=col>MAE</th><th scope=col>MPE</th><th scope=col>MAPE</th><th scope=col>MASE</th><th scope=col>ACF1</th><th scope=col>Theil's U</th></tr></thead>\n",
       "<tbody>\n",
       "\t<tr><th scope=row>Training set</th><td> 2.981057 </td><td>23.28174  </td><td>17.55561  </td><td> 0.6501696</td><td>6.321020  </td><td>0.6890557 </td><td>0.01586806</td><td>       NA </td></tr>\n",
       "\t<tr><th scope=row>Test set</th><td>-4.830993 </td><td>26.63702  </td><td>21.99378  </td><td>-2.1131626</td><td>7.207654  </td><td>0.8632534 </td><td>0.19305990</td><td>0.7938248 </td></tr>\n",
       "</tbody>\n",
       "</table>\n"
      ],
      "text/latex": [
       "\\begin{tabular}{r|llllllll}\n",
       "  & ME & RMSE & MAE & MPE & MAPE & MASE & ACF1 & Theil's U\\\\\n",
       "\\hline\n",
       "\tTraining set &  2.981057  & 23.28174   & 17.55561   &  0.6501696 & 6.321020   & 0.6890557  & 0.01586806 &        NA \\\\\n",
       "\tTest set & -4.830993  & 26.63702   & 21.99378   & -2.1131626 & 7.207654   & 0.8632534  & 0.19305990 & 0.7938248 \\\\\n",
       "\\end{tabular}\n"
      ],
      "text/markdown": [
       "\n",
       "| <!--/--> | ME | RMSE | MAE | MPE | MAPE | MASE | ACF1 | Theil's U | \n",
       "|---|---|\n",
       "| Training set |  2.981057  | 23.28174   | 17.55561   |  0.6501696 | 6.321020   | 0.6890557  | 0.01586806 |        NA  | \n",
       "| Test set | -4.830993  | 26.63702   | 21.99378   | -2.1131626 | 7.207654   | 0.8632534  | 0.19305990 | 0.7938248  | \n",
       "\n",
       "\n"
      ],
      "text/plain": [
       "             ME        RMSE     MAE      MPE        MAPE     MASE     \n",
       "Training set  2.981057 23.28174 17.55561  0.6501696 6.321020 0.6890557\n",
       "Test set     -4.830993 26.63702 21.99378 -2.1131626 7.207654 0.8632534\n",
       "             ACF1       Theil's U\n",
       "Training set 0.01586806        NA\n",
       "Test set     0.19305990 0.7938248"
      ]
     },
     "metadata": {},
     "output_type": "display_data"
    }
   ],
   "source": [
    "accuracy(forecast_decomposed_suicide_series, suicide_series_test)\n",
    "accuracy(suicide_series_hw_future_forecasts, suicide_series_test)\n",
    "accuracy(suicide_series_best_arima_forecast, suicide_series_test)"
   ]
  },
  {
   "cell_type": "markdown",
   "metadata": {},
   "source": [
    "The most generalizable model is the ARIMA calculated at the begining with the stl decomposition. There doesn't seem to be overfitting. But their residuals are autocorrelated.\n",
    "\n",
    "The last arima is the one I would choose. Their residuals behave better than in the other models and if we look at the MASE and MAPE metrics is not a bad model and will work better than a naive one."
   ]
  },
  {
   "cell_type": "markdown",
   "metadata": {},
   "source": [
    "Our predictions have a lot of dispersion and some autocorrelated residuals but, as we said at the beginning, we face a stochastic process and the characteristics of the object of study require much more information for more accurate predictions.\n",
    "\n",
    "Suicide is a complex social fact and this small analysis just wanted to get a little closer to this problem that needs much more dedication."
   ]
  },
  {
   "cell_type": "markdown",
   "metadata": {},
   "source": [
    "# Analysis of Unemployment Series"
   ]
  },
  {
   "cell_type": "markdown",
   "metadata": {},
   "source": [
    "## 1. Reading the Data"
   ]
  },
  {
   "cell_type": "code",
   "execution_count": 94,
   "metadata": {},
   "outputs": [
    {
     "data": {
      "text/html": [
       "<table>\n",
       "<thead><tr><th scope=col>Date</th><th scope=col>N_of_unemployed</th></tr></thead>\n",
       "<tbody>\n",
       "\t<tr><td>1998-01-31</td><td>2577189   </td></tr>\n",
       "\t<tr><td>1998-02-28</td><td>2553346   </td></tr>\n",
       "\t<tr><td>1998-03-31</td><td>2524004   </td></tr>\n",
       "\t<tr><td>1998-04-30</td><td>2442803   </td></tr>\n",
       "\t<tr><td>1998-05-31</td><td>2369889   </td></tr>\n",
       "\t<tr><td>1998-06-30</td><td>2332016   </td></tr>\n",
       "\t<tr><td>1998-07-31</td><td>2250015   </td></tr>\n",
       "\t<tr><td>1998-08-31</td><td>2235296   </td></tr>\n",
       "\t<tr><td>1998-09-30</td><td>2256328   </td></tr>\n",
       "\t<tr><td>1998-10-31</td><td>2267925   </td></tr>\n",
       "\t<tr><td>1998-11-30</td><td>2270240   </td></tr>\n",
       "\t<tr><td>1998-12-31</td><td>2233259   </td></tr>\n",
       "\t<tr><td>1999-01-31</td><td>2251728   </td></tr>\n",
       "\t<tr><td>1999-02-28</td><td>2233082   </td></tr>\n",
       "\t<tr><td>1999-03-31</td><td>2202337   </td></tr>\n",
       "\t<tr><td>1999-04-30</td><td>2144375   </td></tr>\n",
       "\t<tr><td>1999-05-31</td><td>2076942   </td></tr>\n",
       "\t<tr><td>1999-06-30</td><td>2045950   </td></tr>\n",
       "\t<tr><td>1999-07-31</td><td>1980957   </td></tr>\n",
       "\t<tr><td>1999-08-31</td><td>1980966   </td></tr>\n",
       "\t<tr><td>1999-09-30</td><td>2002552   </td></tr>\n",
       "\t<tr><td>1999-10-31</td><td>2019968   </td></tr>\n",
       "\t<tr><td>1999-11-30</td><td>2055809   </td></tr>\n",
       "\t<tr><td>1999-12-31</td><td>2027982   </td></tr>\n",
       "\t<tr><td>2000-01-31</td><td>2090035   </td></tr>\n",
       "\t<tr><td>2000-02-29</td><td>2079752   </td></tr>\n",
       "\t<tr><td>2000-03-31</td><td>2042332   </td></tr>\n",
       "\t<tr><td>2000-04-30</td><td>1983994   </td></tr>\n",
       "\t<tr><td>2000-05-31</td><td>1929028   </td></tr>\n",
       "\t<tr><td>2000-06-30</td><td>1903053   </td></tr>\n",
       "\t<tr><td>...</td><td>...</td></tr>\n",
       "\t<tr><td>2015-07-31</td><td>4046276   </td></tr>\n",
       "\t<tr><td>2015-08-31</td><td>4067955   </td></tr>\n",
       "\t<tr><td>2015-09-30</td><td>4094042   </td></tr>\n",
       "\t<tr><td>2015-10-31</td><td>4176369   </td></tr>\n",
       "\t<tr><td>2015-11-30</td><td>4149298   </td></tr>\n",
       "\t<tr><td>2015-12-31</td><td>4093508   </td></tr>\n",
       "\t<tr><td>2016-01-31</td><td>4150755   </td></tr>\n",
       "\t<tr><td>2016-02-29</td><td>4152986   </td></tr>\n",
       "\t<tr><td>2016-03-31</td><td>4094770   </td></tr>\n",
       "\t<tr><td>2016-04-30</td><td>4011171   </td></tr>\n",
       "\t<tr><td>2016-05-31</td><td>3891403   </td></tr>\n",
       "\t<tr><td>2016-06-30</td><td>3767054   </td></tr>\n",
       "\t<tr><td>2016-07-31</td><td>3683061   </td></tr>\n",
       "\t<tr><td>2016-08-31</td><td>3697496   </td></tr>\n",
       "\t<tr><td>2016-09-30</td><td>3720297   </td></tr>\n",
       "\t<tr><td>2016-10-31</td><td>3764982   </td></tr>\n",
       "\t<tr><td>2016-11-30</td><td>3789823   </td></tr>\n",
       "\t<tr><td>2016-12-31</td><td>3702974   </td></tr>\n",
       "\t<tr><td>2017-01-31</td><td>3760231   </td></tr>\n",
       "\t<tr><td>2017-02-28</td><td>3750876   </td></tr>\n",
       "\t<tr><td>2017-03-31</td><td>3702317   </td></tr>\n",
       "\t<tr><td>2017-04-30</td><td>3573036   </td></tr>\n",
       "\t<tr><td>2017-05-31</td><td>3461128   </td></tr>\n",
       "\t<tr><td>2017-06-30</td><td>3362811   </td></tr>\n",
       "\t<tr><td>2017-07-31</td><td>3335924   </td></tr>\n",
       "\t<tr><td>2017-08-31</td><td>3382324   </td></tr>\n",
       "\t<tr><td>2017-09-30</td><td>3410182   </td></tr>\n",
       "\t<tr><td>2017-10-31</td><td>3467026   </td></tr>\n",
       "\t<tr><td>2017-11-30</td><td>3474281   </td></tr>\n",
       "\t<tr><td>2017-12-31</td><td>3412781   </td></tr>\n",
       "</tbody>\n",
       "</table>\n"
      ],
      "text/latex": [
       "\\begin{tabular}{r|ll}\n",
       " Date & N\\_of\\_unemployed\\\\\n",
       "\\hline\n",
       "\t 1998-01-31 & 2577189   \\\\\n",
       "\t 1998-02-28 & 2553346   \\\\\n",
       "\t 1998-03-31 & 2524004   \\\\\n",
       "\t 1998-04-30 & 2442803   \\\\\n",
       "\t 1998-05-31 & 2369889   \\\\\n",
       "\t 1998-06-30 & 2332016   \\\\\n",
       "\t 1998-07-31 & 2250015   \\\\\n",
       "\t 1998-08-31 & 2235296   \\\\\n",
       "\t 1998-09-30 & 2256328   \\\\\n",
       "\t 1998-10-31 & 2267925   \\\\\n",
       "\t 1998-11-30 & 2270240   \\\\\n",
       "\t 1998-12-31 & 2233259   \\\\\n",
       "\t 1999-01-31 & 2251728   \\\\\n",
       "\t 1999-02-28 & 2233082   \\\\\n",
       "\t 1999-03-31 & 2202337   \\\\\n",
       "\t 1999-04-30 & 2144375   \\\\\n",
       "\t 1999-05-31 & 2076942   \\\\\n",
       "\t 1999-06-30 & 2045950   \\\\\n",
       "\t 1999-07-31 & 1980957   \\\\\n",
       "\t 1999-08-31 & 1980966   \\\\\n",
       "\t 1999-09-30 & 2002552   \\\\\n",
       "\t 1999-10-31 & 2019968   \\\\\n",
       "\t 1999-11-30 & 2055809   \\\\\n",
       "\t 1999-12-31 & 2027982   \\\\\n",
       "\t 2000-01-31 & 2090035   \\\\\n",
       "\t 2000-02-29 & 2079752   \\\\\n",
       "\t 2000-03-31 & 2042332   \\\\\n",
       "\t 2000-04-30 & 1983994   \\\\\n",
       "\t 2000-05-31 & 1929028   \\\\\n",
       "\t 2000-06-30 & 1903053   \\\\\n",
       "\t ... & ...\\\\\n",
       "\t 2015-07-31 & 4046276   \\\\\n",
       "\t 2015-08-31 & 4067955   \\\\\n",
       "\t 2015-09-30 & 4094042   \\\\\n",
       "\t 2015-10-31 & 4176369   \\\\\n",
       "\t 2015-11-30 & 4149298   \\\\\n",
       "\t 2015-12-31 & 4093508   \\\\\n",
       "\t 2016-01-31 & 4150755   \\\\\n",
       "\t 2016-02-29 & 4152986   \\\\\n",
       "\t 2016-03-31 & 4094770   \\\\\n",
       "\t 2016-04-30 & 4011171   \\\\\n",
       "\t 2016-05-31 & 3891403   \\\\\n",
       "\t 2016-06-30 & 3767054   \\\\\n",
       "\t 2016-07-31 & 3683061   \\\\\n",
       "\t 2016-08-31 & 3697496   \\\\\n",
       "\t 2016-09-30 & 3720297   \\\\\n",
       "\t 2016-10-31 & 3764982   \\\\\n",
       "\t 2016-11-30 & 3789823   \\\\\n",
       "\t 2016-12-31 & 3702974   \\\\\n",
       "\t 2017-01-31 & 3760231   \\\\\n",
       "\t 2017-02-28 & 3750876   \\\\\n",
       "\t 2017-03-31 & 3702317   \\\\\n",
       "\t 2017-04-30 & 3573036   \\\\\n",
       "\t 2017-05-31 & 3461128   \\\\\n",
       "\t 2017-06-30 & 3362811   \\\\\n",
       "\t 2017-07-31 & 3335924   \\\\\n",
       "\t 2017-08-31 & 3382324   \\\\\n",
       "\t 2017-09-30 & 3410182   \\\\\n",
       "\t 2017-10-31 & 3467026   \\\\\n",
       "\t 2017-11-30 & 3474281   \\\\\n",
       "\t 2017-12-31 & 3412781   \\\\\n",
       "\\end{tabular}\n"
      ],
      "text/markdown": [
       "\n",
       "Date | N_of_unemployed | \n",
       "|---|---|---|---|---|---|---|---|---|---|---|---|---|---|---|---|---|---|---|---|---|---|---|---|---|---|---|---|---|---|---|---|---|---|---|---|---|---|---|---|---|---|---|---|---|---|---|---|---|---|---|---|---|---|---|---|---|---|---|---|---|\n",
       "| 1998-01-31 | 2577189    | \n",
       "| 1998-02-28 | 2553346    | \n",
       "| 1998-03-31 | 2524004    | \n",
       "| 1998-04-30 | 2442803    | \n",
       "| 1998-05-31 | 2369889    | \n",
       "| 1998-06-30 | 2332016    | \n",
       "| 1998-07-31 | 2250015    | \n",
       "| 1998-08-31 | 2235296    | \n",
       "| 1998-09-30 | 2256328    | \n",
       "| 1998-10-31 | 2267925    | \n",
       "| 1998-11-30 | 2270240    | \n",
       "| 1998-12-31 | 2233259    | \n",
       "| 1999-01-31 | 2251728    | \n",
       "| 1999-02-28 | 2233082    | \n",
       "| 1999-03-31 | 2202337    | \n",
       "| 1999-04-30 | 2144375    | \n",
       "| 1999-05-31 | 2076942    | \n",
       "| 1999-06-30 | 2045950    | \n",
       "| 1999-07-31 | 1980957    | \n",
       "| 1999-08-31 | 1980966    | \n",
       "| 1999-09-30 | 2002552    | \n",
       "| 1999-10-31 | 2019968    | \n",
       "| 1999-11-30 | 2055809    | \n",
       "| 1999-12-31 | 2027982    | \n",
       "| 2000-01-31 | 2090035    | \n",
       "| 2000-02-29 | 2079752    | \n",
       "| 2000-03-31 | 2042332    | \n",
       "| 2000-04-30 | 1983994    | \n",
       "| 2000-05-31 | 1929028    | \n",
       "| 2000-06-30 | 1903053    | \n",
       "| ... | ... | \n",
       "| 2015-07-31 | 4046276    | \n",
       "| 2015-08-31 | 4067955    | \n",
       "| 2015-09-30 | 4094042    | \n",
       "| 2015-10-31 | 4176369    | \n",
       "| 2015-11-30 | 4149298    | \n",
       "| 2015-12-31 | 4093508    | \n",
       "| 2016-01-31 | 4150755    | \n",
       "| 2016-02-29 | 4152986    | \n",
       "| 2016-03-31 | 4094770    | \n",
       "| 2016-04-30 | 4011171    | \n",
       "| 2016-05-31 | 3891403    | \n",
       "| 2016-06-30 | 3767054    | \n",
       "| 2016-07-31 | 3683061    | \n",
       "| 2016-08-31 | 3697496    | \n",
       "| 2016-09-30 | 3720297    | \n",
       "| 2016-10-31 | 3764982    | \n",
       "| 2016-11-30 | 3789823    | \n",
       "| 2016-12-31 | 3702974    | \n",
       "| 2017-01-31 | 3760231    | \n",
       "| 2017-02-28 | 3750876    | \n",
       "| 2017-03-31 | 3702317    | \n",
       "| 2017-04-30 | 3573036    | \n",
       "| 2017-05-31 | 3461128    | \n",
       "| 2017-06-30 | 3362811    | \n",
       "| 2017-07-31 | 3335924    | \n",
       "| 2017-08-31 | 3382324    | \n",
       "| 2017-09-30 | 3410182    | \n",
       "| 2017-10-31 | 3467026    | \n",
       "| 2017-11-30 | 3474281    | \n",
       "| 2017-12-31 | 3412781    | \n",
       "\n",
       "\n"
      ],
      "text/plain": [
       "    Date       N_of_unemployed\n",
       "1   1998-01-31 2577189        \n",
       "2   1998-02-28 2553346        \n",
       "3   1998-03-31 2524004        \n",
       "4   1998-04-30 2442803        \n",
       "5   1998-05-31 2369889        \n",
       "6   1998-06-30 2332016        \n",
       "7   1998-07-31 2250015        \n",
       "8   1998-08-31 2235296        \n",
       "9   1998-09-30 2256328        \n",
       "10  1998-10-31 2267925        \n",
       "11  1998-11-30 2270240        \n",
       "12  1998-12-31 2233259        \n",
       "13  1999-01-31 2251728        \n",
       "14  1999-02-28 2233082        \n",
       "15  1999-03-31 2202337        \n",
       "16  1999-04-30 2144375        \n",
       "17  1999-05-31 2076942        \n",
       "18  1999-06-30 2045950        \n",
       "19  1999-07-31 1980957        \n",
       "20  1999-08-31 1980966        \n",
       "21  1999-09-30 2002552        \n",
       "22  1999-10-31 2019968        \n",
       "23  1999-11-30 2055809        \n",
       "24  1999-12-31 2027982        \n",
       "25  2000-01-31 2090035        \n",
       "26  2000-02-29 2079752        \n",
       "27  2000-03-31 2042332        \n",
       "28  2000-04-30 1983994        \n",
       "29  2000-05-31 1929028        \n",
       "30  2000-06-30 1903053        \n",
       "... ...        ...            \n",
       "211 2015-07-31 4046276        \n",
       "212 2015-08-31 4067955        \n",
       "213 2015-09-30 4094042        \n",
       "214 2015-10-31 4176369        \n",
       "215 2015-11-30 4149298        \n",
       "216 2015-12-31 4093508        \n",
       "217 2016-01-31 4150755        \n",
       "218 2016-02-29 4152986        \n",
       "219 2016-03-31 4094770        \n",
       "220 2016-04-30 4011171        \n",
       "221 2016-05-31 3891403        \n",
       "222 2016-06-30 3767054        \n",
       "223 2016-07-31 3683061        \n",
       "224 2016-08-31 3697496        \n",
       "225 2016-09-30 3720297        \n",
       "226 2016-10-31 3764982        \n",
       "227 2016-11-30 3789823        \n",
       "228 2016-12-31 3702974        \n",
       "229 2017-01-31 3760231        \n",
       "230 2017-02-28 3750876        \n",
       "231 2017-03-31 3702317        \n",
       "232 2017-04-30 3573036        \n",
       "233 2017-05-31 3461128        \n",
       "234 2017-06-30 3362811        \n",
       "235 2017-07-31 3335924        \n",
       "236 2017-08-31 3382324        \n",
       "237 2017-09-30 3410182        \n",
       "238 2017-10-31 3467026        \n",
       "239 2017-11-30 3474281        \n",
       "240 2017-12-31 3412781        "
      ]
     },
     "metadata": {},
     "output_type": "display_data"
    }
   ],
   "source": [
    "wkdir_and_path <- cbind(working_directory,'Data\\\\Monthly_unemployment_Spain_1998-2017.csv')\n",
    "unemployment_filepath <- str_c(wkdir_and_path, collapse = \"\\\\\")\n",
    "unemployment_1998_2017 <- read.csv(unemployment_filepath)\n",
    "unemployment_1998_2017"
   ]
  },
  {
   "cell_type": "markdown",
   "metadata": {},
   "source": [
    "Seems that our date index is not very useful in R code. It automatically converts our list of values into a time series if you give it start date and frequency."
   ]
  },
  {
   "cell_type": "markdown",
   "metadata": {},
   "source": [
    "## 2. Creating and exploring the Time Series"
   ]
  },
  {
   "cell_type": "code",
   "execution_count": 95,
   "metadata": {},
   "outputs": [
    {
     "data": {
      "text/html": [
       "'ts'"
      ],
      "text/latex": [
       "'ts'"
      ],
      "text/markdown": [
       "'ts'"
      ],
      "text/plain": [
       "[1] \"ts\""
      ]
     },
     "metadata": {},
     "output_type": "display_data"
    }
   ],
   "source": [
    "unemployment_1998_2017 <- ts (unemployment_1998_2017$N_of_unemployed, frequency = 12, start = c(1998,1))\n",
    "class(unemployment_1998_2017)"
   ]
  },
  {
   "cell_type": "code",
   "execution_count": 96,
   "metadata": {},
   "outputs": [
    {
     "data": {
      "text/html": [
       "<ol class=list-inline>\n",
       "\t<li>1998</li>\n",
       "\t<li>1</li>\n",
       "</ol>\n"
      ],
      "text/latex": [
       "\\begin{enumerate*}\n",
       "\\item 1998\n",
       "\\item 1\n",
       "\\end{enumerate*}\n"
      ],
      "text/markdown": [
       "1. 1998\n",
       "2. 1\n",
       "\n",
       "\n"
      ],
      "text/plain": [
       "[1] 1998    1"
      ]
     },
     "metadata": {},
     "output_type": "display_data"
    }
   ],
   "source": [
    "#Here we have the start of our time series\n",
    "start(unemployment_1998_2017)"
   ]
  },
  {
   "cell_type": "code",
   "execution_count": 97,
   "metadata": {},
   "outputs": [
    {
     "data": {
      "text/html": [
       "<ol class=list-inline>\n",
       "\t<li>2017</li>\n",
       "\t<li>12</li>\n",
       "</ol>\n"
      ],
      "text/latex": [
       "\\begin{enumerate*}\n",
       "\\item 2017\n",
       "\\item 12\n",
       "\\end{enumerate*}\n"
      ],
      "text/markdown": [
       "1. 2017\n",
       "2. 12\n",
       "\n",
       "\n"
      ],
      "text/plain": [
       "[1] 2017   12"
      ]
     },
     "metadata": {},
     "output_type": "display_data"
    }
   ],
   "source": [
    "#And the end\n",
    "end(unemployment_1998_2017)"
   ]
  },
  {
   "cell_type": "code",
   "execution_count": 98,
   "metadata": {},
   "outputs": [
    {
     "data": {
      "text/html": [
       "12"
      ],
      "text/latex": [
       "12"
      ],
      "text/markdown": [
       "12"
      ],
      "text/plain": [
       "[1] 12"
      ]
     },
     "metadata": {},
     "output_type": "display_data"
    }
   ],
   "source": [
    "#The cycle of this time series is 12 months in a year\n",
    "frequency(unemployment_1998_2017)"
   ]
  },
  {
   "cell_type": "code",
   "execution_count": 99,
   "metadata": {},
   "outputs": [
    {
     "data": {
      "text/plain": [
       "     Jan Feb Mar Apr May Jun Jul Aug Sep Oct Nov Dec\n",
       "1998   1   2   3   4   5   6   7   8   9  10  11  12\n",
       "1999   1   2   3   4   5   6   7   8   9  10  11  12\n",
       "2000   1   2   3   4   5   6   7   8   9  10  11  12\n",
       "2001   1   2   3   4   5   6   7   8   9  10  11  12\n",
       "2002   1   2   3   4   5   6   7   8   9  10  11  12\n",
       "2003   1   2   3   4   5   6   7   8   9  10  11  12\n",
       "2004   1   2   3   4   5   6   7   8   9  10  11  12\n",
       "2005   1   2   3   4   5   6   7   8   9  10  11  12\n",
       "2006   1   2   3   4   5   6   7   8   9  10  11  12\n",
       "2007   1   2   3   4   5   6   7   8   9  10  11  12\n",
       "2008   1   2   3   4   5   6   7   8   9  10  11  12\n",
       "2009   1   2   3   4   5   6   7   8   9  10  11  12\n",
       "2010   1   2   3   4   5   6   7   8   9  10  11  12\n",
       "2011   1   2   3   4   5   6   7   8   9  10  11  12\n",
       "2012   1   2   3   4   5   6   7   8   9  10  11  12\n",
       "2013   1   2   3   4   5   6   7   8   9  10  11  12\n",
       "2014   1   2   3   4   5   6   7   8   9  10  11  12\n",
       "2015   1   2   3   4   5   6   7   8   9  10  11  12\n",
       "2016   1   2   3   4   5   6   7   8   9  10  11  12\n",
       "2017   1   2   3   4   5   6   7   8   9  10  11  12"
      ]
     },
     "metadata": {},
     "output_type": "display_data"
    }
   ],
   "source": [
    "cycle(unemployment_1998_2017)"
   ]
  },
  {
   "cell_type": "code",
   "execution_count": 100,
   "metadata": {},
   "outputs": [
    {
     "data": {
      "text/plain": [
       "   Min. 1st Qu.  Median    Mean 3rd Qu.    Max. \n",
       "1835738 2050295 2361732 3049950 4112796 5040222 "
      ]
     },
     "metadata": {},
     "output_type": "display_data"
    }
   ],
   "source": [
    "#Here we have some descriptive statistics\n",
    "summary(unemployment_1998_2017)"
   ]
  },
  {
   "cell_type": "markdown",
   "metadata": {},
   "source": [
    "The first basic plot that we are going to use is a line graph with the values of the series in the ordinate and the temporal instants on the abscissa axis. Constructing this graph can be very useful to observe some characteristics of our time series."
   ]
  },
  {
   "cell_type": "code",
   "execution_count": 101,
   "metadata": {},
   "outputs": [
    {
     "data": {
      "image/png": "[encoded data removed]",
      "text/plain": [
       "plot without title"
      ]
     },
     "metadata": {},
     "output_type": "display_data"
    }
   ],
   "source": [
    "options(repr.plot.width=8, repr.plot.height=4)\n",
    "\n",
    "#The number of unemployed in Spain\n",
    "plot(unemployment_1998_2017, xlab = 'Years', ylab = 'Number of unemployed')\n",
    "\n",
    "#this will fit in a line\n",
    "abline(reg=lm(unemployment_1998_2017~time(unemployment_1998_2017)))"
   ]
  },
  {
   "cell_type": "markdown",
   "metadata": {},
   "source": [
    "It seems that the mean, the variance and the covariance are not constant over time. This makes us think that we are facing a **non-stationary series**, although this is something that we will analyze in more detail later."
   ]
  },
  {
   "cell_type": "code",
   "execution_count": 102,
   "metadata": {},
   "outputs": [
    {
     "data": {
      "image/png": "[encoded data removed]",
      "text/plain": [
       "Plot with title \"Year on year trend\""
      ]
     },
     "metadata": {},
     "output_type": "display_data"
    }
   ],
   "source": [
    "options(repr.plot.width=8, repr.plot.height=5)\n",
    "\n",
    "#In this plot we are going to aggregate the cycles and display a year on year trend\n",
    "plot(aggregate(unemployment_1998_2017,FUN=mean), xlab = \"Years\", ylab = \"Aggregated Unemployment by mean\", main = 'Year on year trend', col = 'blue')"
   ]
  },
  {
   "cell_type": "code",
   "execution_count": 103,
   "metadata": {},
   "outputs": [
    {
     "data": {
      "text/plain": [
       "Time Series:\n",
       "Start = 1998 \n",
       "End = 2017 \n",
       "Frequency = 1 \n",
       " [1] 2359359 2085221 1963462 1930157 2049607 2096887 2113718 2069854 2039414\n",
       "[10] 2039004 2539941 3644041 4060756 4257160 4720404 4845302 4575937 4232132\n",
       "[19] 3868898 3507743"
      ]
     },
     "metadata": {},
     "output_type": "display_data"
    }
   ],
   "source": [
    "aggregate(unemployment_1998_2017,FUN=mean)"
   ]
  },
  {
   "cell_type": "markdown",
   "metadata": {},
   "source": [
    "The year on year trend clearly shows that the **number of unemployed in Spain increased from 2007 to 2013 and decreased from 2013 to 2017 significantly.**"
   ]
  },
  {
   "cell_type": "code",
   "execution_count": 104,
   "metadata": {},
   "outputs": [
    {
     "data": {
      "image/png": "[encoded data removed]",
      "text/plain": [
       "Plot with title \"Box Plot across Months\""
      ]
     },
     "metadata": {},
     "output_type": "display_data"
    }
   ],
   "source": [
    "options(repr.plot.width=5, repr.plot.height=5)\n",
    "\n",
    "#Box plot across months will give us a sense on seasonal effect\n",
    "boxplot(unemployment_1998_2017~cycle(unemployment_1998_2017), xlab = 'Months', ylab = 'Number of unemployed', main = 'Box Plot across Months',col = 'purple')"
   ]
  },
  {
   "cell_type": "markdown",
   "metadata": {},
   "source": [
    "The mean value of unemployed in **the last months of the year is higher than rest of the months.** \n",
    "Also it shows a great variance due to the large peaks that make our distribution not behave in a very normal way."
   ]
  },
  {
   "cell_type": "code",
   "execution_count": 105,
   "metadata": {},
   "outputs": [
    {
     "data": {
      "image/png": "[encoded data removed]",
      "text/plain": [
       "Plot with title \"Normal Q-Q Plot\""
      ]
     },
     "metadata": {},
     "output_type": "display_data"
    }
   ],
   "source": [
    "date = make_date(year = 1998, month = 1)\n",
    "Date_range = seq(from = date, by = 'month', length.out = length(unemployment_1998_2017))\n",
    "\n",
    "options(repr.plot.width=10, repr.plot.height=8)\n",
    "\n",
    "par(mfrow=c(3,1)) \n",
    "\n",
    "#Scatter plot\n",
    "plot(unemployment_1998_2017, x = Date_range, xlab = 'Years', ylab = 'Number of unemployed', pch=20, cex=0.7, col = 'green')\n",
    "\n",
    "#histogram\n",
    "hist (unemployment_1998_2017, xlab = 'Number of unemployed', main = 'Histogram', col = 'brown')\n",
    "\n",
    "#Q-Q plot\n",
    "qqnorm(unemployment_1998_2017)\n",
    "qqline(unemployment_1998_2017)"
   ]
  },
  {
   "cell_type": "code",
   "execution_count": 106,
   "metadata": {},
   "outputs": [
    {
     "data": {
      "text/plain": [
       "\n",
       "\tOne-sample Kolmogorov-Smirnov test\n",
       "\n",
       "data:  unemployment_1998_2017\n",
       "D = 0.34527, p-value < 2.2e-16\n",
       "alternative hypothesis: two-sided\n"
      ]
     },
     "metadata": {},
     "output_type": "display_data"
    }
   ],
   "source": [
    "ks.test(unemployment_1998_2017, \"pnorm\", 3049949.785875, 3049949.785875)"
   ]
  },
  {
   "cell_type": "markdown",
   "metadata": {},
   "source": [
    "The graphs show us that it seems that in our distribution there are not very anomalous values and it's NOT close to a Gaussian distribution."
   ]
  },
  {
   "cell_type": "markdown",
   "metadata": {},
   "source": [
    "## 3. Time Series Components Analysis"
   ]
  },
  {
   "cell_type": "markdown",
   "metadata": {},
   "source": [
    "We are going to use the same methodology that we used for the suicide series. *So I will not repair so much in explaining the usefulness of each step*."
   ]
  },
  {
   "cell_type": "markdown",
   "metadata": {},
   "source": [
    "*Let's start to analyze each of its components with a little more detail, but first we are going to split our time series in a train and a test sets.*"
   ]
  },
  {
   "cell_type": "code",
   "execution_count": 107,
   "metadata": {},
   "outputs": [],
   "source": [
    "unemployment_series_test  <- tail(unemployment_1998_2017,48)\n",
    "unemployment_series_train  <- head(unemployment_1998_2017, 192)"
   ]
  },
  {
   "cell_type": "markdown",
   "metadata": {},
   "source": [
    "We are going to save the samples as csv in case we need it later"
   ]
  },
  {
   "cell_type": "code",
   "execution_count": 108,
   "metadata": {},
   "outputs": [],
   "source": [
    "wkdir_and_path_unemployment_train <- cbind(working_directory,'Data\\\\Monthly_unemployment_Spain_train.csv')\n",
    "unemployment_train_filepath <- str_c(wkdir_and_path_unemployment_train, collapse = \"\\\\\")\n",
    "\n",
    "wkdir_and_path_unemployment_test <- cbind(working_directory,'Data\\\\Monthly_unemployment_Spain_test.csv')\n",
    "unemployment_test_filepath <- str_c(wkdir_and_path_unemployment_test, collapse = \"\\\\\")"
   ]
  },
  {
   "cell_type": "code",
   "execution_count": 109,
   "metadata": {},
   "outputs": [],
   "source": [
    "write.csv(unemployment_series_test, unemployment_test_filepath)\n",
    "write.csv(unemployment_series_train, unemployment_train_filepath)"
   ]
  },
  {
   "cell_type": "markdown",
   "metadata": {},
   "source": [
    "### 3.1. Decomposition methods"
   ]
  },
  {
   "cell_type": "markdown",
   "metadata": {},
   "source": [
    "#### 3.1.1. Moving Averages\n",
    "\n",
    "We present the methodology of moving averages because it's the first step in the classical decomposition and allows us to observe **the trend** of our time series represented in a smoothed way. It can be a good method to extract information in temporary series where there are no fluctuations due to trend or seasonality."
   ]
  },
  {
   "cell_type": "markdown",
   "metadata": {},
   "source": [
    "It is possible to apply a moving average to a moving average. One reason for doing this is to make an even-order moving average symmetric. It's recommended to use a 2x12 Moving averages to estimate the trend-cycle of monthly data:"
   ]
  },
  {
   "cell_type": "code",
   "execution_count": 110,
   "metadata": {
    "scrolled": true
   },
   "outputs": [
    {
     "name": "stderr",
     "output_type": "stream",
     "text": [
      "Warning message:\n",
      "\"Removed 1 rows containing missing values (geom_path).\"Warning message:\n",
      "\"Removed 12 rows containing missing values (geom_path).\""
     ]
    },
    {
     "data": {},
     "metadata": {},
     "output_type": "display_data"
    },
    {
     "data": {
      "image/png": "[encoded data removed]",
      "text/plain": [
       "plot without title"
      ]
     },
     "metadata": {},
     "output_type": "display_data"
    }
   ],
   "source": [
    "options(repr.plot.width=8, repr.plot.height=4)\n",
    "\n",
    "#Applying Moving Averages\n",
    "autoplot(unemployment_series_train) +\n",
    "    autolayer(ma(unemployment_series_train, order=2, centre=FALSE), series='2 MovingAverage')+\n",
    "    autolayer(ma(unemployment_series_train,12, centre = TRUE), series='2x12 Moving Average') +\n",
    "    xlab('Date') + ylab('Number of unemployed') +\n",
    "    ggtitle('Monthly Unemployment in Spain') +\n",
    "    guides(colour=guide_legend(title='series'))"
   ]
  },
  {
   "cell_type": "markdown",
   "metadata": {},
   "source": [
    "The moving average helps us to reduce the noise or short-term volatility in the movements of the data and in this way allows us to better evaluate the quality and direction of a trend."
   ]
  },
  {
   "cell_type": "markdown",
   "metadata": {},
   "source": [
    "Let's start with decomposition and seasonal adjustments"
   ]
  },
  {
   "cell_type": "markdown",
   "metadata": {},
   "source": [
    "#### 3.1.2. Classic Decomposition\n",
    "\n",
    "We are going to use decompose function to see the components of our time series in a classic decomposition method, jut to have a first look:"
   ]
  },
  {
   "cell_type": "code",
   "execution_count": 111,
   "metadata": {},
   "outputs": [
    {
     "data": {
      "image/png": "[encoded data removed]",
      "text/plain": [
       "Plot with title \"Unemployment\""
      ]
     },
     "metadata": {},
     "output_type": "display_data"
    }
   ],
   "source": [
    "options(repr.plot.width=8, repr.plot.height=4)\n",
    "\n",
    "unemployment_series_components  <- decompose(unemployment_series_train)\n",
    "plot(unemployment_series_train, main = 'Unemployment', ylab = 'Unemployed')"
   ]
  },
  {
   "cell_type": "markdown",
   "metadata": {},
   "source": [
    "The plot above shows the original time series (top), the estimated trend component (second from top), the estimated seasonal component (third from top), and the estimated irregular component (bottom). "
   ]
  },
  {
   "cell_type": "markdown",
   "metadata": {},
   "source": [
    "Just like with suicide series, it seems that we have to deal with a trend and a seasonal component. Let's confirm this plotting the autocorrelation function of our time series:"
   ]
  },
  {
   "cell_type": "code",
   "execution_count": 112,
   "metadata": {},
   "outputs": [
    {
     "data": {
      "image/png": "[encoded data removed]",
      "text/plain": [
       "Plot with title \"Unemployment Series\""
      ]
     },
     "metadata": {},
     "output_type": "display_data"
    }
   ],
   "source": [
    "options(repr.plot.width=8, repr.plot.height=4)\n",
    "\n",
    "acf(unemployment_series_train, main = 'Unemployment Series')"
   ]
  },
  {
   "cell_type": "markdown",
   "metadata": {},
   "source": [
    "As we see, clearly, **we have a important seasonal component**."
   ]
  },
  {
   "cell_type": "markdown",
   "metadata": {},
   "source": [
    "Classical decomposition methods are good but we want to see the variation of the seasonal component over the time. We are going to use STL method:"
   ]
  },
  {
   "cell_type": "markdown",
   "metadata": {},
   "source": [
    "#### 3.1.3. STL decomposition"
   ]
  },
  {
   "cell_type": "code",
   "execution_count": 113,
   "metadata": {},
   "outputs": [],
   "source": [
    "STL_unemployment_components <- mstl(unemployment_series_train)"
   ]
  },
  {
   "cell_type": "code",
   "execution_count": 114,
   "metadata": {},
   "outputs": [
    {
     "data": {},
     "metadata": {},
     "output_type": "display_data"
    },
    {
     "data": {
      "image/png": "[encoded data removed]",
      "text/plain": [
       "plot without title"
      ]
     },
     "metadata": {},
     "output_type": "display_data"
    }
   ],
   "source": [
    "options(repr.plot.width=8, repr.plot.height=4)\n",
    "\n",
    "autoplot(unemployment_series_train, series=\"Data\") +\n",
    "    autolayer(trendcycle(STL_unemployment_components), series=\"Trend\") +\n",
    "    autolayer(seasadj(STL_unemployment_components), series=\"Seasonally Adjusted\") +\n",
    "    xlab(\"Year\") + ylab(\"Number of unemployed\") +\n",
    "    ggtitle(\"Monthly Unemployment in Spain\") +\n",
    "    scale_colour_manual(values=c(\"black\",\"blue\",\"red\"),\n",
    "             breaks=c(\"Data\",\"Seasonally Adjusted\",\"Trend\"))"
   ]
  },
  {
   "cell_type": "code",
   "execution_count": 115,
   "metadata": {},
   "outputs": [
    {
     "data": {},
     "metadata": {},
     "output_type": "display_data"
    },
    {
     "data": {
      "image/png": "[encoded data removed]",
      "text/plain": [
       "plot without title"
      ]
     },
     "metadata": {},
     "output_type": "display_data"
    }
   ],
   "source": [
    "options(repr.plot.width=8, repr.plot.height=4)\n",
    "\n",
    "STL_unemployment_components %>% seasonal() %>% ggsubseriesplot() + ylab(\"Seasonal\")"
   ]
  },
  {
   "cell_type": "code",
   "execution_count": 116,
   "metadata": {},
   "outputs": [
    {
     "data": {
      "image/png": "[encoded data removed]",
      "text/plain": [
       "plot without title"
      ]
     },
     "metadata": {},
     "output_type": "display_data"
    }
   ],
   "source": [
    "options(repr.plot.width=12, repr.plot.height=6)\n",
    "\n",
    "plot(STL_unemployment_components, main = 'Unemployment Components STL')"
   ]
  },
  {
   "cell_type": "markdown",
   "metadata": {},
   "source": [
    "Here we can see a more smothed trend. But the most interesting thing that we can observe is that the seasonality component varies with time. In the original time series the largest seasonal factor was for June until 2010, after 2010 it changes and July turns into the largest seasonal factor. The lowest is always for November."
   ]
  },
  {
   "cell_type": "markdown",
   "metadata": {},
   "source": [
    "The seasonal component might not be relevant to explain the dynamics of the series. In order to see that, we can compare the variance of each component with respect to the variance of the original series."
   ]
  },
  {
   "cell_type": "code",
   "execution_count": 117,
   "metadata": {},
   "outputs": [
    {
     "data": {
      "text/html": [
       "<dl class=dl-horizontal>\n",
       "\t<dt>Data</dt>\n",
       "\t\t<dd>1</dd>\n",
       "\t<dt>Trend</dt>\n",
       "\t\t<dd>0.981421091462611</dd>\n",
       "\t<dt>Seasonal12</dt>\n",
       "\t\t<dd>0.00482070712169401</dd>\n",
       "\t<dt>Remainder</dt>\n",
       "\t\t<dd>0.00100080182794</dd>\n",
       "</dl>\n"
      ],
      "text/latex": [
       "\\begin{description*}\n",
       "\\item[Data] 1\n",
       "\\item[Trend] 0.981421091462611\n",
       "\\item[Seasonal12] 0.00482070712169401\n",
       "\\item[Remainder] 0.00100080182794\n",
       "\\end{description*}\n"
      ],
      "text/markdown": [
       "Data\n",
       ":   1Trend\n",
       ":   0.981421091462611Seasonal12\n",
       ":   0.00482070712169401Remainder\n",
       ":   0.00100080182794\n",
       "\n"
      ],
      "text/plain": [
       "       Data       Trend  Seasonal12   Remainder \n",
       "1.000000000 0.981421091 0.004820707 0.001000802 "
      ]
     },
     "metadata": {},
     "output_type": "display_data"
    }
   ],
   "source": [
    "apply(STL_unemployment_components,2, var) / var(c(unemployment_series_train))"
   ]
  },
  {
   "cell_type": "markdown",
   "metadata": {},
   "source": [
    "*We can see that it is the trend what explains most of the variance in the data.*"
   ]
  },
  {
   "cell_type": "code",
   "execution_count": 118,
   "metadata": {},
   "outputs": [
    {
     "data": {
      "text/plain": [
       "         Jan     Feb     Mar     Apr     May     Jun     Jul     Aug     Sep\n",
       "1998 2486920 2460881 2456719 2423714 2405742 2397598 2338610 2303999 2307655\n",
       "1999 2160988 2140263 2134939 2125002 2113172 2112141 2069575 2049211 2054330\n",
       "2000 1998786 1986542 1974785 1964302 1965598 1969811 1981278 1956116 1960283\n",
       "2001 1925458 1899559 1913461 1890474 1935462 1910502 1924184 1945291 1942137\n",
       "2002 1982267 2055576 2015476 2039750 2040678 2032081 2050150 2049802 2060515\n",
       "2003 2090332 2083665 2095383 2082926 2074933 2092857 2084682 2080618 2096138\n",
       "2004 2135253 2120231 2112759 2139620 2131779 2130362 2103961 2112538 2110864\n",
       "2005 2078345 2062320 2068323 2063884 2043532 2051088 2085217 2086911 2079048\n",
       "2006 2072466 2062245 2064330 2034418 2035851 2036209 2057217 2056929 2038063\n",
       "2007 1983560 1960519 1961696 1970375 1996022 2044660 2082954 2112510 2094298\n",
       "2008 2163771 2193374 2190008 2274437 2367808 2471351 2549540 2624656 2706674\n",
       "2009 3230155 3355881 3488662 3575508 3629836 3647098 3671115 3729324 3792915\n",
       "2010 3951976 4001202 4044634 4068170 4071646 4065967 4039930 4075242 4102957\n",
       "2011 4135361 4168635 4209478 4193040 4193422 4206143 4213465 4239203 4313090\n",
       "2012 4504573 4579860 4624145 4665583 4715990 4700162 4723381 4736439 4792613\n",
       "2013 4885881 4906753 4906523 4908784 4891404 4849128 4836601 4811715 4812496\n",
       "         Oct     Nov     Dec\n",
       "1998 2280261 2243226 2207329\n",
       "1999 2032690 2029081 2001812\n",
       "2000 1947157 1936253 1920716\n",
       "2001 1954596 1959795 1961804\n",
       "2002 2078819 2091493 2099605\n",
       "2003 2112853 2119067 2152368\n",
       "2004 2095265 2099932 2083985\n",
       "2005 2075850 2079106 2077678\n",
       "2006 2020262 2012453 2002314\n",
       "2007 2075025 2085066 2117885\n",
       "2008 2842729 2980302 3125307\n",
       "2009 3830967 3858599 3924599\n",
       "2010 4105900 4097805 4104835\n",
       "2011 4380356 4407840 4429035\n",
       "2012 4852286 4894883 4857121\n",
       "2013 4829630 4795703 4711148"
      ]
     },
     "metadata": {},
     "output_type": "display_data"
    }
   ],
   "source": [
    "seasadj(STL_unemployment_components)"
   ]
  },
  {
   "cell_type": "markdown",
   "metadata": {},
   "source": [
    "Seasadj function returns seasonally adjusted data constructed by removing the seasonal component. The seasonally adjusted time series now just contains the trend and the irregular component."
   ]
  },
  {
   "cell_type": "markdown",
   "metadata": {},
   "source": [
    "##### *Forecasting with Decomposition*\n",
    "\n",
    "While decomposition is primarily useful for studying time series data, and exploring historical changes over time, it can also be used in forecasting.\n",
    "\n",
    "We will use stlf function which decompose the time series using STL, forecast the seasonally adjusted series with arima, and return the reseasonalised forecasts."
   ]
  },
  {
   "cell_type": "code",
   "execution_count": 119,
   "metadata": {},
   "outputs": [
    {
     "data": {
      "image/png": "[encoded data removed]",
      "text/plain": [
       "Plot with title \"Forecasts from STL +  ARIMA(0,2,2)\""
      ]
     },
     "metadata": {},
     "output_type": "display_data"
    }
   ],
   "source": [
    "options(repr.plot.width=8, repr.plot.height=4)\n",
    "\n",
    "forecast_decomposed_unemployment_series <- stlf(unemployment_series_train, method='arima', h = 48)\n",
    "plot(forecast_decomposed_unemployment_series)"
   ]
  },
  {
   "cell_type": "markdown",
   "metadata": {},
   "source": [
    "- Evaluating the forecasts"
   ]
  },
  {
   "cell_type": "code",
   "execution_count": 120,
   "metadata": {},
   "outputs": [
    {
     "data": {
      "text/html": [
       "<table>\n",
       "<thead><tr><th></th><th scope=col>ME</th><th scope=col>RMSE</th><th scope=col>MAE</th><th scope=col>MPE</th><th scope=col>MAPE</th><th scope=col>MASE</th><th scope=col>ACF1</th><th scope=col>Theil's U</th></tr></thead>\n",
       "<tbody>\n",
       "\t<tr><th scope=row>Training set</th><td>  -237.377 </td><td> 24879.43  </td><td> 19067.31  </td><td>0.02890272 </td><td>0.7259244  </td><td>0.07881806 </td><td>-0.00131463</td><td>      NA   </td></tr>\n",
       "\t<tr><th scope=row>Test set</th><td>305160.613 </td><td>338260.77  </td><td>305160.61  </td><td>7.97975919 </td><td>7.9797592  </td><td>1.26143442 </td><td> 0.90775605</td><td>5.283993   </td></tr>\n",
       "</tbody>\n",
       "</table>\n"
      ],
      "text/latex": [
       "\\begin{tabular}{r|llllllll}\n",
       "  & ME & RMSE & MAE & MPE & MAPE & MASE & ACF1 & Theil's U\\\\\n",
       "\\hline\n",
       "\tTraining set &   -237.377  &  24879.43   &  19067.31   & 0.02890272  & 0.7259244   & 0.07881806  & -0.00131463 &       NA   \\\\\n",
       "\tTest set & 305160.613  & 338260.77   & 305160.61   & 7.97975919  & 7.9797592   & 1.26143442  &  0.90775605 & 5.283993   \\\\\n",
       "\\end{tabular}\n"
      ],
      "text/markdown": [
       "\n",
       "| <!--/--> | ME | RMSE | MAE | MPE | MAPE | MASE | ACF1 | Theil's U | \n",
       "|---|---|\n",
       "| Training set |   -237.377  |  24879.43   |  19067.31   | 0.02890272  | 0.7259244   | 0.07881806  | -0.00131463 |       NA    | \n",
       "| Test set | 305160.613  | 338260.77   | 305160.61   | 7.97975919  | 7.9797592   | 1.26143442  |  0.90775605 | 5.283993    | \n",
       "\n",
       "\n"
      ],
      "text/plain": [
       "             ME         RMSE      MAE       MPE        MAPE      MASE      \n",
       "Training set   -237.377  24879.43  19067.31 0.02890272 0.7259244 0.07881806\n",
       "Test set     305160.613 338260.77 305160.61 7.97975919 7.9797592 1.26143442\n",
       "             ACF1        Theil's U\n",
       "Training set -0.00131463       NA \n",
       "Test set      0.90775605 5.283993 "
      ]
     },
     "metadata": {},
     "output_type": "display_data"
    },
    {
     "data": {
      "image/png": "[encoded data removed]",
      "text/plain": [
       "Plot with title \"Forecasts from STL +  ARIMA(0,2,2)\""
      ]
     },
     "metadata": {},
     "output_type": "display_data"
    }
   ],
   "source": [
    "options(repr.plot.width=8, repr.plot.height=4)\n",
    "\n",
    "#Accuracy and plot\n",
    "accuracy(forecast_decomposed_unemployment_series, unemployment_series_test)\n",
    "plot(forecast_decomposed_unemployment_series)\n",
    "lines(unemployment_1998_2017)"
   ]
  },
  {
   "cell_type": "markdown",
   "metadata": {},
   "source": [
    "##### Forecasting with Holt-Winters Exponential Smoothing"
   ]
  },
  {
   "cell_type": "markdown",
   "metadata": {},
   "source": [
    "We are not sure if our series behave in a multiplicative way so we will use its logarithmic transformation to convert it into an additive and that can be used in this model."
   ]
  },
  {
   "cell_type": "code",
   "execution_count": 121,
   "metadata": {},
   "outputs": [],
   "source": [
    "unemployment_series_log <-  log(unemployment_series_train)"
   ]
  },
  {
   "cell_type": "code",
   "execution_count": 122,
   "metadata": {},
   "outputs": [
    {
     "data": {
      "text/plain": [
       "Holt-Winters exponential smoothing with trend and additive seasonal component.\n",
       "\n",
       "Call:\n",
       "HoltWinters(x = unemployment_series_log)\n",
       "\n",
       "Smoothing parameters:\n",
       " alpha: 0.9723862\n",
       " beta : 0.2511722\n",
       " gamma: 1\n",
       "\n",
       "Coefficients:\n",
       "            [,1]\n",
       "a   15.352014770\n",
       "b   -0.008774350\n",
       "s1   0.030985160\n",
       "s2   0.030811953\n",
       "s3   0.023844489\n",
       "s4   0.007869203\n",
       "s5  -0.015051176\n",
       "s6  -0.025022205\n",
       "s7  -0.035933154\n",
       "s8  -0.030812052\n",
       "s9  -0.017933890\n",
       "s10  0.003680888\n",
       "s11  0.016405506\n",
       "s12  0.011342937"
      ]
     },
     "metadata": {},
     "output_type": "display_data"
    }
   ],
   "source": [
    "unemployment_series_hw_forecasts  <- HoltWinters(unemployment_series_log)\n",
    "unemployment_series_hw_forecasts"
   ]
  },
  {
   "cell_type": "markdown",
   "metadata": {},
   "source": [
    "The estimated values of alpha, beta and gamma are 0.97, 0.25 and 1, respectively. The value of alpha (0.97)\n",
    "is high, indicating that the estimate of the level at the current time point is based upon both recent\n",
    "observations and some observations in the more distant past. The value of beta is 0.25, indicating that the estimate\n",
    "of the slope b of the trend component remains roughly the same. The value of gamma (1) is very high, indicating that the seasonal change to much over time.\n"
   ]
  },
  {
   "cell_type": "code",
   "execution_count": 123,
   "metadata": {
    "scrolled": true
   },
   "outputs": [
    {
     "data": {
      "image/png": "[encoded data removed]",
      "text/plain": [
       "Plot with title \"Holt-Winters filtering\""
      ]
     },
     "metadata": {},
     "output_type": "display_data"
    }
   ],
   "source": [
    "options(repr.plot.width=8, repr.plot.height=4)\n",
    "\n",
    "plot(unemployment_series_hw_forecasts)"
   ]
  },
  {
   "cell_type": "markdown",
   "metadata": {},
   "source": [
    "The observed values are plotted with the black line and the fitted values with the red one."
   ]
  },
  {
   "cell_type": "code",
   "execution_count": 130,
   "metadata": {},
   "outputs": [
    {
     "data": {
      "image/png": "[encoded data removed]",
      "text/plain": [
       "Plot with title \"Forecasts from HoltWinters\""
      ]
     },
     "metadata": {},
     "output_type": "display_data"
    }
   ],
   "source": [
    "options(repr.plot.width=8, repr.plot.height=4)\n",
    "\n",
    "unemployment_series_hw_future_forecasts <- forecast::forecast(unemployment_series_hw_forecasts, h = 48)\n",
    "plot(unemployment_series_hw_future_forecasts)"
   ]
  },
  {
   "cell_type": "markdown",
   "metadata": {},
   "source": [
    "*The forecasts are shown as a blue line, and the blue and grey shaded areas show 80% and 95% prediction\n",
    "intervals, respectively.*"
   ]
  },
  {
   "cell_type": "markdown",
   "metadata": {},
   "source": [
    "We can investigate whether the predictive model can be improved upon by checking whether the in-sample forecast\n",
    "errors show non-zero autocorrelations at lags 1-12, by making a correlogram and carrying out the Ljung-Box test.\n",
    "\n",
    "What is desired in time series is to build a model such that after extracting the trend and seasonality it can be certain that the waste is very similar to a white Gaussian noise. This assures us that we obtained all possible information from the data and that we can no longer know much more about the series in the errors. This also allows us to trust that the model is good and that its predictions therefore must be good."
   ]
  },
  {
   "cell_type": "code",
   "execution_count": 131,
   "metadata": {},
   "outputs": [
    {
     "data": {
      "text/html": [
       "<table>\n",
       "<thead><tr><th></th><th scope=col>m</th><th scope=col>Qm</th><th scope=col>pvalue</th></tr></thead>\n",
       "<tbody>\n",
       "\t<tr><th scope=row></th><td> 1          </td><td> 1.94       </td><td>1.641106e-01</td></tr>\n",
       "\t<tr><th scope=row></th><td> 2          </td><td> 2.54       </td><td>2.813260e-01</td></tr>\n",
       "\t<tr><th scope=row></th><td> 3          </td><td> 2.68       </td><td>4.434226e-01</td></tr>\n",
       "\t<tr><th scope=row></th><td> 4          </td><td> 3.78       </td><td>4.363974e-01</td></tr>\n",
       "\t<tr><th scope=row></th><td> 5          </td><td> 3.78       </td><td>5.811801e-01</td></tr>\n",
       "\t<tr><th scope=row></th><td> 6          </td><td> 8.61       </td><td>1.970183e-01</td></tr>\n",
       "\t<tr><th scope=row></th><td> 7          </td><td>10.15       </td><td>1.804480e-01</td></tr>\n",
       "\t<tr><th scope=row></th><td> 8          </td><td>13.03       </td><td>1.109511e-01</td></tr>\n",
       "\t<tr><th scope=row></th><td> 9          </td><td>13.26       </td><td>1.513976e-01</td></tr>\n",
       "\t<tr><th scope=row></th><td>10          </td><td>18.41       </td><td>4.837849e-02</td></tr>\n",
       "\t<tr><th scope=row></th><td>11          </td><td>20.24       </td><td>4.220546e-02</td></tr>\n",
       "\t<tr><th scope=row></th><td>12          </td><td>42.94       </td><td>2.315802e-05</td></tr>\n",
       "\t<tr><th scope=row></th><td>13          </td><td>46.05       </td><td>1.394989e-05</td></tr>\n",
       "\t<tr><th scope=row></th><td>14          </td><td>47.05       </td><td>1.883787e-05</td></tr>\n",
       "\t<tr><th scope=row></th><td>15          </td><td>47.87       </td><td>2.669870e-05</td></tr>\n",
       "\t<tr><th scope=row></th><td>16          </td><td>50.04       </td><td>2.255970e-05</td></tr>\n",
       "\t<tr><th scope=row></th><td>17          </td><td>51.57       </td><td>2.401986e-05</td></tr>\n",
       "\t<tr><th scope=row></th><td>18          </td><td>51.64       </td><td>4.249637e-05</td></tr>\n",
       "\t<tr><th scope=row></th><td>19          </td><td>51.95       </td><td>6.728931e-05</td></tr>\n",
       "\t<tr><th scope=row></th><td>20          </td><td>55.01       </td><td>4.089943e-05</td></tr>\n",
       "\t<tr><th scope=row></th><td>21          </td><td>56.11       </td><td>4.857133e-05</td></tr>\n",
       "\t<tr><th scope=row></th><td>22          </td><td>62.24       </td><td>1.034725e-05</td></tr>\n",
       "\t<tr><th scope=row></th><td>23          </td><td>62.26       </td><td>1.790246e-05</td></tr>\n",
       "\t<tr><th scope=row></th><td>24          </td><td>74.59       </td><td>4.317148e-07</td></tr>\n",
       "\t<tr><th scope=row></th><td>25          </td><td>78.64       </td><td>1.859259e-07</td></tr>\n",
       "\t<tr><th scope=row></th><td>26          </td><td>79.25       </td><td>2.738003e-07</td></tr>\n",
       "\t<tr><th scope=row></th><td>27          </td><td>79.25       </td><td>4.908020e-07</td></tr>\n",
       "\t<tr><th scope=row></th><td>28          </td><td>84.22       </td><td>1.547317e-07</td></tr>\n",
       "\t<tr><th scope=row></th><td>29          </td><td>84.36       </td><td>2.614412e-07</td></tr>\n",
       "\t<tr><th scope=row></th><td>30          </td><td>84.86       </td><td>3.860561e-07</td></tr>\n",
       "</tbody>\n",
       "</table>\n"
      ],
      "text/latex": [
       "\\begin{tabular}{r|lll}\n",
       "  & m & Qm & pvalue\\\\\n",
       "\\hline\n",
       "\t &  1           &  1.94        & 1.641106e-01\\\\\n",
       "\t &  2           &  2.54        & 2.813260e-01\\\\\n",
       "\t &  3           &  2.68        & 4.434226e-01\\\\\n",
       "\t &  4           &  3.78        & 4.363974e-01\\\\\n",
       "\t &  5           &  3.78        & 5.811801e-01\\\\\n",
       "\t &  6           &  8.61        & 1.970183e-01\\\\\n",
       "\t &  7           & 10.15        & 1.804480e-01\\\\\n",
       "\t &  8           & 13.03        & 1.109511e-01\\\\\n",
       "\t &  9           & 13.26        & 1.513976e-01\\\\\n",
       "\t & 10           & 18.41        & 4.837849e-02\\\\\n",
       "\t & 11           & 20.24        & 4.220546e-02\\\\\n",
       "\t & 12           & 42.94        & 2.315802e-05\\\\\n",
       "\t & 13           & 46.05        & 1.394989e-05\\\\\n",
       "\t & 14           & 47.05        & 1.883787e-05\\\\\n",
       "\t & 15           & 47.87        & 2.669870e-05\\\\\n",
       "\t & 16           & 50.04        & 2.255970e-05\\\\\n",
       "\t & 17           & 51.57        & 2.401986e-05\\\\\n",
       "\t & 18           & 51.64        & 4.249637e-05\\\\\n",
       "\t & 19           & 51.95        & 6.728931e-05\\\\\n",
       "\t & 20           & 55.01        & 4.089943e-05\\\\\n",
       "\t & 21           & 56.11        & 4.857133e-05\\\\\n",
       "\t & 22           & 62.24        & 1.034725e-05\\\\\n",
       "\t & 23           & 62.26        & 1.790246e-05\\\\\n",
       "\t & 24           & 74.59        & 4.317148e-07\\\\\n",
       "\t & 25           & 78.64        & 1.859259e-07\\\\\n",
       "\t & 26           & 79.25        & 2.738003e-07\\\\\n",
       "\t & 27           & 79.25        & 4.908020e-07\\\\\n",
       "\t & 28           & 84.22        & 1.547317e-07\\\\\n",
       "\t & 29           & 84.36        & 2.614412e-07\\\\\n",
       "\t & 30           & 84.86        & 3.860561e-07\\\\\n",
       "\\end{tabular}\n"
      ],
      "text/markdown": [
       "\n",
       "| <!--/--> | m | Qm | pvalue | \n",
       "|---|---|---|---|---|---|---|---|---|---|---|---|---|---|---|---|---|---|---|---|---|---|---|---|---|---|---|---|---|---|\n",
       "|  |  1           |  1.94        | 1.641106e-01 | \n",
       "|  |  2           |  2.54        | 2.813260e-01 | \n",
       "|  |  3           |  2.68        | 4.434226e-01 | \n",
       "|  |  4           |  3.78        | 4.363974e-01 | \n",
       "|  |  5           |  3.78        | 5.811801e-01 | \n",
       "|  |  6           |  8.61        | 1.970183e-01 | \n",
       "|  |  7           | 10.15        | 1.804480e-01 | \n",
       "|  |  8           | 13.03        | 1.109511e-01 | \n",
       "|  |  9           | 13.26        | 1.513976e-01 | \n",
       "|  | 10           | 18.41        | 4.837849e-02 | \n",
       "|  | 11           | 20.24        | 4.220546e-02 | \n",
       "|  | 12           | 42.94        | 2.315802e-05 | \n",
       "|  | 13           | 46.05        | 1.394989e-05 | \n",
       "|  | 14           | 47.05        | 1.883787e-05 | \n",
       "|  | 15           | 47.87        | 2.669870e-05 | \n",
       "|  | 16           | 50.04        | 2.255970e-05 | \n",
       "|  | 17           | 51.57        | 2.401986e-05 | \n",
       "|  | 18           | 51.64        | 4.249637e-05 | \n",
       "|  | 19           | 51.95        | 6.728931e-05 | \n",
       "|  | 20           | 55.01        | 4.089943e-05 | \n",
       "|  | 21           | 56.11        | 4.857133e-05 | \n",
       "|  | 22           | 62.24        | 1.034725e-05 | \n",
       "|  | 23           | 62.26        | 1.790246e-05 | \n",
       "|  | 24           | 74.59        | 4.317148e-07 | \n",
       "|  | 25           | 78.64        | 1.859259e-07 | \n",
       "|  | 26           | 79.25        | 2.738003e-07 | \n",
       "|  | 27           | 79.25        | 4.908020e-07 | \n",
       "|  | 28           | 84.22        | 1.547317e-07 | \n",
       "|  | 29           | 84.36        | 2.614412e-07 | \n",
       "|  | 30           | 84.86        | 3.860561e-07 | \n",
       "\n",
       "\n"
      ],
      "text/plain": [
       " m  Qm    pvalue      \n",
       "  1  1.94 1.641106e-01\n",
       "  2  2.54 2.813260e-01\n",
       "  3  2.68 4.434226e-01\n",
       "  4  3.78 4.363974e-01\n",
       "  5  3.78 5.811801e-01\n",
       "  6  8.61 1.970183e-01\n",
       "  7 10.15 1.804480e-01\n",
       "  8 13.03 1.109511e-01\n",
       "  9 13.26 1.513976e-01\n",
       " 10 18.41 4.837849e-02\n",
       " 11 20.24 4.220546e-02\n",
       " 12 42.94 2.315802e-05\n",
       " 13 46.05 1.394989e-05\n",
       " 14 47.05 1.883787e-05\n",
       " 15 47.87 2.669870e-05\n",
       " 16 50.04 2.255970e-05\n",
       " 17 51.57 2.401986e-05\n",
       " 18 51.64 4.249637e-05\n",
       " 19 51.95 6.728931e-05\n",
       " 20 55.01 4.089943e-05\n",
       " 21 56.11 4.857133e-05\n",
       " 22 62.24 1.034725e-05\n",
       " 23 62.26 1.790246e-05\n",
       " 24 74.59 4.317148e-07\n",
       " 25 78.64 1.859259e-07\n",
       " 26 79.25 2.738003e-07\n",
       " 27 79.25 4.908020e-07\n",
       " 28 84.22 1.547317e-07\n",
       " 29 84.36 2.614412e-07\n",
       " 30 84.86 3.860561e-07"
      ]
     },
     "metadata": {},
     "output_type": "display_data"
    },
    {
     "data": {
      "image/png": "[encoded data removed]",
      "text/plain": [
       "Plot with title \"Ljung-Box Q Test\""
      ]
     },
     "metadata": {},
     "output_type": "display_data"
    }
   ],
   "source": [
    "options(repr.plot.width=5, repr.plot.height=4)\n",
    "\n",
    "#Ljung-Box test\n",
    "unemployment_series_hw_future_forecasts_residuals  <- tseries::na.remove(residuals(unemployment_series_hw_future_forecasts))\n",
    "LjungBoxTest(unemployment_series_hw_future_forecasts_residuals)\n",
    "plot(LjungBoxTest(unemployment_series_hw_future_forecasts_residuals)[,3],main= \"Ljung-Box Q Test\", ylab= \"P-values\", xlab= \"Lag\")"
   ]
  },
  {
   "cell_type": "code",
   "execution_count": 133,
   "metadata": {},
   "outputs": [
    {
     "data": {
      "image/png": "[encoded data removed]",
      "text/plain": [
       "Plot with title \"Normal Q-Q Plot\""
      ]
     },
     "metadata": {},
     "output_type": "display_data"
    }
   ],
   "source": [
    "options(repr.plot.width=6, repr.plot.height=6)\n",
    "\n",
    "#Graphic analysis\n",
    "par (mfrow = c(2,2))\n",
    "plot (unemployment_series_hw_future_forecasts_residuals, ylab = 'Residuals')\n",
    "abline (h=0, lty=2, col=\"2\")\n",
    "##Correlogram\n",
    "acf (unemployment_series_hw_future_forecasts_residuals, 12, na.action = na.pass, main = 'Residuals Series', ylab = 'ACF' )\n",
    "##Histogram\n",
    "hist(unemployment_series_hw_future_forecasts_residuals, prob = T, col=\"6\", main = 'Histogram of residuals', xlab = 'Residuals')\n",
    "lines(density (na.omit(unemployment_series_hw_future_forecasts_residuals)), col=\"4\")\n",
    "##Q-Q plot\n",
    "qqnorm (unemployment_series_hw_future_forecasts_residuals)\n",
    "qqline (unemployment_series_hw_future_forecasts_residuals,col=\"2\")"
   ]
  },
  {
   "cell_type": "markdown",
   "metadata": {},
   "source": [
    "The p-value of Ljung-Box test shows that we can reject the null hypothesis. So we can assume that your values are showing dependence on each other with 95% of confidence.\n",
    "\n",
    "Therefore, there is evidence of autocorrelation for forecast errors, although forecast errors appear to be normally distributed with zero mean and constant variance over time. This suggests that the exponential adjustment of Holt-Winters does not provide an adequate predictive model. In addition, the assumptions on which the prediction intervals were based they probably aren't valid."
   ]
  },
  {
   "cell_type": "markdown",
   "metadata": {},
   "source": [
    "If we want to apply other models like Arima we have to have in mind that most of the time series models work on the assumption that the time series is stationary.  Also, the theories related to stationary series are more mature and easier to implement as compared to non-stationary series."
   ]
  },
  {
   "cell_type": "markdown",
   "metadata": {},
   "source": [
    "### 3.2. Stationarity Testing"
   ]
  },
  {
   "cell_type": "markdown",
   "metadata": {},
   "source": [
    "To test these conditions of the Unemployment series we will use the same methods that we used in the Suicide time series section."
   ]
  },
  {
   "cell_type": "markdown",
   "metadata": {},
   "source": [
    "#### 3.2.1. Moving statistics"
   ]
  },
  {
   "cell_type": "markdown",
   "metadata": {},
   "source": [
    "We can plot the moving average and see if it varies with time, this is a smoothing method. By moving average We mean that at any instant ‘t’, we’ll take the average of the last year (in our case). We are going to plot it against the original time series and take a look at it."
   ]
  },
  {
   "cell_type": "code",
   "execution_count": 134,
   "metadata": {},
   "outputs": [
    {
     "data": {},
     "metadata": {},
     "output_type": "display_data"
    },
    {
     "data": {
      "image/png": "[encoded data removed]",
      "text/plain": [
       "plot without title"
      ]
     },
     "metadata": {},
     "output_type": "display_data"
    }
   ],
   "source": [
    "options(repr.plot.width=8, repr.plot.height=4)\n",
    "\n",
    "moving_mean_vs_OG(unemployment_series_train, 'Number of Unemployed')"
   ]
  },
  {
   "cell_type": "markdown",
   "metadata": {},
   "source": [
    "The mean is clearly non constant over time. It seems that the series is **non stationary** but we are going to keep checking."
   ]
  },
  {
   "cell_type": "markdown",
   "metadata": {},
   "source": [
    "#### 3.2.2. Summary Statistics"
   ]
  },
  {
   "cell_type": "markdown",
   "metadata": {},
   "source": [
    "As we did with the Suicide time series we are going to split Unemployment time series into two partitions and compare the mean and variance of each group. If they differ and the difference is statistically significant, the time series is likely non-stationary."
   ]
  },
  {
   "cell_type": "code",
   "execution_count": 135,
   "metadata": {},
   "outputs": [
    {
     "name": "stdout",
     "output_type": "stream",
     "text": [
      "[1] \"Mean of the first partition = 2083533.00635417\"\n",
      "[1] \"Mean of the second partition = 3503661.86597938\"\n",
      "[1] \"Variance of the first partition = 21116947717.9175\"\n",
      "[1] \"Variance of the second partition = 1214450604241.24\"\n"
     ]
    }
   ],
   "source": [
    "Stationarity_descriptive_test (unemployment_series_train)"
   ]
  },
  {
   "cell_type": "markdown",
   "metadata": {},
   "source": [
    "Running the code above, we can see the mean and variance look very different over time. It seems that we have a **non-stationary** time series."
   ]
  },
  {
   "cell_type": "markdown",
   "metadata": {},
   "source": [
    "#### 3.2.3. Statistical Tests"
   ]
  },
  {
   "cell_type": "code",
   "execution_count": 136,
   "metadata": {},
   "outputs": [
    {
     "name": "stdout",
     "output_type": "stream",
     "text": [
      "Augmented Dickey-Fuller Test \n",
      "alternative: stationary \n",
      " \n",
      "Type 1: no drift no trend \n",
      "     lag  ADF p.value\n",
      "[1,]   0 2.93   0.990\n",
      "[2,]   1 1.04   0.918\n",
      "[3,]   2 1.06   0.921\n",
      "[4,]   3 1.38   0.957\n",
      "[5,]   4 1.75   0.979\n",
      "Type 2: with drift no trend \n",
      "     lag     ADF p.value\n",
      "[1,]   0  1.6168   0.990\n",
      "[2,]   1 -0.0502   0.951\n",
      "[3,]   2 -0.0440   0.952\n",
      "[4,]   3  0.1716   0.969\n",
      "[5,]   4  0.4907   0.985\n",
      "Type 3: with drift and trend \n",
      "     lag   ADF p.value\n",
      "[1,]   0 -2.24   0.475\n",
      "[2,]   1 -2.19   0.493\n",
      "[3,]   2 -2.16   0.505\n",
      "[4,]   3 -1.93   0.602\n",
      "[5,]   4 -1.85   0.636\n",
      "---- \n",
      "Note: in fact, p.value = 0.01 means p.value <= 0.01 \n",
      "$type1\n",
      "     lag      ADF   p.value\n",
      "[1,]   0 2.934705 0.9900000\n",
      "[2,]   1 1.037277 0.9183774\n",
      "[3,]   2 1.060314 0.9213309\n",
      "[4,]   3 1.375247 0.9565224\n",
      "[5,]   4 1.747375 0.9793196\n",
      "\n",
      "$type2\n",
      "     lag         ADF   p.value\n",
      "[1,]   0  1.61682063 0.9900000\n",
      "[2,]   1 -0.05023173 0.9512610\n",
      "[3,]   2 -0.04401753 0.9517559\n",
      "[4,]   3  0.17159525 0.9689261\n",
      "[5,]   4  0.49070416 0.9846859\n",
      "\n",
      "$type3\n",
      "     lag       ADF   p.value\n",
      "[1,]   0 -2.236975 0.4746691\n",
      "[2,]   1 -2.192800 0.4930409\n",
      "[3,]   2 -2.163499 0.5052917\n",
      "[4,]   3 -1.932746 0.6024507\n",
      "[5,]   4 -1.854006 0.6356044\n",
      "\n",
      "KPSS Unit Root Test \n",
      "alternative: nonstationary \n",
      " \n",
      "Type 1: no drift no trend \n",
      " lag  stat p.value\n",
      "   3 0.534     0.1\n",
      "----- \n",
      " Type 2: with drift no trend \n",
      " lag  stat p.value\n",
      "   3 0.385  0.0835\n",
      "----- \n",
      " Type 1: with drift and trend \n",
      " lag  stat p.value\n",
      "   3 0.088     0.1\n",
      "----------- \n",
      "Note: p.value = 0.01 means p.value <= 0.01 \n",
      "    : p.value = 0.10 means p.value >= 0.10 \n",
      "       lag       kpss    p.value\n",
      "type 1   3 0.53441159 0.10000000\n",
      "type 2   3 0.38521762 0.08352689\n",
      "type 3   3 0.08800556 0.10000000\n"
     ]
    }
   ],
   "source": [
    "Stationarity_statistical_tests(unemployment_series_train)"
   ]
  },
  {
   "cell_type": "markdown",
   "metadata": {},
   "source": [
    "According to the test our Unemployment time series it's clearly **non stationary**."
   ]
  },
  {
   "cell_type": "markdown",
   "metadata": {},
   "source": [
    "## 4. Forecasting with ARIMA"
   ]
  },
  {
   "cell_type": "markdown",
   "metadata": {},
   "source": [
    "### 4.1.  Conversion to Stationary"
   ]
  },
  {
   "cell_type": "markdown",
   "metadata": {},
   "source": [
    "#### 4.1.1  Smoothing\n",
    "\n",
    "We are going to keep working with the Box Cox transformated series."
   ]
  },
  {
   "cell_type": "code",
   "execution_count": 139,
   "metadata": {},
   "outputs": [
    {
     "data": {
      "image/png": "[encoded data removed]",
      "text/plain": [
       "Plot with title \"Unemployment Series Box Cox\""
      ]
     },
     "metadata": {},
     "output_type": "display_data"
    }
   ],
   "source": [
    "options(repr.plot.width=8, repr.plot.height=4)\n",
    "\n",
    "unemployment_series_BoxCox  <- forecast::BoxCox(unemployment_series_train, lambda = 0)\n",
    "plot(unemployment_series_BoxCox, ylab = 'Unemployment', main = 'Unemployment Series Box Cox')"
   ]
  },
  {
   "cell_type": "markdown",
   "metadata": {},
   "source": [
    "#### 4.1.2. Differencing\n",
    "Differencing can help stabilise the mean of a time series by removing changes in the level of a time series, and therefore eliminating (or reducing) trend and seasonality."
   ]
  },
  {
   "cell_type": "code",
   "execution_count": 140,
   "metadata": {},
   "outputs": [
    {
     "data": {
      "image/png": "[encoded data removed]",
      "text/plain": [
       "Plot with title \"Unemployment Series Box Cox after Differencing\""
      ]
     },
     "metadata": {},
     "output_type": "display_data"
    }
   ],
   "source": [
    "options(repr.plot.width=8, repr.plot.height=4)\n",
    "\n",
    "unemployment_series_diff_BoxCox <- diff(unemployment_series_BoxCox)\n",
    "plot(unemployment_series_diff_BoxCox, ylab = 'Values', main = 'Unemployment Series Box Cox after Differencing')"
   ]
  },
  {
   "cell_type": "markdown",
   "metadata": {},
   "source": [
    "Now we are going to test the resulting series **after the transformation.**\n",
    "We are going to use the sationarity tests that we did before."
   ]
  },
  {
   "cell_type": "code",
   "execution_count": 141,
   "metadata": {},
   "outputs": [
    {
     "data": {},
     "metadata": {},
     "output_type": "display_data"
    },
    {
     "data": {
      "image/png": "[encoded data removed]",
      "text/plain": [
       "plot without title"
      ]
     },
     "metadata": {},
     "output_type": "display_data"
    }
   ],
   "source": [
    "options(repr.plot.width=8, repr.plot.height=4)\n",
    "\n",
    "#Visual test with moving mean\n",
    "moving_mean_vs_OG(unemployment_series_diff_BoxCox, 'Unemployment')"
   ]
  },
  {
   "cell_type": "markdown",
   "metadata": {},
   "source": [
    "The mean doesn't keep constant over time. But it's pretty much stabilized than the original. "
   ]
  },
  {
   "cell_type": "code",
   "execution_count": 142,
   "metadata": {},
   "outputs": [
    {
     "name": "stdout",
     "output_type": "stream",
     "text": [
      "[1] \"Mean of the first partition = -0.00214067749525186\"\n",
      "[1] \"Mean of the second partition = 0.00865249652724783\"\n",
      "[1] \"Variance of the first partition = 0.000395562582618369\"\n",
      "[1] \"Variance of the second partition = 0.000461876423770257\"\n"
     ]
    }
   ],
   "source": [
    "#Numerical test contrasting mean and variance at different time points\n",
    "Stationarity_descriptive_test(unemployment_series_diff_BoxCox)"
   ]
  },
  {
   "cell_type": "markdown",
   "metadata": {},
   "source": [
    "Both mean and variance don't change almost anything over time because of the transformation."
   ]
  },
  {
   "cell_type": "code",
   "execution_count": 143,
   "metadata": {},
   "outputs": [
    {
     "name": "stdout",
     "output_type": "stream",
     "text": [
      "Augmented Dickey-Fuller Test \n",
      "alternative: stationary \n",
      " \n",
      "Type 1: no drift no trend \n",
      "     lag   ADF p.value\n",
      "[1,]   0 -6.99    0.01\n",
      "[2,]   1 -5.47    0.01\n",
      "[3,]   2 -5.85    0.01\n",
      "[4,]   3 -6.82    0.01\n",
      "[5,]   4 -5.60    0.01\n",
      "Type 2: with drift no trend \n",
      "     lag   ADF p.value\n",
      "[1,]   0 -7.07    0.01\n",
      "[2,]   1 -5.54    0.01\n",
      "[3,]   2 -5.97    0.01\n",
      "[4,]   3 -7.01    0.01\n",
      "[5,]   4 -5.79    0.01\n",
      "Type 3: with drift and trend \n",
      "     lag   ADF p.value\n",
      "[1,]   0 -7.26    0.01\n",
      "[2,]   1 -5.69    0.01\n",
      "[3,]   2 -6.12    0.01\n",
      "[4,]   3 -7.28    0.01\n",
      "[5,]   4 -6.05    0.01\n",
      "---- \n",
      "Note: in fact, p.value = 0.01 means p.value <= 0.01 \n",
      "$type1\n",
      "     lag       ADF p.value\n",
      "[1,]   0 -6.991311    0.01\n",
      "[2,]   1 -5.466519    0.01\n",
      "[3,]   2 -5.849840    0.01\n",
      "[4,]   3 -6.824337    0.01\n",
      "[5,]   4 -5.604817    0.01\n",
      "\n",
      "$type2\n",
      "     lag       ADF p.value\n",
      "[1,]   0 -7.065758    0.01\n",
      "[2,]   1 -5.541354    0.01\n",
      "[3,]   2 -5.970686    0.01\n",
      "[4,]   3 -7.014796    0.01\n",
      "[5,]   4 -5.791035    0.01\n",
      "\n",
      "$type3\n",
      "     lag       ADF p.value\n",
      "[1,]   0 -7.259174    0.01\n",
      "[2,]   1 -5.693843    0.01\n",
      "[3,]   2 -6.123717    0.01\n",
      "[4,]   3 -7.276171    0.01\n",
      "[5,]   4 -6.054951    0.01\n",
      "\n",
      "KPSS Unit Root Test \n",
      "alternative: nonstationary \n",
      " \n",
      "Type 1: no drift no trend \n",
      " lag  stat p.value\n",
      "   3 0.335     0.1\n",
      "----- \n",
      " Type 2: with drift no trend \n",
      " lag  stat p.value\n",
      "   3 0.322     0.1\n",
      "----- \n",
      " Type 1: with drift and trend \n",
      " lag   stat p.value\n",
      "   3 0.0902     0.1\n",
      "----------- \n",
      "Note: p.value = 0.01 means p.value <= 0.01 \n",
      "    : p.value = 0.10 means p.value >= 0.10 \n",
      "       lag       kpss p.value\n",
      "type 1   3 0.33485105     0.1\n",
      "type 2   3 0.32152740     0.1\n",
      "type 3   3 0.09016679     0.1\n"
     ]
    }
   ],
   "source": [
    "#KPSS and ADF hypothesis tests for stationarity\n",
    "Stationarity_statistical_tests(unemployment_series_diff_BoxCox)"
   ]
  },
  {
   "cell_type": "markdown",
   "metadata": {},
   "source": [
    "Our new time series passed both tests with 1 difference. **We have a stationary series now**."
   ]
  },
  {
   "cell_type": "markdown",
   "metadata": {},
   "source": [
    "Also we can use 'ndiffs' function to see the number of differences required for our time series to pass the stationarity statistical tests. We are going to check this out for the 'kpss', 'adf' and 'pp' tests."
   ]
  },
  {
   "cell_type": "code",
   "execution_count": 144,
   "metadata": {
    "scrolled": true
   },
   "outputs": [
    {
     "data": {
      "text/html": [
       "1"
      ],
      "text/latex": [
       "1"
      ],
      "text/markdown": [
       "1"
      ],
      "text/plain": [
       "[1] 1"
      ]
     },
     "metadata": {},
     "output_type": "display_data"
    }
   ],
   "source": [
    "ndiffs(unemployment_1998_2017, test= 'kpss')"
   ]
  },
  {
   "cell_type": "code",
   "execution_count": 145,
   "metadata": {},
   "outputs": [
    {
     "data": {
      "text/html": [
       "1"
      ],
      "text/latex": [
       "1"
      ],
      "text/markdown": [
       "1"
      ],
      "text/plain": [
       "[1] 1"
      ]
     },
     "metadata": {},
     "output_type": "display_data"
    }
   ],
   "source": [
    "ndiffs(unemployment_1998_2017, test= 'adf')"
   ]
  },
  {
   "cell_type": "code",
   "execution_count": 146,
   "metadata": {},
   "outputs": [
    {
     "data": {
      "text/html": [
       "1"
      ],
      "text/latex": [
       "1"
      ],
      "text/markdown": [
       "1"
      ],
      "text/plain": [
       "[1] 1"
      ]
     },
     "metadata": {},
     "output_type": "display_data"
    }
   ],
   "source": [
    "ndiffs(unemployment_1998_2017, test='pp')"
   ]
  },
  {
   "cell_type": "markdown",
   "metadata": {},
   "source": [
    "We have converted the data into stationary but we have seen that there is a seasonal component in our time series. We are going to take a look at the seasonal component to see if one order differencing is enough to get rid of it:"
   ]
  },
  {
   "cell_type": "code",
   "execution_count": 147,
   "metadata": {},
   "outputs": [
    {
     "data": {
      "text/plain": [
       "               Jan           Feb           Mar           Apr           May\n",
       "1998                0.0010073315 -0.0119286844 -0.0230165142 -0.0261896968\n",
       "1999  0.0303967148  0.0009642367 -0.0120247212 -0.0229364321 -0.0265024059\n",
       "2000  0.0304491215  0.0009231112 -0.0121183918 -0.0228535865 -0.0268116786\n",
       "2001  0.0305080171  0.0008759011 -0.0123253867 -0.0227612753 -0.0272423985\n",
       "2002  0.0307308381  0.0008102252 -0.0125475518 -0.0226808386 -0.0276791515\n",
       "2003  0.0309975882  0.0009244063 -0.0132924143 -0.0223623836 -0.0289470079\n",
       "2004  0.0311448871  0.0009927203 -0.0140968316 -0.0221171710 -0.0303046395\n",
       "2005  0.0311391303  0.0013252117 -0.0128626486 -0.0206754739 -0.0307431358\n",
       "2006  0.0309235163  0.0018512700 -0.0114580204 -0.0190864533 -0.0310707304\n",
       "2007  0.0305751141  0.0033700971 -0.0091884378 -0.0181874108 -0.0295529249\n",
       "2008  0.0302078358  0.0050115674 -0.0067880352 -0.0171493712 -0.0278929724\n",
       "2009  0.0299382623  0.0060380017 -0.0059290388 -0.0164074987 -0.0267817843\n",
       "2010  0.0297547523  0.0069016338 -0.0052140173 -0.0157907736 -0.0257684130\n",
       "2011  0.0296493658  0.0073560641 -0.0048282684 -0.0154842172 -0.0253407915\n",
       "2012  0.0295400584  0.0077690442 -0.0044836106 -0.0152183929 -0.0249490309\n",
       "2013  0.0294388479  0.0081039590 -0.0041877391 -0.0150181237 -0.0246447552\n",
       "               Jun           Jul           Aug           Sep           Oct\n",
       "1998 -0.0150094119 -0.0112748670  0.0101633553  0.0084591246  0.0189781534\n",
       "1999 -0.0150905380 -0.0109772136  0.0104176546  0.0080264114  0.0189841223\n",
       "2000 -0.0151675548 -0.0106746744  0.0106776162  0.0076000142  0.0189970610\n",
       "2001 -0.0154009811 -0.0100229162  0.0111226480  0.0067881867  0.0190195294\n",
       "2002 -0.0156345990 -0.0093639307  0.0115823264  0.0059985023  0.0190716375\n",
       "2003 -0.0163039912 -0.0078098923  0.0128554381  0.0038126166  0.0193347541\n",
       "2004 -0.0170796914 -0.0063784726  0.0139896205  0.0014767018  0.0194367417\n",
       "2005 -0.0174109978 -0.0077539745  0.0140376956  0.0007834558  0.0190034076\n",
       "2006 -0.0176678240 -0.0090960902  0.0140780628  0.0000464400  0.0184902419\n",
       "2007 -0.0191210507 -0.0105309523  0.0129310930  0.0013153959  0.0184809194\n",
       "2008 -0.0204289806 -0.0118208159  0.0119288231  0.0027243805  0.0186069548\n",
       "2009 -0.0210418857 -0.0122233330  0.0111142098  0.0036214900  0.0189831383\n",
       "2010 -0.0217252767 -0.0126669291  0.0102879243  0.0045319872  0.0193977697\n",
       "2011 -0.0220224472 -0.0129596011  0.0099659709  0.0049513568  0.0195362256\n",
       "2012 -0.0223506073 -0.0132763456  0.0096268622  0.0053602417  0.0196708673\n",
       "2013 -0.0226062011 -0.0135204754  0.0093541705  0.0057118925  0.0197754988\n",
       "               Nov           Dec\n",
       "1998  0.0192186366 -0.0006253271\n",
       "1999  0.0192511392 -0.0003867381\n",
       "2000  0.0192907459 -0.0001409106\n",
       "2001  0.0193509146  0.0002306233\n",
       "2002  0.0194464982  0.0006433474\n",
       "2003  0.0195295272  0.0019888582\n",
       "2004  0.0194493679  0.0031691212\n",
       "2005  0.0182118240  0.0036134326\n",
       "2006  0.0168713345  0.0039316846\n",
       "2007  0.0148844297  0.0020539598\n",
       "2008  0.0130230327  0.0002918928\n",
       "2009  0.0122591243 -0.0009686893\n",
       "2010  0.0115502844 -0.0021575821\n",
       "2011  0.0111966063 -0.0025951477\n",
       "2012  0.0108438664 -0.0030270225\n",
       "2013  0.0105718113 -0.0033928631"
      ]
     },
     "metadata": {},
     "output_type": "display_data"
    }
   ],
   "source": [
    "STL_unemployment_diff_BoxCox_components <- mstl(unemployment_series_diff_BoxCox)\n",
    "seasonal(STL_unemployment_diff_BoxCox_components)"
   ]
  },
  {
   "cell_type": "markdown",
   "metadata": {},
   "source": [
    "First order differencing seems enough to get what we need. The values are close to zero and have clearly changed since the original series seasonal component."
   ]
  },
  {
   "cell_type": "markdown",
   "metadata": {},
   "source": [
    "### 4.2. Best ARIMA model"
   ]
  },
  {
   "cell_type": "markdown",
   "metadata": {},
   "source": [
    "We already have the data that meet the conditions Arima asks us for. With this data we would pass on to calculate the appropriate parameters (p, d, q and P, D, Q) to choose the model that best fits with the values of acf and pcf function applied to our transformated and differenced time series.\n",
    "\n",
    "However, we have chosen to use the 'auto.arima' function that facilitates our work choosing the best parameters.\n",
    "\n",
    "The 'auto.arima' function returns the best ARIMA model according to either AIC, AICc or BIC value. The function conducts a search over possible model within the order constraints provided."
   ]
  },
  {
   "cell_type": "markdown",
   "metadata": {},
   "source": [
    "#### 4.2.1. Estimating"
   ]
  },
  {
   "cell_type": "markdown",
   "metadata": {},
   "source": [
    "Throughout the analysis we have arrived at a series of conclusions that we are going to include in the model parameters:\n",
    "\n",
    "- We know that our original time series is non stationary.\n",
    "- We know that our original time series has a seasonal component.\n",
    "- We know that our series works better with a transformation; lambda = 0 will perform a BoxCox transformation.\n",
    "- Also, we know that we only need a differencing of first order to make the data stationary (d=1)so we will be more efficient and we will introduce the parameter d in the function."
   ]
  },
  {
   "cell_type": "code",
   "execution_count": 148,
   "metadata": {},
   "outputs": [
    {
     "name": "stdout",
     "output_type": "stream",
     "text": [
      "\n",
      " Fitting models using approximations to speed things up...\n",
      "\n",
      " ARIMA(2,1,2)(1,1,1)[12]                    : -979.151\n",
      " ARIMA(0,1,0)(0,1,0)[12]                    : -875.0878\n",
      " ARIMA(1,1,0)(1,1,0)[12]                    : -929.6678\n",
      " ARIMA(0,1,1)(0,1,1)[12]                    : -930.2846\n",
      " ARIMA(2,1,2)(0,1,1)[12]                    : -983.9068\n",
      " ARIMA(2,1,2)(0,1,0)[12]                    : -951.3143\n",
      " ARIMA(2,1,2)(0,1,2)[12]                    : -985.5519\n",
      " ARIMA(1,1,2)(0,1,2)[12]                    : -985.4349\n",
      " ARIMA(3,1,2)(0,1,2)[12]                    : -982.4634\n",
      " ARIMA(2,1,1)(0,1,2)[12]                    : -984.8463\n",
      " ARIMA(2,1,3)(0,1,2)[12]                    : -984.434\n",
      " ARIMA(1,1,1)(0,1,2)[12]                    : -986.5143\n",
      " ARIMA(1,1,1)(1,1,2)[12]                    : -980.9001\n",
      " ARIMA(1,1,1)(0,1,1)[12]                    : -987.9454\n",
      " ARIMA(2,1,1)(0,1,1)[12]                    : -986.2146\n",
      " ARIMA(1,1,0)(0,1,1)[12]                    : -956.218\n",
      " ARIMA(1,1,2)(0,1,1)[12]                    : -986.8173\n",
      " ARIMA(0,1,0)(0,1,1)[12]                    : -898.3374\n",
      " ARIMA(1,1,1)(1,1,1)[12]                    : -982.7068\n",
      " ARIMA(1,1,1)(0,1,0)[12]                    : -938.4038\n",
      "\n",
      " Now re-fitting the best model(s) without approximations...\n",
      "\n",
      " ARIMA(1,1,1)(0,1,1)[12]                    : -1097.107\n",
      "\n",
      " Best model: ARIMA(1,1,1)(0,1,1)[12]                    \n",
      "\n"
     ]
    }
   ],
   "source": [
    "unemployment_series_best_arima <- auto.arima(unemployment_series_train, \n",
    "                                             d = 1, trace = TRUE, stationary = FALSE,\n",
    "                                             seasonal = TRUE, lambda = 0)"
   ]
  },
  {
   "cell_type": "markdown",
   "metadata": {},
   "source": [
    "The arima model that best fits is this: ARIMA(1,1,1)(0,1,1)[12]\n",
    "\n",
    "To check if it is valid we will observe how its residuals behave as we did in the Holt-Winters model."
   ]
  },
  {
   "cell_type": "code",
   "execution_count": 149,
   "metadata": {},
   "outputs": [
    {
     "data": {
      "image/png": "[encoded data removed]",
      "text/plain": [
       "Plot with title \"Arima Residuals\""
      ]
     },
     "metadata": {},
     "output_type": "display_data"
    },
    {
     "data": {
      "image/png": "[encoded data removed]",
      "text/plain": [
       "Plot with title \"Ljung-Box Q Test\""
      ]
     },
     "metadata": {},
     "output_type": "display_data"
    }
   ],
   "source": [
    "options(repr.plot.width=8, repr.plot.height=3)\n",
    "\n",
    "#Autocorrelation\n",
    "unemployment_series_best_arima_residuals  <- residuals(unemployment_series_best_arima)\n",
    "acf(unemployment_series_best_arima_residuals, main = 'Arima Residuals', lag.max = 140)\n",
    "box_test_unemployment_series_best_arima <- LjungBoxTest (unemployment_series_best_arima_residuals)\n",
    "plot(box_test_unemployment_series_best_arima[,3],main= \"Ljung-Box Q Test\", ylab= \"P-values\", xlab= \"Lag\")"
   ]
  },
  {
   "cell_type": "code",
   "execution_count": 150,
   "metadata": {},
   "outputs": [
    {
     "data": {
      "text/html": [
       "<table>\n",
       "<thead><tr><th></th><th scope=col>m</th><th scope=col>Qm</th><th scope=col>pvalue</th></tr></thead>\n",
       "<tbody>\n",
       "\t<tr><th scope=row></th><td> 1       </td><td> 0.08    </td><td>0.7747695</td></tr>\n",
       "\t<tr><th scope=row></th><td> 2       </td><td> 0.13    </td><td>0.9391299</td></tr>\n",
       "\t<tr><th scope=row></th><td> 3       </td><td> 0.31    </td><td>0.9581496</td></tr>\n",
       "\t<tr><th scope=row></th><td> 4       </td><td> 0.82    </td><td>0.9357528</td></tr>\n",
       "\t<tr><th scope=row></th><td> 5       </td><td> 2.84    </td><td>0.7248360</td></tr>\n",
       "\t<tr><th scope=row></th><td> 6       </td><td> 7.88    </td><td>0.2471117</td></tr>\n",
       "\t<tr><th scope=row></th><td> 7       </td><td> 9.42    </td><td>0.2236902</td></tr>\n",
       "\t<tr><th scope=row></th><td> 8       </td><td> 9.87    </td><td>0.2741834</td></tr>\n",
       "\t<tr><th scope=row></th><td> 9       </td><td> 9.87    </td><td>0.3609995</td></tr>\n",
       "\t<tr><th scope=row></th><td>10       </td><td>11.17    </td><td>0.3442077</td></tr>\n",
       "\t<tr><th scope=row></th><td>11       </td><td>12.77    </td><td>0.3083728</td></tr>\n",
       "\t<tr><th scope=row></th><td>12       </td><td>12.79    </td><td>0.3843741</td></tr>\n",
       "\t<tr><th scope=row></th><td>13       </td><td>13.05    </td><td>0.4440324</td></tr>\n",
       "\t<tr><th scope=row></th><td>14       </td><td>13.65    </td><td>0.4758079</td></tr>\n",
       "\t<tr><th scope=row></th><td>15       </td><td>14.86    </td><td>0.4613782</td></tr>\n",
       "\t<tr><th scope=row></th><td>16       </td><td>15.03    </td><td>0.5222613</td></tr>\n",
       "\t<tr><th scope=row></th><td>17       </td><td>15.48    </td><td>0.5606504</td></tr>\n",
       "\t<tr><th scope=row></th><td>18       </td><td>16.75    </td><td>0.5401784</td></tr>\n",
       "\t<tr><th scope=row></th><td>19       </td><td>16.83    </td><td>0.6015402</td></tr>\n",
       "\t<tr><th scope=row></th><td>20       </td><td>17.11    </td><td>0.6458874</td></tr>\n",
       "\t<tr><th scope=row></th><td>21       </td><td>17.80    </td><td>0.6617549</td></tr>\n",
       "\t<tr><th scope=row></th><td>22       </td><td>17.91    </td><td>0.7111597</td></tr>\n",
       "\t<tr><th scope=row></th><td>23       </td><td>18.18    </td><td>0.7475779</td></tr>\n",
       "\t<tr><th scope=row></th><td>24       </td><td>18.62    </td><td>0.7719033</td></tr>\n",
       "\t<tr><th scope=row></th><td>25       </td><td>18.69    </td><td>0.8119168</td></tr>\n",
       "\t<tr><th scope=row></th><td>26       </td><td>19.93    </td><td>0.7949943</td></tr>\n",
       "\t<tr><th scope=row></th><td>27       </td><td>19.95    </td><td>0.8326615</td></tr>\n",
       "\t<tr><th scope=row></th><td>28       </td><td>20.17    </td><td>0.8582893</td></tr>\n",
       "\t<tr><th scope=row></th><td>29       </td><td>20.17    </td><td>0.8876335</td></tr>\n",
       "\t<tr><th scope=row></th><td>30       </td><td>23.32    </td><td>0.8018554</td></tr>\n",
       "</tbody>\n",
       "</table>\n"
      ],
      "text/latex": [
       "\\begin{tabular}{r|lll}\n",
       "  & m & Qm & pvalue\\\\\n",
       "\\hline\n",
       "\t &  1        &  0.08     & 0.7747695\\\\\n",
       "\t &  2        &  0.13     & 0.9391299\\\\\n",
       "\t &  3        &  0.31     & 0.9581496\\\\\n",
       "\t &  4        &  0.82     & 0.9357528\\\\\n",
       "\t &  5        &  2.84     & 0.7248360\\\\\n",
       "\t &  6        &  7.88     & 0.2471117\\\\\n",
       "\t &  7        &  9.42     & 0.2236902\\\\\n",
       "\t &  8        &  9.87     & 0.2741834\\\\\n",
       "\t &  9        &  9.87     & 0.3609995\\\\\n",
       "\t & 10        & 11.17     & 0.3442077\\\\\n",
       "\t & 11        & 12.77     & 0.3083728\\\\\n",
       "\t & 12        & 12.79     & 0.3843741\\\\\n",
       "\t & 13        & 13.05     & 0.4440324\\\\\n",
       "\t & 14        & 13.65     & 0.4758079\\\\\n",
       "\t & 15        & 14.86     & 0.4613782\\\\\n",
       "\t & 16        & 15.03     & 0.5222613\\\\\n",
       "\t & 17        & 15.48     & 0.5606504\\\\\n",
       "\t & 18        & 16.75     & 0.5401784\\\\\n",
       "\t & 19        & 16.83     & 0.6015402\\\\\n",
       "\t & 20        & 17.11     & 0.6458874\\\\\n",
       "\t & 21        & 17.80     & 0.6617549\\\\\n",
       "\t & 22        & 17.91     & 0.7111597\\\\\n",
       "\t & 23        & 18.18     & 0.7475779\\\\\n",
       "\t & 24        & 18.62     & 0.7719033\\\\\n",
       "\t & 25        & 18.69     & 0.8119168\\\\\n",
       "\t & 26        & 19.93     & 0.7949943\\\\\n",
       "\t & 27        & 19.95     & 0.8326615\\\\\n",
       "\t & 28        & 20.17     & 0.8582893\\\\\n",
       "\t & 29        & 20.17     & 0.8876335\\\\\n",
       "\t & 30        & 23.32     & 0.8018554\\\\\n",
       "\\end{tabular}\n"
      ],
      "text/markdown": [
       "\n",
       "| <!--/--> | m | Qm | pvalue | \n",
       "|---|---|---|---|---|---|---|---|---|---|---|---|---|---|---|---|---|---|---|---|---|---|---|---|---|---|---|---|---|---|\n",
       "|  |  1        |  0.08     | 0.7747695 | \n",
       "|  |  2        |  0.13     | 0.9391299 | \n",
       "|  |  3        |  0.31     | 0.9581496 | \n",
       "|  |  4        |  0.82     | 0.9357528 | \n",
       "|  |  5        |  2.84     | 0.7248360 | \n",
       "|  |  6        |  7.88     | 0.2471117 | \n",
       "|  |  7        |  9.42     | 0.2236902 | \n",
       "|  |  8        |  9.87     | 0.2741834 | \n",
       "|  |  9        |  9.87     | 0.3609995 | \n",
       "|  | 10        | 11.17     | 0.3442077 | \n",
       "|  | 11        | 12.77     | 0.3083728 | \n",
       "|  | 12        | 12.79     | 0.3843741 | \n",
       "|  | 13        | 13.05     | 0.4440324 | \n",
       "|  | 14        | 13.65     | 0.4758079 | \n",
       "|  | 15        | 14.86     | 0.4613782 | \n",
       "|  | 16        | 15.03     | 0.5222613 | \n",
       "|  | 17        | 15.48     | 0.5606504 | \n",
       "|  | 18        | 16.75     | 0.5401784 | \n",
       "|  | 19        | 16.83     | 0.6015402 | \n",
       "|  | 20        | 17.11     | 0.6458874 | \n",
       "|  | 21        | 17.80     | 0.6617549 | \n",
       "|  | 22        | 17.91     | 0.7111597 | \n",
       "|  | 23        | 18.18     | 0.7475779 | \n",
       "|  | 24        | 18.62     | 0.7719033 | \n",
       "|  | 25        | 18.69     | 0.8119168 | \n",
       "|  | 26        | 19.93     | 0.7949943 | \n",
       "|  | 27        | 19.95     | 0.8326615 | \n",
       "|  | 28        | 20.17     | 0.8582893 | \n",
       "|  | 29        | 20.17     | 0.8876335 | \n",
       "|  | 30        | 23.32     | 0.8018554 | \n",
       "\n",
       "\n"
      ],
      "text/plain": [
       " m  Qm    pvalue   \n",
       "  1  0.08 0.7747695\n",
       "  2  0.13 0.9391299\n",
       "  3  0.31 0.9581496\n",
       "  4  0.82 0.9357528\n",
       "  5  2.84 0.7248360\n",
       "  6  7.88 0.2471117\n",
       "  7  9.42 0.2236902\n",
       "  8  9.87 0.2741834\n",
       "  9  9.87 0.3609995\n",
       " 10 11.17 0.3442077\n",
       " 11 12.77 0.3083728\n",
       " 12 12.79 0.3843741\n",
       " 13 13.05 0.4440324\n",
       " 14 13.65 0.4758079\n",
       " 15 14.86 0.4613782\n",
       " 16 15.03 0.5222613\n",
       " 17 15.48 0.5606504\n",
       " 18 16.75 0.5401784\n",
       " 19 16.83 0.6015402\n",
       " 20 17.11 0.6458874\n",
       " 21 17.80 0.6617549\n",
       " 22 17.91 0.7111597\n",
       " 23 18.18 0.7475779\n",
       " 24 18.62 0.7719033\n",
       " 25 18.69 0.8119168\n",
       " 26 19.93 0.7949943\n",
       " 27 19.95 0.8326615\n",
       " 28 20.17 0.8582893\n",
       " 29 20.17 0.8876335\n",
       " 30 23.32 0.8018554"
      ]
     },
     "metadata": {},
     "output_type": "display_data"
    }
   ],
   "source": [
    "box_test_unemployment_series_best_arima"
   ]
  },
  {
   "cell_type": "markdown",
   "metadata": {},
   "source": [
    "*The ACF of the residuals shows non-significant autocorrelations.*\n",
    "*Also, all the values of p for the Ljung-Box Q test are above 0.05, which indicates that the data is not dependent.*"
   ]
  },
  {
   "cell_type": "code",
   "execution_count": 151,
   "metadata": {},
   "outputs": [
    {
     "data": {
      "image/png": "[encoded data removed]",
      "text/plain": [
       "Plot with title \"Normal Q-Q Plot\""
      ]
     },
     "metadata": {},
     "output_type": "display_data"
    },
    {
     "data": {
      "image/png": "[encoded data removed]",
      "text/plain": [
       "Plot with title \"Histogram of residuals\""
      ]
     },
     "metadata": {},
     "output_type": "display_data"
    }
   ],
   "source": [
    "options(repr.plot.width=8, repr.plot.height=3)\n",
    "\n",
    "#Normal Q-Q plot\n",
    "qqnorm(unemployment_series_best_arima_residuals)\n",
    "qqline(unemployment_series_best_arima_residuals)\n",
    "\n",
    "#Histogram\n",
    "hist(unemployment_series_best_arima_residuals, prob = T, col=\"6\", main = 'Histogram of residuals', xlab = 'Residuals')\n",
    "lines(density (na.omit(unemployment_series_best_arima_residuals)), col=\"4\")\n",
    "\n"
   ]
  },
  {
   "cell_type": "markdown",
   "metadata": {},
   "source": [
    "*The values are close to normal.*"
   ]
  },
  {
   "cell_type": "markdown",
   "metadata": {},
   "source": [
    "As the graphs support the assumption that there is no pattern in the residuals, we can go ahead and calculate the forecast."
   ]
  },
  {
   "cell_type": "markdown",
   "metadata": {},
   "source": [
    "#### 4.2.2  Forecasting"
   ]
  },
  {
   "cell_type": "markdown",
   "metadata": {},
   "source": [
    "The following is the plot of the next two years forectasts (blue line). The shadowed blue is the 80% of confidence and the shadowed grey is the 95%."
   ]
  },
  {
   "cell_type": "code",
   "execution_count": 152,
   "metadata": {},
   "outputs": [
    {
     "data": {
      "image/png": "[encoded data removed]",
      "text/plain": [
       "Plot with title \"Unemployment Forecasts from ARIMA\""
      ]
     },
     "metadata": {},
     "output_type": "display_data"
    }
   ],
   "source": [
    "options(repr.plot.width=8, repr.plot.height=4)\n",
    "\n",
    "unemployment_series_best_arima_forecast <- forecast::forecast(unemployment_series_best_arima, h = 48)\n",
    "plot(unemployment_series_best_arima_forecast, main= 'Unemployment Forecasts from ARIMA')"
   ]
  },
  {
   "cell_type": "code",
   "execution_count": 153,
   "metadata": {},
   "outputs": [
    {
     "data": {
      "text/plain": [
       "         Point Forecast   Lo 80   Hi 80   Lo 95    Hi 95\n",
       "Jan 2014        4799872 4728853 4871959 4691684  4910556\n",
       "Feb 2014        4820626 4704309 4939819 4643875  5004105\n",
       "Mar 2014        4783085 4623563 4948111 4541282  5037763\n",
       "Apr 2014        4695566 4494973 4905111 4392277  5019797\n",
       "May 2014        4572224 4333309 4824311 4211931  4963336\n",
       "Jun 2014        4437300 4162534 4730203 4024037  4893004\n",
       "Jul 2014        4353375 4041309 4689537 3885272  4877875\n",
       "Aug 2014        4357396 4002278 4744022 3826160  4962389\n",
       "Sep 2014        4376251 3976579 4816093 3780000  5066554\n",
       "Oct 2014        4448617 3998677 4949184 3779219  5236582\n",
       "Nov 2014        4463625 3968555 5020454 3729112  5342813\n",
       "Dec 2014        4400133 3869405 5003655 3614881  5355963\n",
       "Jan 2015        4503082 3908726 5187815 3626540  5591486\n",
       "Feb 2015        4532736 3882184 5292304 3576498  5744641\n",
       "Mar 2015        4506986 3807799 5334558 3482714  5832498\n",
       "Apr 2015        4433377 3694086 5320621 3354026  5860071\n",
       "May 2015        4325071 3553756 5263795 3202798  5840594\n",
       "Jun 2015        4204912 3406677 5190187 3047424  5802044\n",
       "Jul 2015        4132307 3300811 5173262 2930686  5826609\n",
       "Aug 2015        4142670 3262504 5260290 2875014  5969262\n",
       "Sep 2015        4166805 3235314 5366485 2829736  6135649\n",
       "Oct 2015        4241668 3247150 5540782 2818886  6382576\n",
       "Nov 2015        4261626 3216705 5645981 2771670  6552532\n",
       "Dec 2015        4206264 3130600 5651521 2677479  6607951\n",
       "Jan 2016        4309756 3158268 5881071 2679059  6933030\n",
       "Feb 2016        4342964 3132805 6020590 2635366  7157006\n",
       "Mar 2016        4322822 3068866 6089152 2559844  7299973\n",
       "Apr 2016        4256427 2973407 6093069 2459142  7367274\n",
       "May 2016        4156318 2856743 6047087 2342450  7374748\n",
       "Jun 2016        4044401 2734901 5980904 2223286  7357210\n",
       "Jul 2016        3977864 2646354 5979321 2132794  7419096\n",
       "Aug 2016        3990959 2612065 6097762 2087041  7631740\n",
       "Sep 2016        4017171 2586689 6238734 2048999  7875878\n",
       "Oct 2016        4092190 2592472 6459478 2035969  8225082\n",
       "Nov 2016        4114140 2564465 6600266 1996764  8476788\n",
       "Dec 2016        4063205 2492167 6624610 1923963  8581056\n",
       "Jan 2017        4165605 2511085 6910266 1920868  9033555\n",
       "Feb 2017        4200010 2487788 7090671 1885452  9355893\n",
       "Mar 2017        4182699 2434025 7187671 1827485  9573249\n",
       "Apr 2017        4120470 2355402 7208227 1751827  9691752\n",
       "May 2017        4025413 2260161 7169379 1665107  9731478\n",
       "Jun 2017        3918725 2161023 7106080 1576978  9737869\n",
       "Jul 2017        3855835 2088366 7119184 1509488  9849341\n",
       "Aug 2017        3870024 2058610 7275338 1473851 10161875\n",
       "Sep 2017        3896862 2035899 7458884 1443764 10518017\n",
       "Oct 2017        3970998 2037690 7738579 1431356 11016705\n",
       "Nov 2017        3993593 2012906 7923262 1400604 11387078\n",
       "Dec 2017        3945356 1953428 7968467 1346441 11560719"
      ]
     },
     "metadata": {},
     "output_type": "display_data"
    }
   ],
   "source": [
    "unemployment_series_best_arima_forecast"
   ]
  },
  {
   "cell_type": "markdown",
   "metadata": {},
   "source": [
    "- Evaluating forecasts"
   ]
  },
  {
   "cell_type": "code",
   "execution_count": 155,
   "metadata": {},
   "outputs": [
    {
     "data": {
      "text/html": [
       "<table>\n",
       "<thead><tr><th></th><th scope=col>ME</th><th scope=col>RMSE</th><th scope=col>MAE</th><th scope=col>MPE</th><th scope=col>MAPE</th><th scope=col>MASE</th><th scope=col>ACF1</th><th scope=col>Theil's U</th></tr></thead>\n",
       "<tbody>\n",
       "\t<tr><th scope=row>Training set</th><td>  -1428.576  </td><td> 30357.69    </td><td> 21765.56    </td><td>-8.669142e-05</td><td>0.8019051    </td><td>0.0899717    </td><td>0.1190780    </td><td>      NA     </td></tr>\n",
       "\t<tr><th scope=row>Test set</th><td>-203809.674  </td><td>292518.29    </td><td>222359.28    </td><td>-5.631870e+00</td><td>6.0454071    </td><td>0.9191607    </td><td>0.9547942    </td><td>4.722261     </td></tr>\n",
       "</tbody>\n",
       "</table>\n"
      ],
      "text/latex": [
       "\\begin{tabular}{r|llllllll}\n",
       "  & ME & RMSE & MAE & MPE & MAPE & MASE & ACF1 & Theil's U\\\\\n",
       "\\hline\n",
       "\tTraining set &   -1428.576   &  30357.69     &  21765.56     & -8.669142e-05 & 0.8019051     & 0.0899717     & 0.1190780     &       NA     \\\\\n",
       "\tTest set & -203809.674   & 292518.29     & 222359.28     & -5.631870e+00 & 6.0454071     & 0.9191607     & 0.9547942     & 4.722261     \\\\\n",
       "\\end{tabular}\n"
      ],
      "text/markdown": [
       "\n",
       "| <!--/--> | ME | RMSE | MAE | MPE | MAPE | MASE | ACF1 | Theil's U | \n",
       "|---|---|\n",
       "| Training set |   -1428.576   |  30357.69     |  21765.56     | -8.669142e-05 | 0.8019051     | 0.0899717     | 0.1190780     |       NA      | \n",
       "| Test set | -203809.674   | 292518.29     | 222359.28     | -5.631870e+00 | 6.0454071     | 0.9191607     | 0.9547942     | 4.722261      | \n",
       "\n",
       "\n"
      ],
      "text/plain": [
       "             ME          RMSE      MAE       MPE           MAPE      MASE     \n",
       "Training set   -1428.576  30357.69  21765.56 -8.669142e-05 0.8019051 0.0899717\n",
       "Test set     -203809.674 292518.29 222359.28 -5.631870e+00 6.0454071 0.9191607\n",
       "             ACF1      Theil's U\n",
       "Training set 0.1190780       NA \n",
       "Test set     0.9547942 4.722261 "
      ]
     },
     "metadata": {},
     "output_type": "display_data"
    },
    {
     "data": {
      "image/png": "[encoded data removed]",
      "text/plain": [
       "Plot with title \"Unemployment in Spain Forecasts\""
      ]
     },
     "metadata": {},
     "output_type": "display_data"
    }
   ],
   "source": [
    "options(repr.plot.width=8, repr.plot.height=4)\n",
    "\n",
    "#Accuracy and plot\n",
    "accuracy(unemployment_series_best_arima_forecast, unemployment_series_test)\n",
    "plot(unemployment_series_best_arima_forecast, main = 'Unemployment in Spain Forecasts')\n",
    "lines(unemployment_1998_2017)"
   ]
  },
  {
   "cell_type": "markdown",
   "metadata": {},
   "source": [
    "#### *Comparison of predictive models carried out throughout the project on unemployment in Spain.*"
   ]
  },
  {
   "cell_type": "code",
   "execution_count": 157,
   "metadata": {},
   "outputs": [
    {
     "data": {
      "text/html": [
       "<table>\n",
       "<thead><tr><th></th><th scope=col>ME</th><th scope=col>RMSE</th><th scope=col>MAE</th><th scope=col>MPE</th><th scope=col>MAPE</th><th scope=col>MASE</th><th scope=col>ACF1</th><th scope=col>Theil's U</th></tr></thead>\n",
       "<tbody>\n",
       "\t<tr><th scope=row>Training set</th><td>  -237.377 </td><td> 24879.43  </td><td> 19067.31  </td><td>0.02890272 </td><td>0.7259244  </td><td>0.07881806 </td><td>-0.00131463</td><td>      NA   </td></tr>\n",
       "\t<tr><th scope=row>Test set</th><td>305160.613 </td><td>338260.77  </td><td>305160.61  </td><td>7.97975919 </td><td>7.9797592  </td><td>1.26143442 </td><td> 0.90775605</td><td>5.283993   </td></tr>\n",
       "</tbody>\n",
       "</table>\n"
      ],
      "text/latex": [
       "\\begin{tabular}{r|llllllll}\n",
       "  & ME & RMSE & MAE & MPE & MAPE & MASE & ACF1 & Theil's U\\\\\n",
       "\\hline\n",
       "\tTraining set &   -237.377  &  24879.43   &  19067.31   & 0.02890272  & 0.7259244   & 0.07881806  & -0.00131463 &       NA   \\\\\n",
       "\tTest set & 305160.613  & 338260.77   & 305160.61   & 7.97975919  & 7.9797592   & 1.26143442  &  0.90775605 & 5.283993   \\\\\n",
       "\\end{tabular}\n"
      ],
      "text/markdown": [
       "\n",
       "| <!--/--> | ME | RMSE | MAE | MPE | MAPE | MASE | ACF1 | Theil's U | \n",
       "|---|---|\n",
       "| Training set |   -237.377  |  24879.43   |  19067.31   | 0.02890272  | 0.7259244   | 0.07881806  | -0.00131463 |       NA    | \n",
       "| Test set | 305160.613  | 338260.77   | 305160.61   | 7.97975919  | 7.9797592   | 1.26143442  |  0.90775605 | 5.283993    | \n",
       "\n",
       "\n"
      ],
      "text/plain": [
       "             ME         RMSE      MAE       MPE        MAPE      MASE      \n",
       "Training set   -237.377  24879.43  19067.31 0.02890272 0.7259244 0.07881806\n",
       "Test set     305160.613 338260.77 305160.61 7.97975919 7.9797592 1.26143442\n",
       "             ACF1        Theil's U\n",
       "Training set -0.00131463       NA \n",
       "Test set      0.90775605 5.283993 "
      ]
     },
     "metadata": {},
     "output_type": "display_data"
    },
    {
     "data": {
      "text/html": [
       "<table>\n",
       "<thead><tr><th></th><th scope=col>ME</th><th scope=col>RMSE</th><th scope=col>MAE</th><th scope=col>MPE</th><th scope=col>MAPE</th><th scope=col>MASE</th><th scope=col>ACF1</th><th scope=col>Theil's U</th></tr></thead>\n",
       "<tbody>\n",
       "\t<tr><th scope=row>Training set</th><td>3.775468e-05</td><td>1.386847e-02</td><td>1.060466e-02</td><td>5.206797e-04</td><td> 0.07200647 </td><td>1.277312e-01</td><td>0.102849    </td><td>      NA    </td></tr>\n",
       "\t<tr><th scope=row>Test set</th><td>4.046162e+06</td><td>4.068976e+06</td><td>4.046162e+06</td><td>9.999962e+01</td><td>99.99962191 </td><td>4.873527e+07</td><td>0.931097    </td><td>57.03858    </td></tr>\n",
       "</tbody>\n",
       "</table>\n"
      ],
      "text/latex": [
       "\\begin{tabular}{r|llllllll}\n",
       "  & ME & RMSE & MAE & MPE & MAPE & MASE & ACF1 & Theil's U\\\\\n",
       "\\hline\n",
       "\tTraining set & 3.775468e-05 & 1.386847e-02 & 1.060466e-02 & 5.206797e-04 &  0.07200647  & 1.277312e-01 & 0.102849     &       NA    \\\\\n",
       "\tTest set & 4.046162e+06 & 4.068976e+06 & 4.046162e+06 & 9.999962e+01 & 99.99962191  & 4.873527e+07 & 0.931097     & 57.03858    \\\\\n",
       "\\end{tabular}\n"
      ],
      "text/markdown": [
       "\n",
       "| <!--/--> | ME | RMSE | MAE | MPE | MAPE | MASE | ACF1 | Theil's U | \n",
       "|---|---|\n",
       "| Training set | 3.775468e-05 | 1.386847e-02 | 1.060466e-02 | 5.206797e-04 |  0.07200647  | 1.277312e-01 | 0.102849     |       NA     | \n",
       "| Test set | 4.046162e+06 | 4.068976e+06 | 4.046162e+06 | 9.999962e+01 | 99.99962191  | 4.873527e+07 | 0.931097     | 57.03858     | \n",
       "\n",
       "\n"
      ],
      "text/plain": [
       "             ME           RMSE         MAE          MPE          MAPE       \n",
       "Training set 3.775468e-05 1.386847e-02 1.060466e-02 5.206797e-04  0.07200647\n",
       "Test set     4.046162e+06 4.068976e+06 4.046162e+06 9.999962e+01 99.99962191\n",
       "             MASE         ACF1     Theil's U\n",
       "Training set 1.277312e-01 0.102849       NA \n",
       "Test set     4.873527e+07 0.931097 57.03858 "
      ]
     },
     "metadata": {},
     "output_type": "display_data"
    },
    {
     "data": {
      "text/html": [
       "<table>\n",
       "<thead><tr><th></th><th scope=col>ME</th><th scope=col>RMSE</th><th scope=col>MAE</th><th scope=col>MPE</th><th scope=col>MAPE</th><th scope=col>MASE</th><th scope=col>ACF1</th><th scope=col>Theil's U</th></tr></thead>\n",
       "<tbody>\n",
       "\t<tr><th scope=row>Training set</th><td>  -1428.576  </td><td> 30357.69    </td><td> 21765.56    </td><td>-8.669142e-05</td><td>0.8019051    </td><td>0.0899717    </td><td>0.1190780    </td><td>      NA     </td></tr>\n",
       "\t<tr><th scope=row>Test set</th><td>-203809.674  </td><td>292518.29    </td><td>222359.28    </td><td>-5.631870e+00</td><td>6.0454071    </td><td>0.9191607    </td><td>0.9547942    </td><td>4.722261     </td></tr>\n",
       "</tbody>\n",
       "</table>\n"
      ],
      "text/latex": [
       "\\begin{tabular}{r|llllllll}\n",
       "  & ME & RMSE & MAE & MPE & MAPE & MASE & ACF1 & Theil's U\\\\\n",
       "\\hline\n",
       "\tTraining set &   -1428.576   &  30357.69     &  21765.56     & -8.669142e-05 & 0.8019051     & 0.0899717     & 0.1190780     &       NA     \\\\\n",
       "\tTest set & -203809.674   & 292518.29     & 222359.28     & -5.631870e+00 & 6.0454071     & 0.9191607     & 0.9547942     & 4.722261     \\\\\n",
       "\\end{tabular}\n"
      ],
      "text/markdown": [
       "\n",
       "| <!--/--> | ME | RMSE | MAE | MPE | MAPE | MASE | ACF1 | Theil's U | \n",
       "|---|---|\n",
       "| Training set |   -1428.576   |  30357.69     |  21765.56     | -8.669142e-05 | 0.8019051     | 0.0899717     | 0.1190780     |       NA      | \n",
       "| Test set | -203809.674   | 292518.29     | 222359.28     | -5.631870e+00 | 6.0454071     | 0.9191607     | 0.9547942     | 4.722261      | \n",
       "\n",
       "\n"
      ],
      "text/plain": [
       "             ME          RMSE      MAE       MPE           MAPE      MASE     \n",
       "Training set   -1428.576  30357.69  21765.56 -8.669142e-05 0.8019051 0.0899717\n",
       "Test set     -203809.674 292518.29 222359.28 -5.631870e+00 6.0454071 0.9191607\n",
       "             ACF1      Theil's U\n",
       "Training set 0.1190780       NA \n",
       "Test set     0.9547942 4.722261 "
      ]
     },
     "metadata": {},
     "output_type": "display_data"
    }
   ],
   "source": [
    "accuracy (forecast_decomposed_unemployment_series, unemployment_series_test)\n",
    "accuracy (unemployment_series_hw_future_forecasts, unemployment_series_test)\n",
    "accuracy (unemployment_series_best_arima_forecast, unemployment_series_test)"
   ]
  },
  {
   "cell_type": "markdown",
   "metadata": {},
   "source": [
    "The last ARIMA offers the best results. Looking at the MASE and MAPE metrics is not a bad model and will work better than a naive one.\n",
    "\n",
    "That the numbers are so big and that they are not distributed in a normal way is not a great help, even when they are transformed, they still give very dispersed results.\n",
    "\n",
    "Unemployment is a stochastic process that has undergone many changes in Spain in recent years but is easier to forecast than suicide.\n",
    "\n",
    "However, to improve, we will have to study models that give more weight to the most recent values, non-parametric methods or, simply, procedures where which we have more variables than a univariate time series."
   ]
  },
  {
   "cell_type": "markdown",
   "metadata": {},
   "source": [
    "# Relation between Unemployment and Suicide in Spain"
   ]
  },
  {
   "cell_type": "markdown",
   "metadata": {},
   "source": [
    "In this section, we are going to analyze the statistical relationship of the time series of Suicide and Unemployment in Spain (1998-2017).\n",
    "\n",
    "\n",
    "For this we are going to use the proposals of Box and Jenkins (1970) for the calculation of the cross-correlation function and the subsequent identification of the potential transfer between two systems (two time series).\n",
    "\n",
    "\n",
    "In this approach the relationship between two time series is studied; relationship that does not pretend to be explanatory, but informs us about the strength and direction of the possible impact of a series 'input' to another series 'output'."
   ]
  },
  {
   "cell_type": "markdown",
   "metadata": {},
   "source": [
    "The point of this methodology and not calculate the cross correlation between the original time series is that when an input series is autocorrelated, the direct cross-correlation function between the input and response series gives a misleading indication of the relation between the input and response series.\n",
    "\n",
    "Is usually called prewhitening. You first fit an ARIMA model for the input series sufficient to reduce the residuals to white noise; then, filter the input series with this model to get the white noise residual series. You then filter the output series with the same model and cross-correlate the filtered response with the filtered input series."
   ]
  },
  {
   "cell_type": "markdown",
   "metadata": {},
   "source": [
    "## 1. Prewhitening Method and Cross Correlation"
   ]
  },
  {
   "cell_type": "markdown",
   "metadata": {},
   "source": [
    "## 1.1. Input series Arima\n",
    "\n",
    "The model must be valid and return residuals that behave like a white noise."
   ]
  },
  {
   "cell_type": "code",
   "execution_count": 158,
   "metadata": {},
   "outputs": [
    {
     "data": {
      "text/plain": [
       "Series: unemployment_series_train \n",
       "ARIMA(1,1,1)(0,1,1)[12] \n",
       "Box Cox transformation: lambda= 0 \n",
       "\n",
       "Coefficients:\n",
       "        ar1      ma1     sma1\n",
       "      0.943  -0.6450  -0.6650\n",
       "s.e.  0.032   0.0617   0.0824\n",
       "\n",
       "sigma^2 estimated as 0.0001353:  log likelihood=552.67\n",
       "AIC=-1097.34   AICc=-1097.11   BIC=-1084.59"
      ]
     },
     "metadata": {},
     "output_type": "display_data"
    }
   ],
   "source": [
    "#We can take the model that we have calculated in the Unemployment series section\n",
    "unemployment_series_best_arima"
   ]
  },
  {
   "cell_type": "code",
   "execution_count": 159,
   "metadata": {},
   "outputs": [
    {
     "data": {
      "text/html": [
       "<table>\n",
       "<thead><tr><th></th><th scope=col>m</th><th scope=col>Qm</th><th scope=col>pvalue</th></tr></thead>\n",
       "<tbody>\n",
       "\t<tr><th scope=row></th><td> 1       </td><td> 0.08    </td><td>0.7747695</td></tr>\n",
       "\t<tr><th scope=row></th><td> 2       </td><td> 0.13    </td><td>0.9391299</td></tr>\n",
       "\t<tr><th scope=row></th><td> 3       </td><td> 0.31    </td><td>0.9581496</td></tr>\n",
       "\t<tr><th scope=row></th><td> 4       </td><td> 0.82    </td><td>0.9357528</td></tr>\n",
       "\t<tr><th scope=row></th><td> 5       </td><td> 2.84    </td><td>0.7248360</td></tr>\n",
       "\t<tr><th scope=row></th><td> 6       </td><td> 7.88    </td><td>0.2471117</td></tr>\n",
       "\t<tr><th scope=row></th><td> 7       </td><td> 9.42    </td><td>0.2236902</td></tr>\n",
       "\t<tr><th scope=row></th><td> 8       </td><td> 9.87    </td><td>0.2741834</td></tr>\n",
       "\t<tr><th scope=row></th><td> 9       </td><td> 9.87    </td><td>0.3609995</td></tr>\n",
       "\t<tr><th scope=row></th><td>10       </td><td>11.17    </td><td>0.3442077</td></tr>\n",
       "\t<tr><th scope=row></th><td>11       </td><td>12.77    </td><td>0.3083728</td></tr>\n",
       "\t<tr><th scope=row></th><td>12       </td><td>12.79    </td><td>0.3843741</td></tr>\n",
       "\t<tr><th scope=row></th><td>13       </td><td>13.05    </td><td>0.4440324</td></tr>\n",
       "\t<tr><th scope=row></th><td>14       </td><td>13.65    </td><td>0.4758079</td></tr>\n",
       "\t<tr><th scope=row></th><td>15       </td><td>14.86    </td><td>0.4613782</td></tr>\n",
       "\t<tr><th scope=row></th><td>16       </td><td>15.03    </td><td>0.5222613</td></tr>\n",
       "\t<tr><th scope=row></th><td>17       </td><td>15.48    </td><td>0.5606504</td></tr>\n",
       "\t<tr><th scope=row></th><td>18       </td><td>16.75    </td><td>0.5401784</td></tr>\n",
       "\t<tr><th scope=row></th><td>19       </td><td>16.83    </td><td>0.6015402</td></tr>\n",
       "\t<tr><th scope=row></th><td>20       </td><td>17.11    </td><td>0.6458874</td></tr>\n",
       "\t<tr><th scope=row></th><td>21       </td><td>17.80    </td><td>0.6617549</td></tr>\n",
       "\t<tr><th scope=row></th><td>22       </td><td>17.91    </td><td>0.7111597</td></tr>\n",
       "\t<tr><th scope=row></th><td>23       </td><td>18.18    </td><td>0.7475779</td></tr>\n",
       "\t<tr><th scope=row></th><td>24       </td><td>18.62    </td><td>0.7719033</td></tr>\n",
       "\t<tr><th scope=row></th><td>25       </td><td>18.69    </td><td>0.8119168</td></tr>\n",
       "\t<tr><th scope=row></th><td>26       </td><td>19.93    </td><td>0.7949943</td></tr>\n",
       "\t<tr><th scope=row></th><td>27       </td><td>19.95    </td><td>0.8326615</td></tr>\n",
       "\t<tr><th scope=row></th><td>28       </td><td>20.17    </td><td>0.8582893</td></tr>\n",
       "\t<tr><th scope=row></th><td>29       </td><td>20.17    </td><td>0.8876335</td></tr>\n",
       "\t<tr><th scope=row></th><td>30       </td><td>23.32    </td><td>0.8018554</td></tr>\n",
       "</tbody>\n",
       "</table>\n"
      ],
      "text/latex": [
       "\\begin{tabular}{r|lll}\n",
       "  & m & Qm & pvalue\\\\\n",
       "\\hline\n",
       "\t &  1        &  0.08     & 0.7747695\\\\\n",
       "\t &  2        &  0.13     & 0.9391299\\\\\n",
       "\t &  3        &  0.31     & 0.9581496\\\\\n",
       "\t &  4        &  0.82     & 0.9357528\\\\\n",
       "\t &  5        &  2.84     & 0.7248360\\\\\n",
       "\t &  6        &  7.88     & 0.2471117\\\\\n",
       "\t &  7        &  9.42     & 0.2236902\\\\\n",
       "\t &  8        &  9.87     & 0.2741834\\\\\n",
       "\t &  9        &  9.87     & 0.3609995\\\\\n",
       "\t & 10        & 11.17     & 0.3442077\\\\\n",
       "\t & 11        & 12.77     & 0.3083728\\\\\n",
       "\t & 12        & 12.79     & 0.3843741\\\\\n",
       "\t & 13        & 13.05     & 0.4440324\\\\\n",
       "\t & 14        & 13.65     & 0.4758079\\\\\n",
       "\t & 15        & 14.86     & 0.4613782\\\\\n",
       "\t & 16        & 15.03     & 0.5222613\\\\\n",
       "\t & 17        & 15.48     & 0.5606504\\\\\n",
       "\t & 18        & 16.75     & 0.5401784\\\\\n",
       "\t & 19        & 16.83     & 0.6015402\\\\\n",
       "\t & 20        & 17.11     & 0.6458874\\\\\n",
       "\t & 21        & 17.80     & 0.6617549\\\\\n",
       "\t & 22        & 17.91     & 0.7111597\\\\\n",
       "\t & 23        & 18.18     & 0.7475779\\\\\n",
       "\t & 24        & 18.62     & 0.7719033\\\\\n",
       "\t & 25        & 18.69     & 0.8119168\\\\\n",
       "\t & 26        & 19.93     & 0.7949943\\\\\n",
       "\t & 27        & 19.95     & 0.8326615\\\\\n",
       "\t & 28        & 20.17     & 0.8582893\\\\\n",
       "\t & 29        & 20.17     & 0.8876335\\\\\n",
       "\t & 30        & 23.32     & 0.8018554\\\\\n",
       "\\end{tabular}\n"
      ],
      "text/markdown": [
       "\n",
       "| <!--/--> | m | Qm | pvalue | \n",
       "|---|---|---|---|---|---|---|---|---|---|---|---|---|---|---|---|---|---|---|---|---|---|---|---|---|---|---|---|---|---|\n",
       "|  |  1        |  0.08     | 0.7747695 | \n",
       "|  |  2        |  0.13     | 0.9391299 | \n",
       "|  |  3        |  0.31     | 0.9581496 | \n",
       "|  |  4        |  0.82     | 0.9357528 | \n",
       "|  |  5        |  2.84     | 0.7248360 | \n",
       "|  |  6        |  7.88     | 0.2471117 | \n",
       "|  |  7        |  9.42     | 0.2236902 | \n",
       "|  |  8        |  9.87     | 0.2741834 | \n",
       "|  |  9        |  9.87     | 0.3609995 | \n",
       "|  | 10        | 11.17     | 0.3442077 | \n",
       "|  | 11        | 12.77     | 0.3083728 | \n",
       "|  | 12        | 12.79     | 0.3843741 | \n",
       "|  | 13        | 13.05     | 0.4440324 | \n",
       "|  | 14        | 13.65     | 0.4758079 | \n",
       "|  | 15        | 14.86     | 0.4613782 | \n",
       "|  | 16        | 15.03     | 0.5222613 | \n",
       "|  | 17        | 15.48     | 0.5606504 | \n",
       "|  | 18        | 16.75     | 0.5401784 | \n",
       "|  | 19        | 16.83     | 0.6015402 | \n",
       "|  | 20        | 17.11     | 0.6458874 | \n",
       "|  | 21        | 17.80     | 0.6617549 | \n",
       "|  | 22        | 17.91     | 0.7111597 | \n",
       "|  | 23        | 18.18     | 0.7475779 | \n",
       "|  | 24        | 18.62     | 0.7719033 | \n",
       "|  | 25        | 18.69     | 0.8119168 | \n",
       "|  | 26        | 19.93     | 0.7949943 | \n",
       "|  | 27        | 19.95     | 0.8326615 | \n",
       "|  | 28        | 20.17     | 0.8582893 | \n",
       "|  | 29        | 20.17     | 0.8876335 | \n",
       "|  | 30        | 23.32     | 0.8018554 | \n",
       "\n",
       "\n"
      ],
      "text/plain": [
       " m  Qm    pvalue   \n",
       "  1  0.08 0.7747695\n",
       "  2  0.13 0.9391299\n",
       "  3  0.31 0.9581496\n",
       "  4  0.82 0.9357528\n",
       "  5  2.84 0.7248360\n",
       "  6  7.88 0.2471117\n",
       "  7  9.42 0.2236902\n",
       "  8  9.87 0.2741834\n",
       "  9  9.87 0.3609995\n",
       " 10 11.17 0.3442077\n",
       " 11 12.77 0.3083728\n",
       " 12 12.79 0.3843741\n",
       " 13 13.05 0.4440324\n",
       " 14 13.65 0.4758079\n",
       " 15 14.86 0.4613782\n",
       " 16 15.03 0.5222613\n",
       " 17 15.48 0.5606504\n",
       " 18 16.75 0.5401784\n",
       " 19 16.83 0.6015402\n",
       " 20 17.11 0.6458874\n",
       " 21 17.80 0.6617549\n",
       " 22 17.91 0.7111597\n",
       " 23 18.18 0.7475779\n",
       " 24 18.62 0.7719033\n",
       " 25 18.69 0.8119168\n",
       " 26 19.93 0.7949943\n",
       " 27 19.95 0.8326615\n",
       " 28 20.17 0.8582893\n",
       " 29 20.17 0.8876335\n",
       " 30 23.32 0.8018554"
      ]
     },
     "metadata": {},
     "output_type": "display_data"
    }
   ],
   "source": [
    "#As we saw before, the residuals of this model pass the Ljung Box test and don't have autocorrelation between them\n",
    "LjungBoxTest(unemployment_series_best_arima_residuals)"
   ]
  },
  {
   "cell_type": "markdown",
   "metadata": {},
   "source": [
    "## 1.2. Filtering the output series\n",
    "Pre-whiten the output series by applying the model of the input series to the output series. The same parameters must serve to make both models valid.\n",
    "\n"
   ]
  },
  {
   "cell_type": "code",
   "execution_count": 198,
   "metadata": {},
   "outputs": [],
   "source": [
    "#Applying the model\n",
    "prewhitening_filtered_suicide_series <-  arima(suicide_1998_2017,\n",
    "                                               order = c(1,1,1), \n",
    "                                               seasonal = list(order = c(0,1,1), period = 12))"
   ]
  },
  {
   "cell_type": "code",
   "execution_count": 199,
   "metadata": {},
   "outputs": [
    {
     "data": {
      "text/html": [
       "<table>\n",
       "<thead><tr><th></th><th scope=col>m</th><th scope=col>Qm</th><th scope=col>pvalue</th></tr></thead>\n",
       "<tbody>\n",
       "\t<tr><th scope=row></th><td> 1          </td><td> 0.02       </td><td>0.9023216518</td></tr>\n",
       "\t<tr><th scope=row></th><td> 2          </td><td> 1.30       </td><td>0.5231827142</td></tr>\n",
       "\t<tr><th scope=row></th><td> 3          </td><td> 1.38       </td><td>0.7113080529</td></tr>\n",
       "\t<tr><th scope=row></th><td> 4          </td><td> 1.87       </td><td>0.7598560858</td></tr>\n",
       "\t<tr><th scope=row></th><td> 5          </td><td> 6.04       </td><td>0.3024636472</td></tr>\n",
       "\t<tr><th scope=row></th><td> 6          </td><td> 6.28       </td><td>0.3924915299</td></tr>\n",
       "\t<tr><th scope=row></th><td> 7          </td><td>15.49       </td><td>0.0302441778</td></tr>\n",
       "\t<tr><th scope=row></th><td> 8          </td><td>16.98       </td><td>0.0303514457</td></tr>\n",
       "\t<tr><th scope=row></th><td> 9          </td><td>18.07       </td><td>0.0343807067</td></tr>\n",
       "\t<tr><th scope=row></th><td>10          </td><td>18.68       </td><td>0.0445164096</td></tr>\n",
       "\t<tr><th scope=row></th><td>11          </td><td>31.78       </td><td>0.0008270218</td></tr>\n",
       "\t<tr><th scope=row></th><td>12          </td><td>31.82       </td><td>0.0014769083</td></tr>\n",
       "\t<tr><th scope=row></th><td>13          </td><td>34.65       </td><td>0.0009572297</td></tr>\n",
       "\t<tr><th scope=row></th><td>14          </td><td>36.70       </td><td>0.0008185819</td></tr>\n",
       "\t<tr><th scope=row></th><td>15          </td><td>36.75       </td><td>0.0013754024</td></tr>\n",
       "\t<tr><th scope=row></th><td>16          </td><td>36.95       </td><td>0.0021286342</td></tr>\n",
       "\t<tr><th scope=row></th><td>17          </td><td>37.79       </td><td>0.0026305081</td></tr>\n",
       "\t<tr><th scope=row></th><td>18          </td><td>43.31       </td><td>0.0007229957</td></tr>\n",
       "\t<tr><th scope=row></th><td>19          </td><td>43.43       </td><td>0.0011328682</td></tr>\n",
       "\t<tr><th scope=row></th><td>20          </td><td>45.22       </td><td>0.0010302109</td></tr>\n",
       "\t<tr><th scope=row></th><td>21          </td><td>46.98       </td><td>0.0009441655</td></tr>\n",
       "\t<tr><th scope=row></th><td>22          </td><td>47.18       </td><td>0.0013917031</td></tr>\n",
       "\t<tr><th scope=row></th><td>23          </td><td>47.80       </td><td>0.0017742178</td></tr>\n",
       "\t<tr><th scope=row></th><td>24          </td><td>47.95       </td><td>0.0025630512</td></tr>\n",
       "\t<tr><th scope=row></th><td>25          </td><td>47.95       </td><td>0.0037845860</td></tr>\n",
       "\t<tr><th scope=row></th><td>26          </td><td>47.97       </td><td>0.0054507053</td></tr>\n",
       "\t<tr><th scope=row></th><td>27          </td><td>49.14       </td><td>0.0057153732</td></tr>\n",
       "\t<tr><th scope=row></th><td>28          </td><td>49.14       </td><td>0.0080475535</td></tr>\n",
       "\t<tr><th scope=row></th><td>29          </td><td>56.53       </td><td>0.0016330181</td></tr>\n",
       "\t<tr><th scope=row></th><td>30          </td><td>56.92       </td><td>0.0021378483</td></tr>\n",
       "</tbody>\n",
       "</table>\n"
      ],
      "text/latex": [
       "\\begin{tabular}{r|lll}\n",
       "  & m & Qm & pvalue\\\\\n",
       "\\hline\n",
       "\t &  1           &  0.02        & 0.9023216518\\\\\n",
       "\t &  2           &  1.30        & 0.5231827142\\\\\n",
       "\t &  3           &  1.38        & 0.7113080529\\\\\n",
       "\t &  4           &  1.87        & 0.7598560858\\\\\n",
       "\t &  5           &  6.04        & 0.3024636472\\\\\n",
       "\t &  6           &  6.28        & 0.3924915299\\\\\n",
       "\t &  7           & 15.49        & 0.0302441778\\\\\n",
       "\t &  8           & 16.98        & 0.0303514457\\\\\n",
       "\t &  9           & 18.07        & 0.0343807067\\\\\n",
       "\t & 10           & 18.68        & 0.0445164096\\\\\n",
       "\t & 11           & 31.78        & 0.0008270218\\\\\n",
       "\t & 12           & 31.82        & 0.0014769083\\\\\n",
       "\t & 13           & 34.65        & 0.0009572297\\\\\n",
       "\t & 14           & 36.70        & 0.0008185819\\\\\n",
       "\t & 15           & 36.75        & 0.0013754024\\\\\n",
       "\t & 16           & 36.95        & 0.0021286342\\\\\n",
       "\t & 17           & 37.79        & 0.0026305081\\\\\n",
       "\t & 18           & 43.31        & 0.0007229957\\\\\n",
       "\t & 19           & 43.43        & 0.0011328682\\\\\n",
       "\t & 20           & 45.22        & 0.0010302109\\\\\n",
       "\t & 21           & 46.98        & 0.0009441655\\\\\n",
       "\t & 22           & 47.18        & 0.0013917031\\\\\n",
       "\t & 23           & 47.80        & 0.0017742178\\\\\n",
       "\t & 24           & 47.95        & 0.0025630512\\\\\n",
       "\t & 25           & 47.95        & 0.0037845860\\\\\n",
       "\t & 26           & 47.97        & 0.0054507053\\\\\n",
       "\t & 27           & 49.14        & 0.0057153732\\\\\n",
       "\t & 28           & 49.14        & 0.0080475535\\\\\n",
       "\t & 29           & 56.53        & 0.0016330181\\\\\n",
       "\t & 30           & 56.92        & 0.0021378483\\\\\n",
       "\\end{tabular}\n"
      ],
      "text/markdown": [
       "\n",
       "| <!--/--> | m | Qm | pvalue | \n",
       "|---|---|---|---|---|---|---|---|---|---|---|---|---|---|---|---|---|---|---|---|---|---|---|---|---|---|---|---|---|---|\n",
       "|  |  1           |  0.02        | 0.9023216518 | \n",
       "|  |  2           |  1.30        | 0.5231827142 | \n",
       "|  |  3           |  1.38        | 0.7113080529 | \n",
       "|  |  4           |  1.87        | 0.7598560858 | \n",
       "|  |  5           |  6.04        | 0.3024636472 | \n",
       "|  |  6           |  6.28        | 0.3924915299 | \n",
       "|  |  7           | 15.49        | 0.0302441778 | \n",
       "|  |  8           | 16.98        | 0.0303514457 | \n",
       "|  |  9           | 18.07        | 0.0343807067 | \n",
       "|  | 10           | 18.68        | 0.0445164096 | \n",
       "|  | 11           | 31.78        | 0.0008270218 | \n",
       "|  | 12           | 31.82        | 0.0014769083 | \n",
       "|  | 13           | 34.65        | 0.0009572297 | \n",
       "|  | 14           | 36.70        | 0.0008185819 | \n",
       "|  | 15           | 36.75        | 0.0013754024 | \n",
       "|  | 16           | 36.95        | 0.0021286342 | \n",
       "|  | 17           | 37.79        | 0.0026305081 | \n",
       "|  | 18           | 43.31        | 0.0007229957 | \n",
       "|  | 19           | 43.43        | 0.0011328682 | \n",
       "|  | 20           | 45.22        | 0.0010302109 | \n",
       "|  | 21           | 46.98        | 0.0009441655 | \n",
       "|  | 22           | 47.18        | 0.0013917031 | \n",
       "|  | 23           | 47.80        | 0.0017742178 | \n",
       "|  | 24           | 47.95        | 0.0025630512 | \n",
       "|  | 25           | 47.95        | 0.0037845860 | \n",
       "|  | 26           | 47.97        | 0.0054507053 | \n",
       "|  | 27           | 49.14        | 0.0057153732 | \n",
       "|  | 28           | 49.14        | 0.0080475535 | \n",
       "|  | 29           | 56.53        | 0.0016330181 | \n",
       "|  | 30           | 56.92        | 0.0021378483 | \n",
       "\n",
       "\n"
      ],
      "text/plain": [
       " m  Qm    pvalue      \n",
       "  1  0.02 0.9023216518\n",
       "  2  1.30 0.5231827142\n",
       "  3  1.38 0.7113080529\n",
       "  4  1.87 0.7598560858\n",
       "  5  6.04 0.3024636472\n",
       "  6  6.28 0.3924915299\n",
       "  7 15.49 0.0302441778\n",
       "  8 16.98 0.0303514457\n",
       "  9 18.07 0.0343807067\n",
       " 10 18.68 0.0445164096\n",
       " 11 31.78 0.0008270218\n",
       " 12 31.82 0.0014769083\n",
       " 13 34.65 0.0009572297\n",
       " 14 36.70 0.0008185819\n",
       " 15 36.75 0.0013754024\n",
       " 16 36.95 0.0021286342\n",
       " 17 37.79 0.0026305081\n",
       " 18 43.31 0.0007229957\n",
       " 19 43.43 0.0011328682\n",
       " 20 45.22 0.0010302109\n",
       " 21 46.98 0.0009441655\n",
       " 22 47.18 0.0013917031\n",
       " 23 47.80 0.0017742178\n",
       " 24 47.95 0.0025630512\n",
       " 25 47.95 0.0037845860\n",
       " 26 47.97 0.0054507053\n",
       " 27 49.14 0.0057153732\n",
       " 28 49.14 0.0080475535\n",
       " 29 56.53 0.0016330181\n",
       " 30 56.92 0.0021378483"
      ]
     },
     "metadata": {},
     "output_type": "display_data"
    }
   ],
   "source": [
    "#Checking the residuals\n",
    "prewhitening_filtered_suicide_series_residuals <- residuals(prewhitening_filtered_suicide_series)\n",
    "LjungBoxTest(prewhitening_filtered_suicide_series_residuals)"
   ]
  },
  {
   "cell_type": "code",
   "execution_count": 200,
   "metadata": {},
   "outputs": [
    {
     "data": {
      "image/png": "[encoded data removed]",
      "text/plain": [
       "Plot with title \"Normal Q-Q Plot\""
      ]
     },
     "metadata": {},
     "output_type": "display_data"
    },
    {
     "data": {
      "image/png": "[encoded data removed]",
      "text/plain": [
       "Plot with title \"Histogram of residuals\""
      ]
     },
     "metadata": {},
     "output_type": "display_data"
    }
   ],
   "source": [
    "options(repr.plot.width=8, repr.plot.height=3)\n",
    "\n",
    "#Normal Q-Q plot\n",
    "qqnorm(prewhitening_filtered_suicide_series_residuals)\n",
    "qqline(prewhitening_filtered_suicide_series_residuals)\n",
    "\n",
    "#Histogram\n",
    "hist(prewhitening_filtered_suicide_series_residuals, prob = T, col=\"6\", main = 'Histogram of residuals', xlab = 'Residuals')\n",
    "lines(density (na.omit(prewhitening_filtered_suicide_series_residuals)), col=\"4\")"
   ]
  },
  {
   "cell_type": "markdown",
   "metadata": {},
   "source": [
    "They don't behave like white noise, they don't pass the Ljung Box test. Seems that suicide cannot be filtered by unemployment because suicide series have no correlation with unemployment and because its residuals are very autocorrelated. However, we are going to calculate the cross correlation to see what happens. "
   ]
  },
  {
   "cell_type": "markdown",
   "metadata": {},
   "source": [
    "## 1.3. Cross Correlation function\n",
    "Calculate the cross-correlation function between the residuals of both models and diagnose the transfer."
   ]
  },
  {
   "cell_type": "code",
   "execution_count": 201,
   "metadata": {},
   "outputs": [
    {
     "data": {
      "image/png": "[encoded data removed]",
      "text/plain": [
       "Plot with title \" Cross Correlation Unemployment and Suicide in Spain\""
      ]
     },
     "metadata": {},
     "output_type": "display_data"
    }
   ],
   "source": [
    "options(repr.plot.width=8, repr.plot.height=3)\n",
    "\n",
    "cross_correlation_after_prewhitening  <- ccf(unemployment_series_best_arima_residuals,\n",
    "                                             prewhitening_filtered_suicide_series_residuals,\n",
    "                                             lag = 12, xlab = 'k', ylab = '', main = ' Cross Correlation Unemployment and Suicide in Spain' )"
   ]
  },
  {
   "cell_type": "code",
   "execution_count": 202,
   "metadata": {},
   "outputs": [
    {
     "data": {
      "text/plain": [
       "\n",
       "Autocorrelations of series 'X', by lag\n",
       "\n",
       "-1.0000 -0.9167 -0.8333 -0.7500 -0.6667 -0.5833 -0.5000 -0.4167 -0.3333 -0.2500 \n",
       "  0.047   0.082   0.131  -0.024   0.209  -0.005  -0.140   0.054  -0.161  -0.109 \n",
       "-0.1667 -0.0833  0.0000  0.0833  0.1667  0.2500  0.3333  0.4167  0.5000  0.5833 \n",
       "  0.190  -0.066   0.028   0.083   0.002   0.037   0.149  -0.173   0.064  -0.145 \n",
       " 0.6667  0.7500  0.8333  0.9167  1.0000 \n",
       " -0.050   0.011   0.005  -0.019  -0.063 "
      ]
     },
     "metadata": {},
     "output_type": "display_data"
    }
   ],
   "source": [
    "cross_correlation_after_prewhitening"
   ]
  },
  {
   "cell_type": "markdown",
   "metadata": {},
   "source": [
    "#### *Diagnosis*\n",
    "\n",
    "The cross correlation function measures not only the strength of the relationship, but also its direction. This last property is useful to identify causal variables. \n",
    "\n",
    "For this reason, it is important to examine the cross correlation function for both the positive values of k and for the negatives. For negative values of k, the cross correlation function describes the linear influence of the past values of Y(time) over X(time). For positive values of k, the cross correlation function indicates the linear influence of the past values of xt on yt.\n",
    "\n",
    "In our case, the cross correlation function shows a significant correlation in both negative nd postive values of k several times, so it could be said that there is an impact from one series to another in both directions to what we thought. Suicide 'would explain', in some aspect, unemployment in Spain and vice versa.\n",
    "\n",
    "This does not make much sense, and its not valid cause suicide couldn't be filtered by unemployment, but it does lead us to other conclusions that bring us closer to understanding the phenomenon of suicide in Spain.\n",
    "\n",
    "**So suicide and unemployment are difficult to forecast and they aren't correlated.**\n",
    "\n",
    "\n",
    "In the next steps we will use the same methodology to find correlations between suicide data and other macro variables (such as GDP) to get a little closer to understanding the high number of suicides in Spain."
   ]
  },
  {
   "cell_type": "markdown",
   "metadata": {},
   "source": [
    "## TABLEAU CONNECTION\n",
    "If we want to perform some interactive graphs in Tableau we have to create a connection between R and Tableau running the code below.\n",
    "Also if you want to get deeper into the graphs showned in the visual report I have created for this project, you'll have to run the code below. The report and the graphs are in the 'Report_and_Graphs' folder of the repository you have downloaded: https://github.com/tonilopezrosell/understandingsuicide\n",
    "\n",
    "More details about this in the README.md of this project."
   ]
  },
  {
   "cell_type": "code",
   "execution_count": null,
   "metadata": {},
   "outputs": [],
   "source": [
    "# install.packages(\"Rserve\")\n",
    "# library(Rserve)\n",
    "\n",
    "# Rserve()"
   ]
  }
 ],
 "metadata": {
  "kernelspec": {
   "display_name": "R",
   "language": "R",
   "name": "ir"
  },
  "language_info": {
   "codemirror_mode": "r",
   "file_extension": ".r",
   "mimetype": "text/x-r-source",
   "name": "R",
   "pygments_lexer": "r",
   "version": "3.5.1"
  }
 },
 "nbformat": 4,
 "nbformat_minor": 2
}
